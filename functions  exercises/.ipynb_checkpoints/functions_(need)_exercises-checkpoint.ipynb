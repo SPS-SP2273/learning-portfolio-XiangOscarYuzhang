{
 "cells": [
  {
   "attachments": {},
   "cell_type": "markdown",
   "id": "123456",
   "metadata": {},
   "source": [
    "<div style=\"text-align:left;font-size:2em\"><span style=\"font-weight:bolder;font-size:1.25em\">SP2273 | Learning Portfolio</span><br><br><span style=\"font-weight:bold;color:darkred\">Functions (Need) Exercises</span></div>"
   ]
  },
  {
   "cell_type": "markdown",
   "id": "75b9c39d-3f25-4cc9-a88b-d917031d4648",
   "metadata": {},
   "source": [
    "### Exercise1"
   ]
  },
  {
   "cell_type": "code",
   "execution_count": 1,
   "id": "3dfc6221-d35d-4a0d-93a4-c94de735aac4",
   "metadata": {},
   "outputs": [],
   "source": [
    "def greeting(name):\n",
    "    if name == 'Batman':\n",
    "        return 'Hello Batman! So, nice to meet you!'\n",
    "    return f'Hello {name}!'"
   ]
  },
  {
   "cell_type": "markdown",
   "id": "e255bee0-6916-42d3-a943-0c2bbe0d2071",
   "metadata": {},
   "source": [
    "Since when we define the function greeting, the default variable we set is itself, when some string other than Batman was input in the function, it will return the default \"Hello ....\" "
   ]
  },
  {
   "cell_type": "code",
   "execution_count": 2,
   "id": "6cb072da-e6db-4d67-8043-363c5d742780",
   "metadata": {},
   "outputs": [
    {
     "data": {
      "text/plain": [
       "'Hello Batman! So, nice to meet you!'"
      ]
     },
     "execution_count": 2,
     "metadata": {},
     "output_type": "execute_result"
    }
   ],
   "source": [
    "greeting('Batman')"
   ]
  },
  {
   "cell_type": "code",
   "execution_count": 3,
   "id": "a6f48719-cccd-4f2f-82a2-a67768c3d845",
   "metadata": {},
   "outputs": [
    {
     "data": {
      "text/plain": [
       "'Hello Mario!'"
      ]
     },
     "execution_count": 3,
     "metadata": {},
     "output_type": "execute_result"
    }
   ],
   "source": [
    "greeting('Mario')"
   ]
  },
  {
   "cell_type": "markdown",
   "id": "cbb7df0e-961f-4091-b4e5-980f6f758483",
   "metadata": {},
   "source": [
    "### Exercise2"
   ]
  },
  {
   "cell_type": "code",
   "execution_count": 20,
   "id": "725b9bd5-2ba1-4fea-94d7-e34b1761bf7d",
   "metadata": {},
   "outputs": [],
   "source": [
    "import numpy as np"
   ]
  },
  {
   "cell_type": "code",
   "execution_count": 2,
   "id": "56de48b2-2dcb-4a76-b337-ea48606fd3da",
   "metadata": {},
   "outputs": [],
   "source": [
    "def calculate_bmi():\n",
    "    weight_input = input(\"Would you mind entering the weight (in kg)? \")     #enter weight input from the user\n",
    "    weight = float(weight_input) # convert the type from string to float \n",
    "    height_input = input(\"Would you also mind entering the height (in meters)? \")\n",
    "    height = float(height_input)\n",
    "    BMI = weight / (height ** 2)\n",
    "    if BMI < 18.5:\n",
    "        return f'Your BMI is {BMI}, which is less than 18.5. You are underweight.'\n",
    "    elif 18.5 <= BMI < 24.9:\n",
    "        return f'Your BMI is {BMI}, which is between 18.5 and 24.9. You have a normal weight.'\n",
    "    elif 25 <= BMI < 29.9:\n",
    "        return f'Your BMI is {BMI}, which is between 25 and 29.9. You are overweight.'\n",
    "    elif BMI >= 30:\n",
    "        return f'Your BMI is {BMI}, which is more than or equal to 30. You are obese.'\n",
    "\n",
    "\n"
   ]
  },
  {
   "cell_type": "code",
   "execution_count": 3,
   "id": "4b8215d8-c75d-4b27-8379-1f2117b4effa",
   "metadata": {},
   "outputs": [
    {
     "name": "stdin",
     "output_type": "stream",
     "text": [
      "Would you mind entering the weight (in kg)?  70\n",
      "Would you also mind entering the height (in meters)?  1.9\n"
     ]
    },
    {
     "data": {
      "text/plain": [
       "'Your BMI is 19.390581717451525, which is between 18.5 and 24.9. You have a normal weight.'"
      ]
     },
     "execution_count": 3,
     "metadata": {},
     "output_type": "execute_result"
    }
   ],
   "source": [
    "calculate_bmi()"
   ]
  },
  {
   "cell_type": "code",
   "execution_count": 4,
   "id": "fcc55cb0-610e-4450-b470-11f1809b5638",
   "metadata": {},
   "outputs": [
    {
     "name": "stdin",
     "output_type": "stream",
     "text": [
      "Would you mind entering the weight (in kg)?  kfnal\n"
     ]
    },
    {
     "ename": "ValueError",
     "evalue": "could not convert string to float: 'kfnal'",
     "output_type": "error",
     "traceback": [
      "\u001b[1;31m---------------------------------------------------------------------------\u001b[0m",
      "\u001b[1;31mValueError\u001b[0m                                Traceback (most recent call last)",
      "Cell \u001b[1;32mIn[4], line 1\u001b[0m\n\u001b[1;32m----> 1\u001b[0m \u001b[43mcalculate_bmi\u001b[49m\u001b[43m(\u001b[49m\u001b[43m)\u001b[49m\n",
      "Cell \u001b[1;32mIn[2], line 3\u001b[0m, in \u001b[0;36mcalculate_bmi\u001b[1;34m()\u001b[0m\n\u001b[0;32m      1\u001b[0m \u001b[38;5;28;01mdef\u001b[39;00m \u001b[38;5;21mcalculate_bmi\u001b[39m():\n\u001b[0;32m      2\u001b[0m     weight_input \u001b[38;5;241m=\u001b[39m \u001b[38;5;28minput\u001b[39m(\u001b[38;5;124m\"\u001b[39m\u001b[38;5;124mWould you mind entering the weight (in kg)? \u001b[39m\u001b[38;5;124m\"\u001b[39m)     \u001b[38;5;66;03m#enter weight input from the user\u001b[39;00m\n\u001b[1;32m----> 3\u001b[0m     weight \u001b[38;5;241m=\u001b[39m \u001b[38;5;28;43mfloat\u001b[39;49m\u001b[43m(\u001b[49m\u001b[43mweight_input\u001b[49m\u001b[43m)\u001b[49m \u001b[38;5;66;03m# convert the type from string to float \u001b[39;00m\n\u001b[0;32m      4\u001b[0m     height_input \u001b[38;5;241m=\u001b[39m \u001b[38;5;28minput\u001b[39m(\u001b[38;5;124m\"\u001b[39m\u001b[38;5;124mWould you also mind entering the height (in meters)? \u001b[39m\u001b[38;5;124m\"\u001b[39m)\n\u001b[0;32m      5\u001b[0m     height \u001b[38;5;241m=\u001b[39m \u001b[38;5;28mfloat\u001b[39m(height_input)\n",
      "\u001b[1;31mValueError\u001b[0m: could not convert string to float: 'kfnal'"
     ]
    }
   ],
   "source": [
    "calculate_bmi()"
   ]
  },
  {
   "cell_type": "markdown",
   "id": "354330b2-173f-4eee-98af-5af718e71da5",
   "metadata": {},
   "source": [
    "However, above function does not avoid invalid input."
   ]
  },
  {
   "cell_type": "code",
   "execution_count": 8,
   "id": "ba9d040e-7cff-4fff-a1f5-0b913004a88e",
   "metadata": {},
   "outputs": [],
   "source": [
    "def calculate_bmi_2():\n",
    "    while True:\n",
    "        weight_input = input(\"Would you mind entering the weight (in kg)? \")\n",
    "\n",
    "        try:\n",
    "            weight = float(weight_input)\n",
    "            break  # Exit the loop if input is successfully converted to float\n",
    "        except ValueError:\n",
    "            print(f\"{weight_input} is not a valid input. Please enter a numerical value for weight.\")\n",
    "\n",
    "    while True:\n",
    "        height_input = input(\"Would you also mind entering the height (in meters)? \")\n",
    "\n",
    "        try:\n",
    "            height = float(height_input)\n",
    "            break  # Exit the loop if input is successfully converted to float\n",
    "        except ValueError:\n",
    "            print(f\"{height_input} is not a valid input. Please enter a numerical value for height.\")\n",
    "\n",
    "    BMI = weight / (height ** 2)\n",
    "\n",
    "    if BMI < 18.5:\n",
    "        return f'Your BMI is {BMI}, which is less than 18.5. You are underweight.'\n",
    "    elif 18.5 <= BMI < 24.9:\n",
    "        return f'Your BMI is {BMI}, which is between 18.5 and 24.9. You have a normal weight.'\n",
    "    elif 25 <= BMI < 29.9:\n",
    "        return f'Your BMI is {BMI}, which is between 25 and 29.9. You are overweight.'\n",
    "    elif BMI >= 30:\n",
    "        return f'Your BMI is {BMI}, which is more than or equal to 30. You are obese.'"
   ]
  },
  {
   "cell_type": "code",
   "execution_count": 9,
   "id": "3bf56b4d-e820-400d-ac7f-c6e801173766",
   "metadata": {},
   "outputs": [
    {
     "name": "stdin",
     "output_type": "stream",
     "text": [
      "Would you mind entering the weight (in kg)?  iahfa\n"
     ]
    },
    {
     "name": "stdout",
     "output_type": "stream",
     "text": [
      "iahfa is not a valid input. Please enter a numerical value for weight.\n"
     ]
    },
    {
     "name": "stdin",
     "output_type": "stream",
     "text": [
      "Would you mind entering the weight (in kg)?  70\n",
      "Would you also mind entering the height (in meters)?  sfwe\n"
     ]
    },
    {
     "name": "stdout",
     "output_type": "stream",
     "text": [
      "sfwe is not a valid input. Please enter a numerical value for height.\n"
     ]
    },
    {
     "name": "stdin",
     "output_type": "stream",
     "text": [
      "Would you also mind entering the height (in meters)?  1.9\n"
     ]
    },
    {
     "data": {
      "text/plain": [
       "'Your BMI is 19.390581717451525, which is between 18.5 and 24.9. You have a normal weight.'"
      ]
     },
     "execution_count": 9,
     "metadata": {},
     "output_type": "execute_result"
    }
   ],
   "source": [
    "calculate_bmi_2()"
   ]
  },
  {
   "cell_type": "markdown",
   "id": "8fffd455-c5bc-49b8-a155-ea5b1aa78180",
   "metadata": {},
   "source": [
    "Alternative method of solving it:"
   ]
  },
  {
   "cell_type": "code",
   "execution_count": 11,
   "id": "10a0c33a-3032-4b9d-a5a7-2a21e1ebf095",
   "metadata": {},
   "outputs": [
    {
     "name": "stdin",
     "output_type": "stream",
     "text": [
      "Enter your weight in kilograms:  70\n",
      "Enter your height in meters:  1.9\n"
     ]
    },
    {
     "name": "stdout",
     "output_type": "stream",
     "text": [
      "Your BMI category is: Normal weight\n"
     ]
    }
   ],
   "source": [
    "def calculate_bmi_3(weight, height):    # we can set the default here\n",
    "    bmi_index = weight / (height ** 2)\n",
    "    if bmi_index < 18.5:\n",
    "        return \"Underweight\"\n",
    "    elif 18.5 <= bmi_index < 25:\n",
    "        return \"Normal weight\"\n",
    "    elif 25 <= bmi_index < 30:\n",
    "        return \"Overweight\"\n",
    "    else:\n",
    "        return \"Obesity\"\n",
    "weight = float(input(\"Enter your weight in kilograms: \"))\n",
    "height = float(input(\"Enter your height in meters: \"))\n",
    "\n",
    "bmi_category = calculate_bmi_3(weight, height)\n",
    "print(f\"Your BMI category is: {bmi_category}\")\n"
   ]
  }
 ],
 "metadata": {
  "kernelspec": {
   "display_name": "Python 3 (ipykernel)",
   "language": "python",
   "name": "python3"
  },
  "language_info": {
   "codemirror_mode": {
    "name": "ipython",
    "version": 3
   },
   "file_extension": ".py",
   "mimetype": "text/x-python",
   "name": "python",
   "nbconvert_exporter": "python",
   "pygments_lexer": "ipython3",
   "version": "3.11.5"
  },
  "toc": {
   "base_numbering": 1,
   "nav_menu": {},
   "number_sections": true,
   "sideBar": true,
   "skip_h1_title": false,
   "title_cell": "Table of Contents",
   "title_sidebar": "Contents",
   "toc_cell": false,
   "toc_position": {},
   "toc_section_display": true,
   "toc_window_display": false
  },
  "vscode": {
   "interpreter": {
    "hash": "31f2aee4e71d21fbe5cf8b01ff0e069b9275f58929596ceb00d14d90e3e16cd6"
   }
  }
 },
 "nbformat": 4,
 "nbformat_minor": 5
}
