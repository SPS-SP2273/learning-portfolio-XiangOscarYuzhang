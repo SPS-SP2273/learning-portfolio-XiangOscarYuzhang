{
 "cells": [
  {
   "attachments": {},
   "cell_type": "markdown",
   "id": "123456",
   "metadata": {},
   "source": [
    "<div style=\"text-align:left;font-size:2em\"><span style=\"font-weight:bolder;font-size:1.25em\">SP2273 | Learning Portfolio</span><br><br><span style=\"font-weight:bold;color:darkred\">Functions (Good) Exercises</span></div>"
   ]
  },
  {
   "cell_type": "markdown",
   "id": "25667301-1d96-4768-80bf-d1059938b4e5",
   "metadata": {},
   "source": [
    "# Exercise1"
   ]
  },
  {
   "cell_type": "code",
   "execution_count": 12,
   "id": "5e11747e-3554-4be7-b06a-ca1247231112",
   "metadata": {},
   "outputs": [],
   "source": [
    "def convert_celsius(temperature_celsius,target_scale = \"Fahrenheit\"):\n",
    "    if target_scale.lower() == \"kelvin\":\n",
    "        temperature_kelvin = temperature_celsius + 273.15\n",
    "        return temperature_kelvin\n",
    "    else:\n",
    "        temperature_fahrenheit = (temperature_celsius * 9 / 5) + 32\n",
    "        return temperature_fahrenheit\n"
   ]
  },
  {
   "cell_type": "code",
   "execution_count": 15,
   "id": "a661a648-437f-439d-a53f-413c3c88c8e7",
   "metadata": {},
   "outputs": [
    {
     "name": "stdout",
     "output_type": "stream",
     "text": [
      "32.0\n"
     ]
    }
   ],
   "source": [
    "print(convert_celsius(0))"
   ]
  },
  {
   "cell_type": "code",
   "execution_count": 17,
   "id": "4d345099-9876-4294-b869-019890ebcc86",
   "metadata": {},
   "outputs": [
    {
     "name": "stdout",
     "output_type": "stream",
     "text": [
      "273.15\n"
     ]
    }
   ],
   "source": [
    "print(convert_celsius(0,\"kelvin\"))"
   ]
  },
  {
   "cell_type": "markdown",
   "id": "38c9b8af-042c-4d1e-8000-384edd1cf7a7",
   "metadata": {},
   "source": [
    "## Alternative Exercise 1"
   ]
  },
  {
   "cell_type": "code",
   "execution_count": 1,
   "id": "efb8a4de-68f7-4380-bd56-1e1c6bfc1c75",
   "metadata": {},
   "outputs": [],
   "source": [
    "# I actually do the exercise in the wrong way in the first try. \n",
    "target_scale = 0   \n",
    "def convert_celsius_2(target_scale):\n",
    "    while True:\n",
    "        target_scale = input(\"What do you want to convert to? Fahrenheit or Kelvin\")\n",
    "        if target_scale.lower() == \"fahrenheit\":  #.lower() here is used to avoid the case sensitive properties.\n",
    "            print(\"you chose to convert to Fahrenheit\")\n",
    "            break\n",
    "        elif target_scale.lower() == \"kelvin\":\n",
    "            print(\"you chose to convert to Kelvin\")\n",
    "            break\n",
    "        else:\n",
    "            print(\"invalid input, set to default Fahrenheit mode.\")\n",
    "            target_scale = \"fahrenheit\"\n",
    "            break\n",
    "    while True:\n",
    "        temperature_celsius = input(\"What is your temperature?\")\n",
    "        try:\n",
    "            temperature_celsius = float(temperature_celsius)\n",
    "            break\n",
    "        except ValueError:\n",
    "            print(f\"{temperature_celsius} is not a valid input. Please enter a numerical value for temperature.\")\n",
    "\n",
    "\n",
    "    temperature_fahrenheit = (temperature_celsius * 9 / 5) + 32\n",
    "    temperature_Kelvin = temperature_celsius + 273.15\n",
    "    if target_scale.lower() == \"fahrenheit\":\n",
    "        print(f\"Your {target_scale} temperature is {temperature_fahrenheit}F\")\n",
    "    else:\n",
    "        print(f\"Your {target_scale} temperature is {temperature_Kelvin}K\")"
   ]
  },
  {
   "cell_type": "code",
   "execution_count": 3,
   "id": "5328813a-db0d-4724-a1ee-e040e19fbf6c",
   "metadata": {},
   "outputs": [
    {
     "name": "stdin",
     "output_type": "stream",
     "text": [
      "What do you want to convert to? Fahrenheit or Kelvin fahrenheit\n"
     ]
    },
    {
     "name": "stdout",
     "output_type": "stream",
     "text": [
      "you chose to convert to Fahrenheit\n"
     ]
    },
    {
     "name": "stdin",
     "output_type": "stream",
     "text": [
      "What is your temperature? 11\n"
     ]
    },
    {
     "name": "stdout",
     "output_type": "stream",
     "text": [
      "Your fahrenheit temperature is 51.8F\n"
     ]
    }
   ],
   "source": [
    "convert_celsius_2(target_scale)"
   ]
  },
  {
   "cell_type": "code",
   "execution_count": 4,
   "id": "33001df4-5400-4e68-b5c1-1117280112bf",
   "metadata": {},
   "outputs": [
    {
     "name": "stdin",
     "output_type": "stream",
     "text": [
      "What do you want to convert to? Fahrenheit or Kelvin wgfwrg\n"
     ]
    },
    {
     "name": "stdout",
     "output_type": "stream",
     "text": [
      "invalid input, set to default Fahrenheit mode.\n"
     ]
    },
    {
     "name": "stdin",
     "output_type": "stream",
     "text": [
      "What is your temperature? 11\n"
     ]
    },
    {
     "name": "stdout",
     "output_type": "stream",
     "text": [
      "Your fahrenheit temperature is 51.8F\n"
     ]
    }
   ],
   "source": [
    "convert_celsius_2(target_scale)"
   ]
  },
  {
   "cell_type": "code",
   "execution_count": 5,
   "id": "eec67421-1d88-447f-899f-067d32d9873f",
   "metadata": {},
   "outputs": [
    {
     "name": "stdin",
     "output_type": "stream",
     "text": [
      "What do you want to convert to? Fahrenheit or Kelvin kelvin\n"
     ]
    },
    {
     "name": "stdout",
     "output_type": "stream",
     "text": [
      "you chose to convert to Kelvin\n"
     ]
    },
    {
     "name": "stdin",
     "output_type": "stream",
     "text": [
      "What is your temperature? 11\n"
     ]
    },
    {
     "name": "stdout",
     "output_type": "stream",
     "text": [
      "Your kelvin temperature is 284.15K\n"
     ]
    }
   ],
   "source": [
    "convert_celsius_2(target_scale)"
   ]
  },
  {
   "cell_type": "markdown",
   "id": "39b753cc-f2a6-4c88-becf-a08699eaebde",
   "metadata": {},
   "source": [
    "# Exercise 2"
   ]
  },
  {
   "cell_type": "code",
   "execution_count": 18,
   "id": "60dd6456-d463-4cf9-a3c4-93bd5dc5a594",
   "metadata": {},
   "outputs": [],
   "source": [
    "def convert_fahrenheit(temperature_fahrenheit, target_scale='Celsius'):\n",
    "    if target_scale.lower() == 'kelvin':\n",
    "        temperature_kelvin = (temperature_fahrenheit - 32) * 5/9 + 273.15\n",
    "        return temperature_kelvin\n",
    "    else:  \n",
    "        temperature_celsius = (temperature_fahrenheit - 32) * 5/9\n",
    "        return temperature_celsius"
   ]
  },
  {
   "cell_type": "code",
   "execution_count": 19,
   "id": "4e2251f8-60a6-4f6f-ac3b-a10e060d52e3",
   "metadata": {},
   "outputs": [
    {
     "name": "stdout",
     "output_type": "stream",
     "text": [
      "0.0\n",
      "273.15\n"
     ]
    }
   ],
   "source": [
    "print(convert_fahrenheit(32))  \n",
    "print(convert_fahrenheit(32, 'kelvin'))  "
   ]
  },
  {
   "cell_type": "markdown",
   "id": "4c272571-cb29-41ed-96cb-d4bc4c615be3",
   "metadata": {},
   "source": [
    "# Exercise 3"
   ]
  },
  {
   "cell_type": "code",
   "execution_count": 20,
   "id": "bbca3cab-74f0-4222-a48e-b8a1237e1bff",
   "metadata": {},
   "outputs": [],
   "source": [
    "def convert_kelvin(temperature_kelvin, target_scale='Celsius'):\n",
    "    if target_scale.lower() == 'fahrenheit':\n",
    "        temperature_fahrenheit = (temperature_kelvin - 273.15) * 9/5 + 32\n",
    "        return temperature_fahrenheit\n",
    "    else:  \n",
    "        temperature_celsius = temperature_kelvin - 273.15\n",
    "        return temperature_celsius"
   ]
  },
  {
   "cell_type": "code",
   "execution_count": 22,
   "id": "8f18ccbe-c434-4d76-b950-8097c21dd059",
   "metadata": {},
   "outputs": [
    {
     "name": "stdout",
     "output_type": "stream",
     "text": [
      "0.0\n",
      "32.0\n"
     ]
    }
   ],
   "source": [
    "print(convert_kelvin(273.15))  \n",
    "print(convert_kelvin(273.15, 'fahrenheit'))  "
   ]
  },
  {
   "cell_type": "code",
   "execution_count": 28,
   "id": "600a7a6e-592d-433e-b583-4bf2d1f5e88b",
   "metadata": {},
   "outputs": [],
   "source": [
    "def convert_temperature(temperature, source_scale, target_scale):\n",
    "    if source_scale.lower() == \"fahrenheit\":\n",
    "        return convert_fahrenheit(temperature, target_scale)\n",
    "    elif source_scale.lower() == \"kelvin\":\n",
    "        return convert_kelvin(temperature, target_scale)\n",
    "    else:\n",
    "        return convert_celsius(temperature,target_scale)\n",
    "\n"
   ]
  },
  {
   "cell_type": "code",
   "execution_count": 33,
   "id": "38eec0e1-3d48-4d85-8848-ff2a96c25033",
   "metadata": {},
   "outputs": [
    {
     "name": "stdout",
     "output_type": "stream",
     "text": [
      "255.3722222222222\n",
      "-17.77777777777778\n",
      "-273.15\n",
      "-459.66999999999996\n",
      "273.15\n",
      "32.0\n"
     ]
    }
   ],
   "source": [
    "print(convert_temperature(0,\"fahrenheit\",\"kelvin\"))\n",
    "print(convert_temperature(0,\"fahrenheit\",\"celsius\"))\n",
    "print(convert_temperature(0,\"kelvin\",\"celsius\"))\n",
    "print(convert_temperature(0,\"kelvin\",\"fahrenheit\"))\n",
    "print(convert_temperature(0,\"celsius\",\"kelvin\"))\n",
    "print(convert_temperature(0,\"celsius\",\"fahrenheit\"))"
   ]
  }
 ],
 "metadata": {
  "kernelspec": {
   "display_name": "Python 3 (ipykernel)",
   "language": "python",
   "name": "python3"
  },
  "language_info": {
   "codemirror_mode": {
    "name": "ipython",
    "version": 3
   },
   "file_extension": ".py",
   "mimetype": "text/x-python",
   "name": "python",
   "nbconvert_exporter": "python",
   "pygments_lexer": "ipython3",
   "version": "3.11.5"
  },
  "toc": {
   "base_numbering": 1,
   "nav_menu": {},
   "number_sections": true,
   "sideBar": true,
   "skip_h1_title": false,
   "title_cell": "Table of Contents",
   "title_sidebar": "Contents",
   "toc_cell": false,
   "toc_position": {},
   "toc_section_display": true,
   "toc_window_display": false
  },
  "vscode": {
   "interpreter": {
    "hash": "31f2aee4e71d21fbe5cf8b01ff0e069b9275f58929596ceb00d14d90e3e16cd6"
   }
  }
 },
 "nbformat": 4,
 "nbformat_minor": 5
}
