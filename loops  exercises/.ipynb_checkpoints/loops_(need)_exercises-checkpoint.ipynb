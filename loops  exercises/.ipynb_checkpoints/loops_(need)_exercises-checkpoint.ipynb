{
 "cells": [
  {
   "attachments": {},
   "cell_type": "markdown",
   "id": "123456",
   "metadata": {},
   "source": [
    "<div style=\"text-align:left;font-size:2em\"><span style=\"font-weight:bolder;font-size:1.25em\">SP2273 | Learning Portfolio</span><br><br><span style=\"font-weight:bold;color:darkred\">Loops (Need) Exercises</span></div>"
   ]
  },
  {
   "cell_type": "markdown",
   "id": "6259c723-bd6b-498b-a4a1-58cc7af422ea",
   "metadata": {},
   "source": [
    "### **Exercise1**"
   ]
  },
  {
   "cell_type": "code",
   "execution_count": 4,
   "id": "438eb46d-3dca-43d6-ac40-5dad5bcd0ecf",
   "metadata": {},
   "outputs": [],
   "source": [
    "temperatures_celsius = [\n",
    "    0, 5, 10, 15, 20, 25,\n",
    "    30, 35, 40, 45, 50\n",
    "]"
   ]
  },
  {
   "cell_type": "code",
   "execution_count": 21,
   "id": "4200d72b-1fab-429c-a4a1-00cfea617ede",
   "metadata": {},
   "outputs": [
    {
     "name": "stdout",
     "output_type": "stream",
     "text": [
      "The Celsius is 0 and the Fahrenheit is 32.0\n",
      "The Celsius is 5 and the Fahrenheit is 41.0\n",
      "The Celsius is 10 and the Fahrenheit is 50.0\n",
      "The Celsius is 15 and the Fahrenheit is 59.0\n",
      "The Celsius is 20 and the Fahrenheit is 68.0\n",
      "The Celsius is 25 and the Fahrenheit is 77.0\n",
      "The Celsius is 30 and the Fahrenheit is 86.0\n",
      "The Celsius is 35 and the Fahrenheit is 95.0\n",
      "The Celsius is 40 and the Fahrenheit is 104.0\n",
      "The Celsius is 45 and the Fahrenheit is 113.0\n",
      "The Celsius is 50 and the Fahrenheit is 122.0\n"
     ]
    }
   ],
   "source": [
    "temperatures_fahrenheit = []\n",
    "for temperature in temperatures_celsius:\n",
    "    print(f'The Celsius is {temperature} and the Fahrenheit is {temperature * 9 / 5 + 32}')"
   ]
  },
  {
   "cell_type": "code",
   "execution_count": 24,
   "id": "6bc9a923-6f76-4711-b959-0d2347e534ca",
   "metadata": {},
   "outputs": [
    {
     "name": "stdout",
     "output_type": "stream",
     "text": [
      "[32.0, 41.0, 50.0, 59.0, 68.0, 77.0, 86.0, 95.0, 104.0, 113.0, 122.0]\n"
     ]
    }
   ],
   "source": [
    "temperatures_fahrenheit = []    # Extra exercise for creating a list of fahrenheit temperatures\n",
    "for temperature in temperatures_celsius:\n",
    "    faherenheit = temperature * 9 / 5 + 32\n",
    "    temperatures_fahrenheit.append(faherenheit)\n",
    "print(temperatures_fahrenheit)"
   ]
  },
  {
   "cell_type": "code",
   "execution_count": 7,
   "id": "176f8287-b817-4e18-8e9f-9160ad38ed3f",
   "metadata": {},
   "outputs": [
    {
     "name": "stdout",
     "output_type": "stream",
     "text": [
      "The celsius is 0 and the Fahrenheit is 32.0\n",
      "The celsius is 5 and the Fahrenheit is 41.0\n",
      "The celsius is 10 and the Fahrenheit is 50.0\n",
      "The celsius is 15 and the Fahrenheit is 59.0\n",
      "The celsius is 20 and the Fahrenheit is 68.0\n",
      "The celsius is 25 and the Fahrenheit is 77.0\n",
      "The celsius is 30 and the Fahrenheit is 86.0\n",
      "The celsius is 35 and the Fahrenheit is 95.0\n",
      "The celsius is 40 and the Fahrenheit is 104.0\n",
      "The celsius is 45 and the Fahrenheit is 113.0\n",
      "The celsius is 50 and the Fahrenheit is 122.0\n"
     ]
    }
   ],
   "source": [
    "i = 0   # try to practice the while loop\n",
    "while i <= 10:\n",
    "    temperature_fahrenheit = temperatures_celsius[i] * 9 / 5 + 32\n",
    "    print(f'The celsius is {temperatures_celsius[i]} and the Fahrenheit is {temperature_fahrenheit}')\n",
    "    i += 1  # i = i + 1 <=> i += 1"
   ]
  },
  {
   "cell_type": "markdown",
   "id": "a034786a-7f75-479f-af37-d5fe640ee838",
   "metadata": {},
   "source": [
    "### **Exercise 2**"
   ]
  },
  {
   "cell_type": "markdown",
   "id": "278c9440-a90f-4cd8-a763-485589585191",
   "metadata": {},
   "source": [
    "Example"
   ]
  },
  {
   "cell_type": "code",
   "execution_count": 29,
   "id": "14192eb2-0b6b-449d-a58b-ff0e2191cac6",
   "metadata": {},
   "outputs": [
    {
     "name": "stdout",
     "output_type": "stream",
     "text": [
      "A1\tA2\tA3\t\n",
      "\n",
      "B1\tB2\tB3\t\n",
      "\n",
      "C1\tC2\tC3\t\n",
      "\n"
     ]
    }
   ],
   "source": [
    "for letter in ['A', 'B', 'C']:\n",
    "    for number in [1, 2, 3]:\n",
    "        print(f'{letter}{number}', end='\\t')\n",
    "    print('\\n')"
   ]
  },
  {
   "cell_type": "code",
   "execution_count": 67,
   "id": "2812b654-c51c-477f-af61-494e3713ea08",
   "metadata": {},
   "outputs": [
    {
     "name": "stdout",
     "output_type": "stream",
     "text": [
      "1 :   1     2     3     4     5    \n",
      "\n",
      "\n",
      "2 :   2     4     6     8     10    \n",
      "\n",
      "\n",
      "3 :   3     6     9     12     15    \n",
      "\n",
      "\n",
      "4 :   4     8     12     16     20    \n",
      "\n",
      "\n",
      "5 :   5     10     15     20     25    \n",
      "\n",
      "\n"
     ]
    }
   ],
   "source": [
    "for heading_numbers in [1,2,3,4,5]:\n",
    "    x = f'{heading_numbers} :  '\n",
    "    for following_numbers in [1,2,3,4,5]:\n",
    "        following_numbers = following_numbers * heading_numbers\n",
    "        y = f' {following_numbers}    '\n",
    "        x += y\n",
    "    print(x)\n",
    "    print('\\n')"
   ]
  }
 ],
 "metadata": {
  "kernelspec": {
   "display_name": "Python 3 (ipykernel)",
   "language": "python",
   "name": "python3"
  },
  "language_info": {
   "codemirror_mode": {
    "name": "ipython",
    "version": 3
   },
   "file_extension": ".py",
   "mimetype": "text/x-python",
   "name": "python",
   "nbconvert_exporter": "python",
   "pygments_lexer": "ipython3",
   "version": "3.11.5"
  },
  "toc": {
   "base_numbering": 1,
   "nav_menu": {},
   "number_sections": true,
   "sideBar": true,
   "skip_h1_title": false,
   "title_cell": "Table of Contents",
   "title_sidebar": "Contents",
   "toc_cell": false,
   "toc_position": {},
   "toc_section_display": true,
   "toc_window_display": false
  },
  "vscode": {
   "interpreter": {
    "hash": "31f2aee4e71d21fbe5cf8b01ff0e069b9275f58929596ceb00d14d90e3e16cd6"
   }
  }
 },
 "nbformat": 4,
 "nbformat_minor": 5
}
