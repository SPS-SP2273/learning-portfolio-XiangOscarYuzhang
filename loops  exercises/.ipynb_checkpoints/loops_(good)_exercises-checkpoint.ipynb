{
 "cells": [
  {
   "attachments": {},
   "cell_type": "markdown",
   "id": "123456",
   "metadata": {},
   "source": [
    "<div style=\"text-align:left;font-size:2em\"><span style=\"font-weight:bolder;font-size:1.25em\">SP2273 | Learning Portfolio</span><br><br><span style=\"font-weight:bold;color:darkred\">Loops (Good) Exercises</span></div>"
   ]
  },
  {
   "cell_type": "markdown",
   "id": "2a92e948-02a1-47b5-bc24-fd9183ef994a",
   "metadata": {},
   "source": [
    "### **Exercise1**"
   ]
  },
  {
   "cell_type": "code",
   "execution_count": 6,
   "id": "0d780594-5a9d-42e8-a0dd-edfa4ebd13f2",
   "metadata": {},
   "outputs": [],
   "source": [
    "import numpy as np"
   ]
  },
  {
   "cell_type": "code",
   "execution_count": 20,
   "id": "f9109a7f-a4f6-4ae9-adb8-71f7780a26f6",
   "metadata": {},
   "outputs": [
    {
     "name": "stdout",
     "output_type": "stream",
     "text": [
      "[1, 9, 25, 49, 81]\n"
     ]
    }
   ],
   "source": [
    "list_odd = []\n",
    "for x in range(0,10):\n",
    "    if x % 2 == 0:\n",
    "        continue\n",
    "    elif x % 2 == 1:\n",
    "        list_odd.append(x*x)\n",
    "print(list_odd)"
   ]
  },
  {
   "cell_type": "markdown",
   "id": "831963b2-a2ed-4477-9a11-7c1894290d03",
   "metadata": {},
   "source": [
    "### **Exercise2**"
   ]
  },
  {
   "cell_type": "code",
   "execution_count": 19,
   "id": "c69b3239-9913-4262-8405-1aac18c18b44",
   "metadata": {},
   "outputs": [
    {
     "name": "stdout",
     "output_type": "stream",
     "text": [
      "[1, 9, 25, 49, 81]\n"
     ]
    }
   ],
   "source": [
    "list_odd = []\n",
    "for x in range(0,10):\n",
    "    if x % 2 == 0:\n",
    "        continue\n",
    "    elif x % 2 == 1:\n",
    "        list_odd.append(x*x)\n",
    "print(list_odd)"
   ]
  }
 ],
 "metadata": {
  "kernelspec": {
   "display_name": "Python 3 (ipykernel)",
   "language": "python",
   "name": "python3"
  },
  "language_info": {
   "codemirror_mode": {
    "name": "ipython",
    "version": 3
   },
   "file_extension": ".py",
   "mimetype": "text/x-python",
   "name": "python",
   "nbconvert_exporter": "python",
   "pygments_lexer": "ipython3",
   "version": "3.11.5"
  },
  "toc": {
   "base_numbering": 1,
   "nav_menu": {},
   "number_sections": true,
   "sideBar": true,
   "skip_h1_title": false,
   "title_cell": "Table of Contents",
   "title_sidebar": "Contents",
   "toc_cell": false,
   "toc_position": {},
   "toc_section_display": true,
   "toc_window_display": false
  },
  "vscode": {
   "interpreter": {
    "hash": "31f2aee4e71d21fbe5cf8b01ff0e069b9275f58929596ceb00d14d90e3e16cd6"
   }
  }
 },
 "nbformat": 4,
 "nbformat_minor": 5
}
