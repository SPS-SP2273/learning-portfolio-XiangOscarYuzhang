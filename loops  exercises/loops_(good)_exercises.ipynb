{
 "cells": [
  {
   "attachments": {},
   "cell_type": "markdown",
   "id": "123456",
   "metadata": {},
   "source": [
    "<div style=\"text-align:left;font-size:2em\"><span style=\"font-weight:bolder;font-size:1.25em\">SP2273 | Learning Portfolio</span><br><br><span style=\"font-weight:bold;color:darkred\">Loops (Good) Exercises</span></div>"
   ]
  },
  {
   "cell_type": "markdown",
   "id": "2a92e948-02a1-47b5-bc24-fd9183ef994a",
   "metadata": {},
   "source": [
    "### **Exercise1**"
   ]
  },
  {
   "cell_type": "code",
   "execution_count": 1,
   "id": "0d780594-5a9d-42e8-a0dd-edfa4ebd13f2",
   "metadata": {},
   "outputs": [],
   "source": [
    "import numpy as np"
   ]
  },
  {
   "cell_type": "code",
   "execution_count": 13,
   "id": "f9109a7f-a4f6-4ae9-adb8-71f7780a26f6",
   "metadata": {},
   "outputs": [
    {
     "name": "stdout",
     "output_type": "stream",
     "text": [
      "[1, 9, 25, 49, 81]\n"
     ]
    }
   ],
   "source": [
    "list_odd = []\n",
    "for x in range(0,10):\n",
    "    if x % 2 == 1:\n",
    "        list_odd.append(x*x)\n",
    "print(list_odd)"
   ]
  },
  {
   "cell_type": "markdown",
   "id": "831963b2-a2ed-4477-9a11-7c1894290d03",
   "metadata": {},
   "source": [
    "### **Exercise2**"
   ]
  },
  {
   "cell_type": "code",
   "execution_count": 10,
   "id": "c69b3239-9913-4262-8405-1aac18c18b44",
   "metadata": {},
   "outputs": [
    {
     "name": "stdout",
     "output_type": "stream",
     "text": [
      "[1, 9, 25, 49, 81]\n"
     ]
    }
   ],
   "source": [
    "list_odd_1 = [number **2 for number in range(0,10) if number % 2!= 0]\n",
    "print(list_odd_1)"
   ]
  },
  {
   "cell_type": "markdown",
   "id": "8c2ac937-d018-40a0-94c4-6fcb3ccae6b7",
   "metadata": {},
   "source": [
    "### Exercise 3"
   ]
  },
  {
   "cell_type": "code",
   "execution_count": 14,
   "id": "108b4a3f-2f71-4a16-8dcf-4cf30a088773",
   "metadata": {},
   "outputs": [
    {
     "name": "stdout",
     "output_type": "stream",
     "text": [
      "1.63 µs ± 30.5 ns per loop (mean ± std. dev. of 7 runs, 1,000,000 loops each)\n"
     ]
    }
   ],
   "source": [
    "%%timeit\n",
    "list_odd = []\n",
    "for x in range(0,10):\n",
    "    if x % 2 == 1:\n",
    "        list_odd.append(x*x)  #append is faster"
   ]
  },
  {
   "cell_type": "code",
   "execution_count": 11,
   "id": "c162738f-8ab5-4fb5-8d4d-886859636531",
   "metadata": {},
   "outputs": [
    {
     "name": "stdout",
     "output_type": "stream",
     "text": [
      "1.75 µs ± 79.1 ns per loop (mean ± std. dev. of 7 runs, 1,000,000 loops each)\n"
     ]
    }
   ],
   "source": [
    "%%timeit\n",
    "list_odd_1 = [number * number for number in range(0,10) if number % 2!= 0]"
   ]
  },
  {
   "cell_type": "markdown",
   "id": "236d5b03-4c74-45e1-90f2-1849c5fd97a0",
   "metadata": {},
   "source": [
    "### Exercise 4"
   ]
  },
  {
   "cell_type": "code",
   "execution_count": 1,
   "id": "18281f5d-9afe-4d9f-bc33-6ea715dacf39",
   "metadata": {},
   "outputs": [
    {
     "name": "stdout",
     "output_type": "stream",
     "text": [
      "14\n"
     ]
    }
   ],
   "source": [
    "initial = 100\n",
    "decay = initial\n",
    "year = 0\n",
    "\n",
    "while decay > initial/2:\n",
    "    decay = decay * (1-0.05)\n",
    "    year = year + 1\n",
    "print(year)"
   ]
  },
  {
   "cell_type": "markdown",
   "id": "4ab82de5-8ceb-4f2d-91c8-9980f42f0c50",
   "metadata": {},
   "source": [
    "### Exercise 5"
   ]
  },
  {
   "cell_type": "code",
   "execution_count": 4,
   "id": "cabd56d0-e65e-4291-885c-8679402a785a",
   "metadata": {},
   "outputs": [],
   "source": [
    "co2_data = [\n",
    "    (2000, 369.55), (2001, 371.14), (2002, 373.28), \n",
    "    (2003, 375.80), (2004, 377.52), (2005, 379.80), \n",
    "    (2006, 381.90), (2007, 383.79), (2008, 385.60), \n",
    "    (2009, 387.43), (2010, 389.90), (2011, 391.65), \n",
    "    (2012, 393.85), (2013, 396.52), (2014, 398.65),\n",
    "    (2015, 400.83), (2016, 404.24), (2017, 406.55), \n",
    "    (2018, 408.52), (2019, 411.44), (2020, 414.24)\n",
    "]"
   ]
  },
  {
   "cell_type": "code",
   "execution_count": 5,
   "id": "dc6cb6d0-81a4-48e5-ba69-0b073aede980",
   "metadata": {},
   "outputs": [
    {
     "name": "stdout",
     "output_type": "stream",
     "text": [
      "Year: 2016, Change in CO2 concentration: 3.41 ppm\n"
     ]
    }
   ],
   "source": [
    "for i in range(1, len(co2_data)):\n",
    "    year, co2_level = co2_data[i]\n",
    "    prev_year, prev_co2_level = co2_data[i - 1]\n",
    "    change_in_co2 = co2_level - prev_co2_level\n",
    "    if change_in_co2 >= 3:\n",
    "        print(f\"Year: {year}, Change in CO2 concentration: {change_in_co2:.2f} ppm\")"
   ]
  }
 ],
 "metadata": {
  "kernelspec": {
   "display_name": "Python 3 (ipykernel)",
   "language": "python",
   "name": "python3"
  },
  "language_info": {
   "codemirror_mode": {
    "name": "ipython",
    "version": 3
   },
   "file_extension": ".py",
   "mimetype": "text/x-python",
   "name": "python",
   "nbconvert_exporter": "python",
   "pygments_lexer": "ipython3",
   "version": "3.11.5"
  },
  "toc": {
   "base_numbering": 1,
   "nav_menu": {},
   "number_sections": true,
   "sideBar": true,
   "skip_h1_title": false,
   "title_cell": "Table of Contents",
   "title_sidebar": "Contents",
   "toc_cell": false,
   "toc_position": {},
   "toc_section_display": true,
   "toc_window_display": false
  },
  "vscode": {
   "interpreter": {
    "hash": "31f2aee4e71d21fbe5cf8b01ff0e069b9275f58929596ceb00d14d90e3e16cd6"
   }
  }
 },
 "nbformat": 4,
 "nbformat_minor": 5
}
