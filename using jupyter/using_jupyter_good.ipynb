{
 "cells": [
  {
   "cell_type": "markdown",
   "id": "09d8fe89-898e-4ce0-889b-a6a1948fe7ec",
   "metadata": {},
   "source": [
    "<div style=\"text-align:left;font-size:2em\"><span style=\"font-weight:bolder;font-size:1.25em\">SP2273 | Learning Portfolio</span><br><br><span style=\"font-weight:bold;color:darkred\">Using Jupyter (Good)</span></div>"
   ]
  },
  {
   "cell_type": "markdown",
   "id": "37956dee-944a-49fb-8a14-14663b974be0",
   "metadata": {},
   "source": [
    "# **1 Some tips and tricks**"
   ]
  },
  {
   "cell_type": "markdown",
   "id": "65801d9d-6de6-4c83-8641-af6c3daf1923",
   "metadata": {},
   "source": [
    "### **1.1Keyboard shortcut**"
   ]
  },
  {
   "cell_type": "markdown",
   "id": "5e6a9bcb-15d6-4c71-a736-de951f488b16",
   "metadata": {},
   "source": [
    "Run cell: CTRL + ENTER\n",
    "\n",
    "Run cell and move to next cell: SHIFT + ENTER\n",
    "\n",
    "Covert cell to code cell: ESC + Y\n",
    "\n",
    "Convert cell to Markdown cell: ESC + M\n",
    "\n",
    "Create new cell above: ESC + A\n",
    "\n",
    "Create new cell below: ESC + B\n",
    "\n",
    "Merge cells: SHIFT + M\n",
    "\n",
    "Copy cell: ESC + C\n",
    "\n",
    "Paste cell: ESC + C\n",
    "\n",
    "Delete cell: ESC + D + D"
   ]
  },
  {
   "cell_type": "markdown",
   "id": "d883e4c2-0ad9-47fc-9451-e1470652a8d1",
   "metadata": {},
   "source": [
    "### **1.2 Shell commands**"
   ]
  },
  {
   "cell_type": "markdown",
   "id": "4e12374a-b427-4d91-a683-4eb48142e6c4",
   "metadata": {},
   "source": [
    "We can run 'terminal' commands from Jupyter"
   ]
  },
  {
   "cell_type": "code",
   "execution_count": 1,
   "id": "42b7375b-d0a4-444d-8a38-c157e2a56834",
   "metadata": {},
   "outputs": [
    {
     "name": "stdout",
     "output_type": "stream",
     "text": [
      "C:\\Users\\oscar\\Documents\\GitHub\\learning-portfolio-XiangOscarYuzhang\n"
     ]
    }
   ],
   "source": [
    "!cd"
   ]
  },
  {
   "cell_type": "code",
   "execution_count": 2,
   "id": "891f0522-2d0d-4107-863c-987c78c18eed",
   "metadata": {},
   "outputs": [
    {
     "name": "stdout",
     "output_type": "stream",
     "text": [
      " 驱动器 C 中的卷是 Windows\n",
      " 卷的序列号是 207A-19B1\n",
      "\n",
      " C:\\Users\\oscar\\Documents\\GitHub\\learning-portfolio-XiangOscarYuzhang 的目录\n",
      "\n",
      "19/01/2024  下午 05:19    <DIR>          .\n",
      "17/01/2024  上午 08:44    <DIR>          ..\n",
      "19/01/2024  下午 05:14                23 .gitignore\n",
      "19/01/2024  下午 05:17    <DIR>          .ipynb_checkpoints\n",
      "17/01/2024  上午 08:44    <DIR>          files, folders & os\n",
      "17/01/2024  上午 08:44    <DIR>          files, folders & os  exercises\n",
      "17/01/2024  上午 08:44    <DIR>          functions\n",
      "17/01/2024  上午 08:44    <DIR>          functions  exercises\n",
      "17/01/2024  上午 08:44    <DIR>          fundamentals\n",
      "17/01/2024  上午 08:44    <DIR>          fundamentals  exercises\n",
      "17/01/2024  上午 08:44    <DIR>          loops\n",
      "17/01/2024  上午 08:44    <DIR>          loops  exercises\n",
      "17/01/2024  上午 08:44    <DIR>          plotting\n",
      "17/01/2024  上午 08:44    <DIR>          plotting  exercises\n",
      "17/01/2024  上午 08:44    <DIR>          storing data\n",
      "17/01/2024  上午 08:44    <DIR>          storing data  exercises\n",
      "17/01/2024  上午 09:14    <DIR>          Testing\n",
      "17/01/2024  上午 08:44    <DIR>          using jupyter\n",
      "17/01/2024  上午 08:44    <DIR>          using jupyter , exercises\n",
      "19/01/2024  下午 05:19            29,264 using-jupyter_need.ipynb\n",
      "19/01/2024  下午 05:19               735 using_jupyter_good.ipynb\n",
      "               3 个文件         30,022 字节\n",
      "              18 个目录 66,132,385,792 可用字节\n"
     ]
    }
   ],
   "source": [
    "!dir"
   ]
  },
  {
   "cell_type": "code",
   "execution_count": 3,
   "id": "6c9f36c3-8020-4f9e-b58a-32d69e52eb9d",
   "metadata": {},
   "outputs": [
    {
     "name": "stdout",
     "output_type": "stream",
     "text": [
      "# packages in environment at C:\\Users\\oscar\\miniconda3:\n",
      "#\n",
      "# Name                    Version                   Build  Channel\n",
      "anyio                     4.2.0              pyhd8ed1ab_0    conda-forge\n",
      "archspec                  0.2.1              pyhd3eb1b0_0  \n",
      "argon2-cffi               23.1.0             pyhd8ed1ab_0    conda-forge\n",
      "argon2-cffi-bindings      21.2.0          py311ha68e1ae_4    conda-forge\n",
      "arrow                     1.3.0              pyhd8ed1ab_0    conda-forge\n",
      "asttokens                 2.4.1              pyhd8ed1ab_0    conda-forge\n",
      "async-lru                 2.0.4              pyhd8ed1ab_0    conda-forge\n",
      "attrs                     23.2.0             pyh71513ae_0    conda-forge\n",
      "babel                     2.14.0             pyhd8ed1ab_0    conda-forge\n",
      "beautifulsoup4            4.12.2             pyha770c72_0    conda-forge\n",
      "bleach                    6.1.0              pyhd8ed1ab_0    conda-forge\n",
      "boltons                   23.0.0          py311haa95532_0  \n",
      "brotli-python             1.0.9           py311hd77b12b_7  \n",
      "bzip2                     1.0.8                he774522_0  \n",
      "ca-certificates           2023.12.12           haa95532_0  \n",
      "cached-property           1.5.2                hd8ed1ab_1    conda-forge\n",
      "cached_property           1.5.2              pyha770c72_1    conda-forge\n",
      "certifi                   2023.11.17         pyhd8ed1ab_0    conda-forge\n",
      "cffi                      1.16.0          py311h2bbff1b_0  \n",
      "charset-normalizer        2.0.4              pyhd3eb1b0_0  \n",
      "colorama                  0.4.6           py311haa95532_0  \n",
      "comm                      0.2.1              pyhd8ed1ab_0    conda-forge\n",
      "conda                     23.11.0         py311h1ea47a8_1    conda-forge\n",
      "conda-content-trust       0.2.0           py311haa95532_0  \n",
      "conda-libmamba-solver     23.12.0            pyhd3eb1b0_1  \n",
      "conda-package-handling    2.2.0           py311haa95532_0  \n",
      "conda-package-streaming   0.9.0           py311haa95532_0  \n",
      "console_shortcut_miniconda 0.1.1                haa95532_1  \n",
      "cryptography              41.0.7          py311h89fc84f_0  \n",
      "debugpy                   1.8.0           py311h12c1d0e_1    conda-forge\n",
      "decorator                 5.1.1              pyhd8ed1ab_0    conda-forge\n",
      "defusedxml                0.7.1              pyhd8ed1ab_0    conda-forge\n",
      "distro                    1.8.0           py311haa95532_0  \n",
      "entrypoints               0.4                pyhd8ed1ab_0    conda-forge\n",
      "exceptiongroup            1.2.0              pyhd8ed1ab_2    conda-forge\n",
      "executing                 2.0.1              pyhd8ed1ab_0    conda-forge\n",
      "fmt                       9.1.0                h6d14046_0  \n",
      "fqdn                      1.5.1              pyhd8ed1ab_0    conda-forge\n",
      "idna                      3.4             py311haa95532_0  \n",
      "importlib-metadata        7.0.1              pyha770c72_0    conda-forge\n",
      "importlib_metadata        7.0.1                hd8ed1ab_0    conda-forge\n",
      "importlib_resources       6.1.1              pyhd8ed1ab_0    conda-forge\n",
      "intel-openmp              2023.2.0         h57928b3_50497    conda-forge\n",
      "ipykernel                 6.29.0             pyha63f2e9_0    conda-forge\n",
      "ipython                   8.20.0             pyh7428d3b_0    conda-forge\n",
      "ipywidgets                8.1.1              pyhd8ed1ab_0    conda-forge\n",
      "isoduration               20.11.0            pyhd8ed1ab_0    conda-forge\n",
      "jedi                      0.19.1             pyhd8ed1ab_0    conda-forge\n",
      "jinja2                    3.1.3              pyhd8ed1ab_0    conda-forge\n",
      "json5                     0.9.14             pyhd8ed1ab_0    conda-forge\n",
      "jsonpatch                 1.32               pyhd3eb1b0_0  \n",
      "jsonpointer               2.1                pyhd3eb1b0_0  \n",
      "jsonschema                4.21.0             pyhd8ed1ab_0    conda-forge\n",
      "jsonschema-specifications 2023.12.1          pyhd8ed1ab_0    conda-forge\n",
      "jsonschema-with-format-nongpl 4.21.0             pyhd8ed1ab_0    conda-forge\n",
      "jupyter                   1.0.0             pyhd8ed1ab_10    conda-forge\n",
      "jupyter-lsp               2.2.1              pyhd8ed1ab_0    conda-forge\n",
      "jupyter_client            8.6.0              pyhd8ed1ab_0    conda-forge\n",
      "jupyter_console           6.6.3              pyhd8ed1ab_0    conda-forge\n",
      "jupyter_core              5.7.1           py311h1ea47a8_0    conda-forge\n",
      "jupyter_events            0.9.0              pyhd8ed1ab_0    conda-forge\n",
      "jupyter_server            2.12.5             pyhd8ed1ab_0    conda-forge\n",
      "jupyter_server_terminals  0.5.1              pyhd8ed1ab_0    conda-forge\n",
      "jupyterlab                4.0.10             pyhd8ed1ab_0    conda-forge\n",
      "jupyterlab_pygments       0.3.0              pyhd8ed1ab_0    conda-forge\n",
      "jupyterlab_server         2.25.2             pyhd8ed1ab_0    conda-forge\n",
      "jupyterlab_widgets        3.0.9              pyhd8ed1ab_0    conda-forge\n",
      "libarchive                3.6.2                hb62f4d4_2  \n",
      "libblas                   3.9.0              20_win64_mkl    conda-forge\n",
      "libcblas                  3.9.0              20_win64_mkl    conda-forge\n",
      "libcurl                   8.4.0                h86230a5_1  \n",
      "libffi                    3.4.4                hd77b12b_0  \n",
      "libhwloc                  2.9.1                h51c2c0f_0    conda-forge\n",
      "libiconv                  1.16                 h2bbff1b_2  \n",
      "liblapack                 3.9.0              20_win64_mkl    conda-forge\n",
      "libmamba                  1.5.3                hcd6fe79_0  \n",
      "libmambapy                1.5.3           py311h77c03ed_0  \n",
      "libsodium                 1.0.18               h8d14728_1    conda-forge\n",
      "libsolv                   0.7.24               h23ce68f_0  \n",
      "libssh2                   1.10.0               he2ea4bf_2  \n",
      "libxml2                   2.10.4               h0ad7f3c_1  \n",
      "lz4-c                     1.9.4                h2bbff1b_0  \n",
      "markupsafe                2.1.3           py311ha68e1ae_1    conda-forge\n",
      "matplotlib-inline         0.1.6              pyhd8ed1ab_0    conda-forge\n",
      "menuinst                  2.0.1           py311hd77b12b_1  \n",
      "mistune                   3.0.2              pyhd8ed1ab_0    conda-forge\n",
      "mkl                       2023.2.0         h6a75c08_50497    conda-forge\n",
      "nbclient                  0.8.0              pyhd8ed1ab_0    conda-forge\n",
      "nbconvert                 7.14.2             pyhd8ed1ab_0    conda-forge\n",
      "nbconvert-core            7.14.2             pyhd8ed1ab_0    conda-forge\n",
      "nbconvert-pandoc          7.14.2             pyhd8ed1ab_0    conda-forge\n",
      "nbformat                  5.9.2              pyhd8ed1ab_0    conda-forge\n",
      "nest-asyncio              1.5.9              pyhd8ed1ab_0    conda-forge\n",
      "notebook                  7.0.6              pyhd8ed1ab_0    conda-forge\n",
      "notebook-shim             0.2.3              pyhd8ed1ab_0    conda-forge\n",
      "numpy                     1.26.3          py311h0b4df5a_0    conda-forge\n",
      "openssl                   3.2.0                hcfcfb64_1    conda-forge\n",
      "overrides                 7.4.0              pyhd8ed1ab_0    conda-forge\n",
      "packaging                 23.1            py311haa95532_0  \n",
      "pandoc                    3.1.3                h57928b3_0    conda-forge\n",
      "pandocfilters             1.5.0              pyhd8ed1ab_0    conda-forge\n",
      "parso                     0.8.3              pyhd8ed1ab_0    conda-forge\n",
      "pcre2                     10.42                h0ff8eda_0  \n",
      "pickleshare               0.7.5                   py_1003    conda-forge\n",
      "pip                       23.3.1          py311haa95532_0  \n",
      "pkgutil-resolve-name      1.3.10             pyhd8ed1ab_1    conda-forge\n",
      "platformdirs              3.10.0          py311haa95532_0  \n",
      "pluggy                    1.0.0           py311haa95532_1  \n",
      "powershell_shortcut_miniconda 0.0.1                haa95532_1  \n",
      "prometheus_client         0.19.0             pyhd8ed1ab_0    conda-forge\n",
      "prompt-toolkit            3.0.42             pyha770c72_0    conda-forge\n",
      "prompt_toolkit            3.0.42               hd8ed1ab_0    conda-forge\n",
      "psutil                    5.9.7           py311ha68e1ae_0    conda-forge\n",
      "pthreads-win32            2.9.1                hfa6e2cd_3    conda-forge\n",
      "pure_eval                 0.2.2              pyhd8ed1ab_0    conda-forge\n",
      "pybind11-abi              4                    hd3eb1b0_1  \n",
      "pycosat                   0.6.6           py311h2bbff1b_0  \n",
      "pycparser                 2.21               pyhd3eb1b0_0  \n",
      "pygments                  2.17.2             pyhd8ed1ab_0    conda-forge\n",
      "pyopenssl                 23.2.0          py311haa95532_0  \n",
      "pysocks                   1.7.1           py311haa95532_0  \n",
      "python                    3.11.5               he1021f5_0  \n",
      "python-dateutil           2.8.2              pyhd8ed1ab_0    conda-forge\n",
      "python-fastjsonschema     2.19.1             pyhd8ed1ab_0    conda-forge\n",
      "python-json-logger        2.0.7              pyhd8ed1ab_0    conda-forge\n",
      "python_abi                3.11                    2_cp311    conda-forge\n",
      "pytz                      2023.3.post1       pyhd8ed1ab_0    conda-forge\n",
      "pywin32                   306             py311h12c1d0e_2    conda-forge\n",
      "pywinpty                  2.0.12          py311h12c1d0e_0    conda-forge\n",
      "pyyaml                    6.0.1           py311ha68e1ae_1    conda-forge\n",
      "pyzmq                     25.1.2          py311h9250fbb_0    conda-forge\n",
      "qtconsole-base            5.5.1              pyha770c72_0    conda-forge\n",
      "qtpy                      2.4.1              pyhd8ed1ab_0    conda-forge\n",
      "referencing               0.32.1             pyhd8ed1ab_0    conda-forge\n",
      "reproc                    14.2.4               hd77b12b_1  \n",
      "reproc-cpp                14.2.4               hd77b12b_1  \n",
      "requests                  2.31.0          py311haa95532_0  \n",
      "rfc3339-validator         0.1.4              pyhd8ed1ab_0    conda-forge\n",
      "rfc3986-validator         0.1.1              pyh9f0ad1d_0    conda-forge\n",
      "rpds-py                   0.17.1          py311hc37eb10_0    conda-forge\n",
      "ruamel.yaml               0.17.21         py311h2bbff1b_0  \n",
      "send2trash                1.8.2              pyh08f2357_0    conda-forge\n",
      "setuptools                68.2.2          py311haa95532_0  \n",
      "six                       1.16.0             pyh6c4a22f_0    conda-forge\n",
      "sniffio                   1.3.0              pyhd8ed1ab_0    conda-forge\n",
      "soupsieve                 2.5                pyhd8ed1ab_1    conda-forge\n",
      "sqlite                    3.41.2               h2bbff1b_0  \n",
      "stack_data                0.6.2              pyhd8ed1ab_0    conda-forge\n",
      "tbb                       2021.9.0             h91493d7_0    conda-forge\n",
      "terminado                 0.18.0             pyh5737063_0    conda-forge\n",
      "tinycss2                  1.2.1              pyhd8ed1ab_0    conda-forge\n",
      "tk                        8.6.12               h2bbff1b_0  \n",
      "tomli                     2.0.1              pyhd8ed1ab_0    conda-forge\n",
      "tornado                   6.3.3           py311ha68e1ae_1    conda-forge\n",
      "tqdm                      4.65.0          py311h746a85d_0  \n",
      "traitlets                 5.14.1             pyhd8ed1ab_0    conda-forge\n",
      "truststore                0.8.0           py311haa95532_0  \n",
      "types-python-dateutil     2.8.19.20240106    pyhd8ed1ab_0    conda-forge\n",
      "typing-extensions         4.9.0                hd8ed1ab_0    conda-forge\n",
      "typing_extensions         4.9.0              pyha770c72_0    conda-forge\n",
      "typing_utils              0.1.0              pyhd8ed1ab_0    conda-forge\n",
      "tzdata                    2023c                h04d1e81_0  \n",
      "ucrt                      10.0.22621.0         h57928b3_0    conda-forge\n",
      "uri-template              1.3.0              pyhd8ed1ab_0    conda-forge\n",
      "urllib3                   1.26.18         py311haa95532_0  \n",
      "vc                        14.2                 h21ff451_1  \n",
      "vc14_runtime              14.38.33130         h82b7239_18    conda-forge\n",
      "vs2015_runtime            14.38.33130         hcb4865c_18    conda-forge\n",
      "wcwidth                   0.2.13             pyhd8ed1ab_0    conda-forge\n",
      "webcolors                 1.13               pyhd8ed1ab_0    conda-forge\n",
      "webencodings              0.5.1              pyhd8ed1ab_2    conda-forge\n",
      "websocket-client          1.7.0              pyhd8ed1ab_0    conda-forge\n",
      "wheel                     0.41.2          py311haa95532_0  \n",
      "widgetsnbextension        4.0.9              pyhd8ed1ab_0    conda-forge\n",
      "win_inet_pton             1.1.0           py311haa95532_0  \n",
      "winpty                    0.4.3                         4    conda-forge\n",
      "xz                        5.4.5                h8cc25b3_0  \n",
      "yaml                      0.2.5                h8ffe710_2    conda-forge\n",
      "yaml-cpp                  0.8.0                hd77b12b_0  \n",
      "zeromq                    4.3.5                h63175ca_0    conda-forge\n",
      "zipp                      3.17.0             pyhd8ed1ab_0    conda-forge\n",
      "zlib                      1.2.13               h8cc25b3_0  \n",
      "zstandard                 0.19.0          py311h2bbff1b_0  \n",
      "zstd                      1.5.5                hd43e919_0  \n"
     ]
    }
   ],
   "source": [
    "!conda list"
   ]
  },
  {
   "cell_type": "markdown",
   "id": "b71fe6ca-dbc8-421f-b4ca-f71d2649c96a",
   "metadata": {},
   "source": [
    "### **1.3 Shell magic**"
   ]
  },
  {
   "cell_type": "markdown",
   "id": "c7bceb50-e13c-48c1-9ed4-288cf8a731a4",
   "metadata": {},
   "source": [
    "One of the most useful goodies that come with Jupyter are the magic commands. For example, This is **line magic**:"
   ]
  },
  {
   "cell_type": "code",
   "execution_count": 4,
   "id": "5f95bff4-b792-4f9b-ab69-0df89b23dd66",
   "metadata": {},
   "outputs": [
    {
     "name": "stdout",
     "output_type": "stream",
     "text": [
      "28.5 ns ± 1.66 ns per loop (mean ± std. dev. of 7 runs, 10,000,000 loops each)\n"
     ]
    }
   ],
   "source": [
    "%timeit x=10"
   ]
  },
  {
   "cell_type": "markdown",
   "id": "c8d6b60b-5f82-48b8-b92f-9d7aad544060",
   "metadata": {},
   "source": [
    "This is **cell magic**"
   ]
  },
  {
   "cell_type": "code",
   "execution_count": 5,
   "id": "5ad6a821-fa10-4b44-b38b-6989f6cf980b",
   "metadata": {},
   "outputs": [
    {
     "name": "stdout",
     "output_type": "stream",
     "text": [
      "50.6 ns ± 3.04 ns per loop (mean ± std. dev. of 7 runs, 10,000,000 loops each)\n"
     ]
    }
   ],
   "source": [
    "%%timeit \n",
    "x=10\n",
    "y=10\n",
    "z=10"
   ]
  },
  {
   "cell_type": "code",
   "execution_count": 6,
   "id": "910d70b1-8865-478e-96cd-0b8ce2eeb6b4",
   "metadata": {},
   "outputs": [
    {
     "data": {
      "application/json": {
       "cell": {
        "!": "OSMagics",
        "HTML": "Other",
        "SVG": "Other",
        "bash": "Other",
        "capture": "ExecutionMagics",
        "cmd": "Other",
        "code_wrap": "ExecutionMagics",
        "debug": "ExecutionMagics",
        "file": "Other",
        "html": "DisplayMagics",
        "javascript": "DisplayMagics",
        "js": "DisplayMagics",
        "latex": "DisplayMagics",
        "markdown": "DisplayMagics",
        "perl": "Other",
        "prun": "ExecutionMagics",
        "pypy": "Other",
        "python": "Other",
        "python2": "Other",
        "python3": "Other",
        "ruby": "Other",
        "script": "ScriptMagics",
        "sh": "Other",
        "svg": "DisplayMagics",
        "sx": "OSMagics",
        "system": "OSMagics",
        "time": "ExecutionMagics",
        "timeit": "ExecutionMagics",
        "writefile": "OSMagics"
       },
       "line": {
        "alias": "OSMagics",
        "alias_magic": "BasicMagics",
        "autoawait": "AsyncMagics",
        "autocall": "AutoMagics",
        "automagic": "AutoMagics",
        "autosave": "KernelMagics",
        "bookmark": "OSMagics",
        "cd": "OSMagics",
        "clear": "KernelMagics",
        "cls": "KernelMagics",
        "code_wrap": "ExecutionMagics",
        "colors": "BasicMagics",
        "conda": "PackagingMagics",
        "config": "ConfigMagics",
        "connect_info": "KernelMagics",
        "copy": "Other",
        "ddir": "Other",
        "debug": "ExecutionMagics",
        "dhist": "OSMagics",
        "dirs": "OSMagics",
        "doctest_mode": "BasicMagics",
        "echo": "Other",
        "ed": "Other",
        "edit": "KernelMagics",
        "env": "OSMagics",
        "gui": "BasicMagics",
        "hist": "Other",
        "history": "HistoryMagics",
        "killbgscripts": "ScriptMagics",
        "ldir": "Other",
        "less": "KernelMagics",
        "load": "CodeMagics",
        "load_ext": "ExtensionMagics",
        "loadpy": "CodeMagics",
        "logoff": "LoggingMagics",
        "logon": "LoggingMagics",
        "logstart": "LoggingMagics",
        "logstate": "LoggingMagics",
        "logstop": "LoggingMagics",
        "ls": "Other",
        "lsmagic": "BasicMagics",
        "macro": "ExecutionMagics",
        "magic": "BasicMagics",
        "mamba": "PackagingMagics",
        "matplotlib": "PylabMagics",
        "micromamba": "PackagingMagics",
        "mkdir": "Other",
        "more": "KernelMagics",
        "notebook": "BasicMagics",
        "page": "BasicMagics",
        "pastebin": "CodeMagics",
        "pdb": "ExecutionMagics",
        "pdef": "NamespaceMagics",
        "pdoc": "NamespaceMagics",
        "pfile": "NamespaceMagics",
        "pinfo": "NamespaceMagics",
        "pinfo2": "NamespaceMagics",
        "pip": "PackagingMagics",
        "popd": "OSMagics",
        "pprint": "BasicMagics",
        "precision": "BasicMagics",
        "prun": "ExecutionMagics",
        "psearch": "NamespaceMagics",
        "psource": "NamespaceMagics",
        "pushd": "OSMagics",
        "pwd": "OSMagics",
        "pycat": "OSMagics",
        "pylab": "PylabMagics",
        "qtconsole": "KernelMagics",
        "quickref": "BasicMagics",
        "recall": "HistoryMagics",
        "rehashx": "OSMagics",
        "reload_ext": "ExtensionMagics",
        "ren": "Other",
        "rep": "Other",
        "rerun": "HistoryMagics",
        "reset": "NamespaceMagics",
        "reset_selective": "NamespaceMagics",
        "rmdir": "Other",
        "run": "ExecutionMagics",
        "save": "CodeMagics",
        "sc": "OSMagics",
        "set_env": "OSMagics",
        "store": "StoreMagics",
        "sx": "OSMagics",
        "system": "OSMagics",
        "tb": "ExecutionMagics",
        "time": "ExecutionMagics",
        "timeit": "ExecutionMagics",
        "unalias": "OSMagics",
        "unload_ext": "ExtensionMagics",
        "who": "NamespaceMagics",
        "who_ls": "NamespaceMagics",
        "whos": "NamespaceMagics",
        "xdel": "NamespaceMagics",
        "xmode": "BasicMagics"
       }
      },
      "text/plain": [
       "Available line magics:\n",
       "%alias  %alias_magic  %autoawait  %autocall  %automagic  %autosave  %bookmark  %cd  %clear  %cls  %code_wrap  %colors  %conda  %config  %connect_info  %copy  %ddir  %debug  %dhist  %dirs  %doctest_mode  %echo  %ed  %edit  %env  %gui  %hist  %history  %killbgscripts  %ldir  %less  %load  %load_ext  %loadpy  %logoff  %logon  %logstart  %logstate  %logstop  %ls  %lsmagic  %macro  %magic  %mamba  %matplotlib  %micromamba  %mkdir  %more  %notebook  %page  %pastebin  %pdb  %pdef  %pdoc  %pfile  %pinfo  %pinfo2  %pip  %popd  %pprint  %precision  %prun  %psearch  %psource  %pushd  %pwd  %pycat  %pylab  %qtconsole  %quickref  %recall  %rehashx  %reload_ext  %ren  %rep  %rerun  %reset  %reset_selective  %rmdir  %run  %save  %sc  %set_env  %store  %sx  %system  %tb  %time  %timeit  %unalias  %unload_ext  %who  %who_ls  %whos  %xdel  %xmode\n",
       "\n",
       "Available cell magics:\n",
       "%%!  %%HTML  %%SVG  %%bash  %%capture  %%cmd  %%code_wrap  %%debug  %%file  %%html  %%javascript  %%js  %%latex  %%markdown  %%perl  %%prun  %%pypy  %%python  %%python2  %%python3  %%ruby  %%script  %%sh  %%svg  %%sx  %%system  %%time  %%timeit  %%writefile\n",
       "\n",
       "Automagic is ON, % prefix IS NOT needed for line magics."
      ]
     },
     "execution_count": 6,
     "metadata": {},
     "output_type": "execute_result"
    }
   ],
   "source": [
    "%lsmagic"
   ]
  },
  {
   "cell_type": "markdown",
   "id": "0d8370cc-8129-4044-b227-25b1c8fa6680",
   "metadata": {},
   "source": [
    "### **1.4 The Kernel**"
   ]
  },
  {
   "cell_type": "markdown",
   "id": "48d32231-0a5e-4797-9d5a-9c7020bd3ca9",
   "metadata": {},
   "source": [
    "Use the Kernel to reset when Jupyter misbehaves "
   ]
  }
 ],
 "metadata": {
  "kernelspec": {
   "display_name": "Python 3 (ipykernel)",
   "language": "python",
   "name": "python3"
  },
  "language_info": {
   "codemirror_mode": {
    "name": "ipython",
    "version": 3
   },
   "file_extension": ".py",
   "mimetype": "text/x-python",
   "name": "python",
   "nbconvert_exporter": "python",
   "pygments_lexer": "ipython3",
   "version": "3.11.5"
  }
 },
 "nbformat": 4,
 "nbformat_minor": 5
}
