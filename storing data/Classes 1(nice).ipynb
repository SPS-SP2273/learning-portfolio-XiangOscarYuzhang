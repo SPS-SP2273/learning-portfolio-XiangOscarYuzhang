{
 "cells": [
  {
   "cell_type": "markdown",
   "id": "1f4769ed-ae30-42be-8be6-d5815f078fe9",
   "metadata": {},
   "source": [
    "# A particle class"
   ]
  },
  {
   "cell_type": "markdown",
   "id": "c8e8f896-f6fe-4403-b22b-da0aafacaa15",
   "metadata": {},
   "source": [
    "## 2.1 Setting up a simple class"
   ]
  },
  {
   "cell_type": "code",
   "execution_count": 1,
   "id": "b3928ac3-68be-48e9-9928-4069c1412d17",
   "metadata": {},
   "outputs": [],
   "source": [
    "class CParticle1D:\n",
    "    mass=None\n",
    "    position=None\n",
    "    radius=None"
   ]
  },
  {
   "cell_type": "markdown",
   "id": "31642a37-4798-4a61-972d-e1cb3c79375b",
   "metadata": {},
   "source": [
    "## 2.2 Using the class"
   ]
  },
  {
   "cell_type": "code",
   "execution_count": 2,
   "id": "066651f1-b939-4e4d-8501-b1a1b7bcfad3",
   "metadata": {},
   "outputs": [],
   "source": [
    "particle_0=CParticle1D()        # Create a new particle\n",
    "particle_0.mass=10             # Set mass for particle 0 \n",
    "particle_0.position=.5         # Set position of particle 0\n",
    "particle_0.radius=.01          # Set the radius of particle 0\n",
    "\n",
    "particle_1=CParticle1D()        # Create another particle\n",
    "particle_1.mass=20             # Set mass for particle 1 \n",
    "particle_1.position=.1         # Set position of particle 1\n",
    "particle_1.radius=.01          # Set the radius of particle 1"
   ]
  },
  {
   "cell_type": "markdown",
   "id": "ea0fd4c7-c1ef-4197-bc53-941d125d4d85",
   "metadata": {},
   "source": [
    "Remember: objects are instances of a class."
   ]
  },
  {
   "cell_type": "code",
   "execution_count": 3,
   "id": "a6af2c54-33a0-491f-a07f-eda71515793e",
   "metadata": {},
   "outputs": [
    {
     "name": "stdout",
     "output_type": "stream",
     "text": [
      "Particle 0 has mass 10 and is at position 0.5.\n"
     ]
    }
   ],
   "source": [
    "print(f'Particle 0 has mass {particle_0.mass} and is at position {particle_0.position}.')"
   ]
  },
  {
   "cell_type": "code",
   "execution_count": 4,
   "id": "eda43e57-b2fe-4957-93f9-d466d6cd8412",
   "metadata": {},
   "outputs": [
    {
     "name": "stdout",
     "output_type": "stream",
     "text": [
      "Particle 1 has mass 20 and is at position 0.1.\n"
     ]
    }
   ],
   "source": [
    "print(f'Particle 1 has mass {particle_1.mass} and is at position {particle_1.position}.')"
   ]
  },
  {
   "cell_type": "markdown",
   "id": "88286a66-8ebd-4827-a888-12192b586c9b",
   "metadata": {},
   "source": [
    "## 2.3 Class vs Object variables"
   ]
  },
  {
   "cell_type": "code",
   "execution_count": 9,
   "id": "3bd6a305-2d0d-437a-a0cb-4ba3cfeefd6a",
   "metadata": {},
   "outputs": [],
   "source": [
    "CParticle1D.mass = 99           # Set the class variable mass\n",
    "CParticle1D.radius = .01        # Set the class variable radius\n",
    "\n",
    "particle_0=CParticle1D()        # Create a new particle\n",
    "particle_0.mass=10\n",
    "particle_0.position=.5         # Set position of particle 0\n",
    "                               # This is the position variable\n",
    "                               # of object 0\n",
    "\n",
    "particle_1=CParticle1D()        # Create another particle\n",
    "particle_1.position=.1         # Set position of particle 1\n",
    "                               # This is the position variable\n",
    "                               # of object 1"
   ]
  },
  {
   "cell_type": "code",
   "execution_count": 10,
   "id": "e404a575-cd75-416b-860e-d1ac7a350c9f",
   "metadata": {},
   "outputs": [
    {
     "name": "stdout",
     "output_type": "stream",
     "text": [
      "Particle 0 has mass 10 and is at position 0.5.\n"
     ]
    }
   ],
   "source": [
    "print(f'Particle 0 has mass {particle_0.mass} and is at position {particle_0.position}.')"
   ]
  },
  {
   "cell_type": "code",
   "execution_count": 11,
   "id": "7d7b8f80-fb81-4220-a415-62c81a5fcafa",
   "metadata": {},
   "outputs": [
    {
     "name": "stdout",
     "output_type": "stream",
     "text": [
      "Particle 1 has mass 99 and is at position 0.1.\n"
     ]
    }
   ],
   "source": [
    "print(f'Particle 1 has mass {particle_1.mass} and is at position {particle_1.position}.')"
   ]
  },
  {
   "cell_type": "markdown",
   "id": "5e1a66ed-0452-40d8-8b3c-1cf2a102cf49",
   "metadata": {},
   "source": [
    "## 2.4 Making it more scalable"
   ]
  },
  {
   "cell_type": "code",
   "execution_count": 13,
   "id": "a9dadc4b-ac9d-413c-a076-78e5da5be963",
   "metadata": {},
   "outputs": [],
   "source": [
    "import numpy as np"
   ]
  },
  {
   "cell_type": "code",
   "execution_count": 14,
   "id": "f4846559-7644-4ed3-b5ad-93182dfea201",
   "metadata": {},
   "outputs": [],
   "source": [
    "# Make all the particles identical\n",
    "CParticle1D.mass=99\n",
    "CParticle1D.radius=.01\n",
    "\n",
    "# Create a list of particles\n",
    "all_particles=[CParticle1D()]\n",
    "all_particles+=[CParticle1D()]\n",
    "all_particles+=[CParticle1D()]\n",
    "\n",
    "# Initialise with a random position\n",
    "i = 0\n",
    "all_particles[i].position=np.random.rand()\n",
    "\n",
    "i += 1\n",
    "all_particles[i].position=np.random.rand()\n",
    "\n",
    "i += 1\n",
    "all_particles[i].position=np.random.rand()"
   ]
  },
  {
   "cell_type": "code",
   "execution_count": 15,
   "id": "7661d84b-4de4-4be3-8da8-7edc8de19759",
   "metadata": {},
   "outputs": [
    {
     "name": "stdout",
     "output_type": "stream",
     "text": [
      "Particle 0: mass=99, position= 0.852.\n"
     ]
    }
   ],
   "source": [
    "i = 0\n",
    "print(f'Particle {i}: mass={all_particles[i].mass}, position= {all_particles[i].position:.3f}.')"
   ]
  },
  {
   "cell_type": "code",
   "execution_count": 16,
   "id": "c66ca207-3094-40aa-ac72-ef5b5cd7c7f7",
   "metadata": {},
   "outputs": [
    {
     "name": "stdout",
     "output_type": "stream",
     "text": [
      "Particle 1: mass=99, position= 0.191.\n"
     ]
    }
   ],
   "source": [
    "i += 1\n",
    "print(f'Particle {i}: mass={all_particles[i].mass}, position= {all_particles[i].position:.3f}.')"
   ]
  },
  {
   "cell_type": "code",
   "execution_count": 17,
   "id": "93d0bafb-843b-4275-a820-13e3cc0690b2",
   "metadata": {},
   "outputs": [
    {
     "name": "stdout",
     "output_type": "stream",
     "text": [
      "Particle 2: mass=99, position= 0.300.\n"
     ]
    }
   ],
   "source": [
    "i += 1\n",
    "print(f'Particle {i}: mass={all_particles[i].mass}, position= {all_particles[i].position:.3f}.')"
   ]
  }
 ],
 "metadata": {
  "kernelspec": {
   "display_name": "Python 3 (ipykernel)",
   "language": "python",
   "name": "python3"
  },
  "language_info": {
   "codemirror_mode": {
    "name": "ipython",
    "version": 3
   },
   "file_extension": ".py",
   "mimetype": "text/x-python",
   "name": "python",
   "nbconvert_exporter": "python",
   "pygments_lexer": "ipython3",
   "version": "3.11.5"
  }
 },
 "nbformat": 4,
 "nbformat_minor": 5
}
