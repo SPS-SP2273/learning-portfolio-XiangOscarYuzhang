{
 "cells": [
  {
   "attachments": {},
   "cell_type": "markdown",
   "id": "123456",
   "metadata": {},
   "source": [
    "<div style=\"text-align:left;font-size:2em\"><span style=\"font-weight:bolder;font-size:1.25em\">SP2273 | Learning Portfolio</span><br><br><span style=\"font-weight:bold;color:darkred\">Storing Data (Good)</span></div>"
   ]
  },
  {
   "attachments": {},
   "cell_type": "markdown",
   "id": "0b84c13a",
   "metadata": {},
   "source": [
    "# What to expect in this chapter"
   ]
  },
  {
   "attachments": {},
   "cell_type": "markdown",
   "id": "0b83ef93",
   "metadata": {},
   "source": [
    "# 1 Subsetting: Indexing and Slicing"
   ]
  },
  {
   "cell_type": "markdown",
   "id": "7ca590d3-e311-4af1-a363-08f198e51256",
   "metadata": {},
   "source": [
    "- **Subsetting** means to ‘select’.\n",
    "- **Indexing** refers to selecting one element.\n",
    "- **Slicing** refers to selecting a range of elements.s."
   ]
  },
  {
   "attachments": {},
   "cell_type": "markdown",
   "id": "2398455c",
   "metadata": {},
   "source": [
    "## 1.1 Lists & Arrays in 1D | Subsetting & Indexing"
   ]
  },
  {
   "cell_type": "code",
   "execution_count": 2,
   "id": "c29d7a2f-33d6-4e00-bee7-9da44fe9ecbd",
   "metadata": {},
   "outputs": [],
   "source": [
    "import numpy as np"
   ]
  },
  {
   "cell_type": "code",
   "execution_count": 3,
   "id": "96fe0935-7870-4d93-be08-ab0964b4c469",
   "metadata": {},
   "outputs": [],
   "source": [
    "py_list=[\"a1\", \"b2\", \"c3\", \"d4\", \"e5\",\n",
    "         \"f6\", \"g7\", \"h8\", \"i9\", \"j10\"]\n",
    "np_array=np.array(py_list)\n",
    "\n",
    "# Pick one\n",
    "x = py_list  # OR\n",
    "x = np_array"
   ]
  },
  {
   "cell_type": "code",
   "execution_count": 5,
   "id": "5ac84a79-664b-468d-92b2-b01f7e441cf9",
   "metadata": {},
   "outputs": [
    {
     "data": {
      "text/plain": [
       "'a1'"
      ]
     },
     "execution_count": 5,
     "metadata": {},
     "output_type": "execute_result"
    }
   ],
   "source": [
    "x[0]     #this is indexing that pick the first element \"a1\""
   ]
  },
  {
   "cell_type": "code",
   "execution_count": null,
   "id": "493c298e-4343-4dff-bce8-03888a8533aa",
   "metadata": {},
   "outputs": [],
   "source": [
    "x[-1]   #this is indexing, picking the last element \"j10\""
   ]
  },
  {
   "cell_type": "code",
   "execution_count": 12,
   "id": "f55a3f90-3c8a-4861-9bbf-9ed532b5867b",
   "metadata": {},
   "outputs": [
    {
     "data": {
      "text/plain": [
       "array(['a1', 'b2', 'c3'], dtype='<U3')"
      ]
     },
     "execution_count": 12,
     "metadata": {},
     "output_type": "execute_result"
    }
   ],
   "source": [
    "x[0:3]  #this slicing, from first element 'a1' to third element'c3' (index 0 to 2)(3-0=3 elements)"
   ]
  },
  {
   "cell_type": "code",
   "execution_count": 13,
   "id": "6d985303-c088-40a8-bc06-fdc81b9a2671",
   "metadata": {},
   "outputs": [
    {
     "data": {
      "text/plain": [
       "array(['b2', 'c3', 'd4', 'e5', 'f6'], dtype='<U3')"
      ]
     },
     "execution_count": 13,
     "metadata": {},
     "output_type": "execute_result"
    }
   ],
   "source": [
    "x[1:6]  #slicing from second element 'b2' to sixth element 'f6' (index 1 to 5)(6-1=5elements)"
   ]
  },
  {
   "cell_type": "code",
   "execution_count": 14,
   "id": "5b93b69a-6be7-43e1-819a-787322df88b5",
   "metadata": {},
   "outputs": [
    {
     "data": {
      "text/plain": [
       "array(['b2', 'd4', 'f6'], dtype='<U3')"
      ]
     },
     "execution_count": 14,
     "metadata": {},
     "output_type": "execute_result"
    }
   ],
   "source": [
    "x[1:6:2] #index from 1 to 5 and the distance is 2 units.(6-1=5elements)"
   ]
  },
  {
   "cell_type": "code",
   "execution_count": 17,
   "id": "afecbe56-4479-4fc5-83d6-833911f02613",
   "metadata": {},
   "outputs": [
    {
     "data": {
      "text/plain": [
       "array(['a1', 'd4', 'g7'], dtype='<U3')"
      ]
     },
     "execution_count": 17,
     "metadata": {},
     "output_type": "execute_result"
    }
   ],
   "source": [
    "x[0:8:3]  #index from 0 to 7 and distance is 3(8-0=8 elements)"
   ]
  },
  {
   "cell_type": "code",
   "execution_count": 19,
   "id": "d78a7124-1860-49a7-acee-761ae8ed31df",
   "metadata": {},
   "outputs": [
    {
     "data": {
      "text/plain": [
       "array(['f6', 'g7', 'h8', 'i9', 'j10'], dtype='<U3')"
      ]
     },
     "execution_count": 19,
     "metadata": {},
     "output_type": "execute_result"
    }
   ],
   "source": [
    "x[5:]    # from the index 5 to the end (0-5=-5 with abusolute number 5 elements)"
   ]
  },
  {
   "cell_type": "code",
   "execution_count": 20,
   "id": "bf049dd8-7280-42d8-9eb7-d8b9cba24dfd",
   "metadata": {},
   "outputs": [
    {
     "data": {
      "text/plain": [
       "array(['a1', 'b2', 'c3', 'd4', 'e5'], dtype='<U3')"
      ]
     },
     "execution_count": 20,
     "metadata": {},
     "output_type": "execute_result"
    }
   ],
   "source": [
    "x[:5] #= x[0:5] ,from index 0 to 4(5-0=5 elements)"
   ]
  },
  {
   "cell_type": "code",
   "execution_count": 23,
   "id": "426e6f02-802b-4dbb-b10e-976097b47e33",
   "metadata": {},
   "outputs": [
    {
     "data": {
      "text/plain": [
       "array(['f6', 'd4'], dtype='<U3')"
      ]
     },
     "execution_count": 23,
     "metadata": {},
     "output_type": "execute_result"
    }
   ],
   "source": [
    "x[5:2:-2] # index from index 5 to index 3 with reverse direction in 2 distance (5-2=3 elements)"
   ]
  },
  {
   "cell_type": "code",
   "execution_count": null,
   "id": "45ec9c48-c858-4740-9207-d21f2c9a9c82",
   "metadata": {},
   "outputs": [],
   "source": [
    "x[::-1] #reverse the whole list"
   ]
  },
  {
   "cell_type": "markdown",
   "id": "c971e375-0ead-4e97-8525-9b76e9bc4a1e",
   "metadata": {},
   "source": [
    "- Tips: if we want to have 0 in the bracket, we can leave it blank for convenience.( x[0:0:-1] = x[::-1] )"
   ]
  },
  {
   "cell_type": "markdown",
   "id": "40e8a97f-e5ba-407c-aca4-ae5aadd2aa7d",
   "metadata": {},
   "source": [
    "### Remember 1.1.2\n",
    "slicing in Python can be a bit tricky.\r\n",
    "If you slice with` [i:j`], the slice will start at` `i and end at` j-`1, giving you a total of` j-`i elements."
   ]
  },
  {
   "attachments": {},
   "cell_type": "markdown",
   "id": "c259ae2c",
   "metadata": {},
   "source": [
    "## 1.2 Arrays only | Subsetting by masking"
   ]
  },
  {
   "cell_type": "code",
   "execution_count": 38,
   "id": "861ac546-3dff-46ed-bd51-4b0bcf3aa1a8",
   "metadata": {},
   "outputs": [
    {
     "data": {
      "text/plain": [
       "array([False, False, False,  True,  True,  True,  True,  True,  True,\n",
       "        True])"
      ]
     },
     "execution_count": 38,
     "metadata": {},
     "output_type": "execute_result"
    }
   ],
   "source": [
    "np_array = np.array([1, 2, 3, 4, 5, 6, 7, 8, 9, 10])\n",
    "my_mask = np_array > 3\n",
    "my_mask"
   ]
  },
  {
   "cell_type": "code",
   "execution_count": 27,
   "id": "e00c69c2-4e3e-4c89-a340-19ba0af93282",
   "metadata": {},
   "outputs": [
    {
     "data": {
      "text/plain": [
       "array([ 4,  5,  6,  7,  8,  9, 10])"
      ]
     },
     "execution_count": 27,
     "metadata": {},
     "output_type": "execute_result"
    }
   ],
   "source": [
    "np_array[my_mask]"
   ]
  },
  {
   "cell_type": "code",
   "execution_count": 29,
   "id": "5d53780c-4bb9-4975-9f15-45c56484f06f",
   "metadata": {},
   "outputs": [
    {
     "data": {
      "text/plain": [
       "array([ 4,  5,  6,  7,  8,  9, 10])"
      ]
     },
     "execution_count": 29,
     "metadata": {},
     "output_type": "execute_result"
    }
   ],
   "source": [
    "np_array[np_array > 3]"
   ]
  },
  {
   "cell_type": "code",
   "execution_count": 39,
   "id": "0d5bd3ea-b94c-4e6b-b8b0-a0819ee0d0be",
   "metadata": {},
   "outputs": [
    {
     "data": {
      "text/plain": [
       "array([1, 2, 3])"
      ]
     },
     "execution_count": 39,
     "metadata": {},
     "output_type": "execute_result"
    }
   ],
   "source": [
    "np_array[~(np_array > 3)]                 # '~' means 'NOT'"
   ]
  },
  {
   "cell_type": "code",
   "execution_count": 40,
   "id": "cbc6d184-56b5-4399-b14b-ab797eaa8806",
   "metadata": {},
   "outputs": [
    {
     "data": {
      "text/plain": [
       "array([4, 5, 6, 7])"
      ]
     },
     "execution_count": 40,
     "metadata": {},
     "output_type": "execute_result"
    }
   ],
   "source": [
    "np_array[(np_array > 3) & (np_array < 8)] # '&' means 'AND'"
   ]
  },
  {
   "cell_type": "code",
   "execution_count": 41,
   "id": "2dd05a60-50ab-4f20-9f2b-89ced5bfd074",
   "metadata": {},
   "outputs": [
    {
     "data": {
      "text/plain": [
       "array([ 1,  2,  9, 10])"
      ]
     },
     "execution_count": 41,
     "metadata": {},
     "output_type": "execute_result"
    }
   ],
   "source": [
    "np_array[(np_array < 3) | (np_array > 8)] # '|' means 'OR'"
   ]
  },
  {
   "cell_type": "markdown",
   "id": "01553c45-8fb5-4db6-b60e-adc6afe24c70",
   "metadata": {},
   "source": [
    "### remeber 1.2.1"
   ]
  },
  {
   "cell_type": "markdown",
   "id": "c4e1a240-fe5b-4b51-80a9-eccd958e1125",
   "metadata": {},
   "source": [
    "Remember that subsetting by masking **only** works with NumPy arrays."
   ]
  },
  {
   "cell_type": "markdown",
   "id": "c4f8eba5-9e9e-4a7c-b5f6-ba11801fcb4d",
   "metadata": {},
   "source": [
    "### remember 1.2.2"
   ]
  },
  {
   "cell_type": "markdown",
   "id": "daf42dbc-a318-4a69-980a-e29e2db2eab3",
   "metadata": {},
   "source": [
    "- Always use the Bitwise NOT(`~`), Bitwise OR(`|`) and Bitwise AND(`&`) when combining masks with NumPy.\r",
    "- \n",
    "Always use brackets to clarify what you are asking the mask to do."
   ]
  },
  {
   "attachments": {},
   "cell_type": "markdown",
   "id": "7b26e921",
   "metadata": {},
   "source": [
    "## 1.3 Lists & Arrays in 2D | Indexing & Slicing"
   ]
  },
  {
   "cell_type": "code",
   "execution_count": 42,
   "id": "bf9b09df-3721-4654-97d9-6ea67e78b8e3",
   "metadata": {},
   "outputs": [],
   "source": [
    "py_list_2d = [[1, \"A\"], [2, \"B\"], [3, \"C\"], [4, \"D\"],\n",
    "              [5, \"E\"], [6, \"F\"], [7, \"G\"], [8, \"H\"],\n",
    "              [9, \"I\"], [10, \"J\"]]\n",
    "\n",
    "np_array_2d = np.array(py_list_2d)"
   ]
  },
  {
   "cell_type": "code",
   "execution_count": 44,
   "id": "ffb7fa6e-a42a-4dbd-aa74-ec3eab483b5e",
   "metadata": {},
   "outputs": [
    {
     "data": {
      "text/plain": [
       "[4, 'D']"
      ]
     },
     "execution_count": 44,
     "metadata": {},
     "output_type": "execute_result"
    }
   ],
   "source": [
    "py_list_2d[3]"
   ]
  },
  {
   "cell_type": "code",
   "execution_count": 46,
   "id": "7297789b-ab42-4f52-8dba-8c290b5aa7a1",
   "metadata": {},
   "outputs": [
    {
     "data": {
      "text/plain": [
       "array(['4', 'D'], dtype='<U11')"
      ]
     },
     "execution_count": 46,
     "metadata": {},
     "output_type": "execute_result"
    }
   ],
   "source": [
    "np_array_2d[3]  # remember, array can only store one type of data"
   ]
  },
  {
   "cell_type": "code",
   "execution_count": 48,
   "id": "21cf12d1-3133-415a-8856-fdfa4d7a3fb1",
   "metadata": {},
   "outputs": [
    {
     "data": {
      "text/plain": [
       "4"
      ]
     },
     "execution_count": 48,
     "metadata": {},
     "output_type": "execute_result"
    }
   ],
   "source": [
    "py_list_2d[3][0] # the first element at the index 3(the index 0 of index 3)"
   ]
  },
  {
   "cell_type": "code",
   "execution_count": 50,
   "id": "5967cdb4-0552-4f3f-8e8d-eb4beca379b0",
   "metadata": {},
   "outputs": [
    {
     "data": {
      "text/plain": [
       "'4'"
      ]
     },
     "execution_count": 50,
     "metadata": {},
     "output_type": "execute_result"
    }
   ],
   "source": [
    "np_array_2d[3, 0] # the index 0 of index 3"
   ]
  },
  {
   "cell_type": "code",
   "execution_count": 52,
   "id": "28387cc1-cfc5-4701-99e3-e48de5565cbf",
   "metadata": {},
   "outputs": [
    {
     "data": {
      "text/plain": [
       "[[1, 'A'], [2, 'B'], [3, 'C']]"
      ]
     },
     "execution_count": 52,
     "metadata": {},
     "output_type": "execute_result"
    }
   ],
   "source": [
    "py_list_2d[:3]  # from index 0 to index 2"
   ]
  },
  {
   "cell_type": "code",
   "execution_count": 53,
   "id": "205d7c18-d8df-4bf8-aa6d-1e5bc11ea583",
   "metadata": {},
   "outputs": [
    {
     "data": {
      "text/plain": [
       "array([['1', 'A'],\n",
       "       ['2', 'B'],\n",
       "       ['3', 'C']], dtype='<U11')"
      ]
     },
     "execution_count": 53,
     "metadata": {},
     "output_type": "execute_result"
    }
   ],
   "source": [
    "np_array_2d[:3]"
   ]
  },
  {
   "cell_type": "code",
   "execution_count": 55,
   "id": "fff51954-87b3-450d-b06e-bf2ca8a891e0",
   "metadata": {},
   "outputs": [
    {
     "data": {
      "text/plain": [
       "[1, 'A']"
      ]
     },
     "execution_count": 55,
     "metadata": {},
     "output_type": "execute_result"
    }
   ],
   "source": [
    "py_list_2d[:3][0] # the index 0 of range from index 0 to index 2"
   ]
  },
  {
   "cell_type": "code",
   "execution_count": 59,
   "id": "f8212b6a-46fa-423b-85c1-eb64109bddb0",
   "metadata": {},
   "outputs": [
    {
     "data": {
      "text/plain": [
       "array(['1', '2', '3'], dtype='<U11')"
      ]
     },
     "execution_count": 59,
     "metadata": {},
     "output_type": "execute_result"
    }
   ],
   "source": [
    "np_array_2d[:3, 0] # the first element of every index from range index 0 to index 2"
   ]
  },
  {
   "cell_type": "code",
   "execution_count": 57,
   "id": "afa1b6b7-496c-46b6-b568-03b773ee68ef",
   "metadata": {},
   "outputs": [
    {
     "data": {
      "text/plain": [
       "[4, 'D']"
      ]
     },
     "execution_count": 57,
     "metadata": {},
     "output_type": "execute_result"
    }
   ],
   "source": [
    "py_list_2d[3:6][0]"
   ]
  },
  {
   "cell_type": "code",
   "execution_count": 58,
   "id": "97ce05b9-5935-4912-9245-4ad9a2d2ba36",
   "metadata": {},
   "outputs": [
    {
     "data": {
      "text/plain": [
       "array(['4', '5', '6'], dtype='<U11')"
      ]
     },
     "execution_count": 58,
     "metadata": {},
     "output_type": "execute_result"
    }
   ],
   "source": [
    "np_array_2d[3:6, 0]"
   ]
  },
  {
   "cell_type": "code",
   "execution_count": 60,
   "id": "19bcc3e8-c868-4d10-9193-18c95d51064a",
   "metadata": {},
   "outputs": [
    {
     "data": {
      "text/plain": [
       "array(['1', '2', '3', '4', '5', '6', '7', '8', '9', '10'], dtype='<U11')"
      ]
     },
     "execution_count": 60,
     "metadata": {},
     "output_type": "execute_result"
    }
   ],
   "source": [
    "np_array_2d[:, 0]"
   ]
  },
  {
   "attachments": {},
   "cell_type": "markdown",
   "id": "4d0c954b",
   "metadata": {},
   "source": [
    "## 1.4 Growing lists"
   ]
  },
  {
   "cell_type": "code",
   "execution_count": 61,
   "id": "76fbd132-06dd-41e1-a818-13d920f708a4",
   "metadata": {},
   "outputs": [
    {
     "data": {
      "text/plain": [
       "[1, 2, 1, 2, 1, 2, 1, 2, 1, 2]"
      ]
     },
     "execution_count": 61,
     "metadata": {},
     "output_type": "execute_result"
    }
   ],
   "source": [
    "x=[1, 2]*5\n",
    "x"
   ]
  },
  {
   "cell_type": "code",
   "execution_count": 63,
   "id": "bdfbb015-99ec-4b58-8b7a-bc7c04373e86",
   "metadata": {},
   "outputs": [
    {
     "data": {
      "text/plain": [
       "[1, 2, 3, 4]"
      ]
     },
     "execution_count": 63,
     "metadata": {},
     "output_type": "execute_result"
    }
   ],
   "source": [
    "x=[1]\n",
    "x= x + [2]   # [1,2]\n",
    "x= x + [3]   # [1,2,3]\n",
    "x= x + [4]   # [1,2,3,4]\n",
    "x"
   ]
  },
  {
   "cell_type": "code",
   "execution_count": 64,
   "id": "c262519d-31e5-4f62-817b-c0c332f64480",
   "metadata": {},
   "outputs": [
    {
     "data": {
      "text/plain": [
       "[1, 2, 3, 4]"
      ]
     },
     "execution_count": 64,
     "metadata": {},
     "output_type": "execute_result"
    }
   ],
   "source": [
    "x=[1]\n",
    "x+= [2]\n",
    "x+= [3]\n",
    "x+= [4]\n",
    "x"
   ]
  },
  {
   "cell_type": "code",
   "execution_count": 65,
   "id": "bdf1516d-c657-495b-88e3-2eea09fff88a",
   "metadata": {},
   "outputs": [
    {
     "data": {
      "text/plain": [
       "[1, 2, 3, 4]"
      ]
     },
     "execution_count": 65,
     "metadata": {},
     "output_type": "execute_result"
    }
   ],
   "source": [
    "x=[1]\n",
    "x.append(2)\n",
    "x.append(3)\n",
    "x.append(4)\n",
    "x  # the .append function is very fast."
   ]
  },
  {
   "cell_type": "code",
   "execution_count": 66,
   "id": "46780ab9-708f-446b-ac04-247d5025dc05",
   "metadata": {},
   "outputs": [
    {
     "data": {
      "text/plain": [
       "[1, 2, 3, 4, 5, 6]"
      ]
     },
     "execution_count": 66,
     "metadata": {},
     "output_type": "execute_result"
    }
   ],
   "source": [
    "x = [1, 2, 3]\n",
    "x += [4, 5, 6]\n",
    "x"
   ]
  },
  {
   "cell_type": "code",
   "execution_count": 67,
   "id": "e7e2edea-f05b-467f-86ba-d2f6e52139fe",
   "metadata": {},
   "outputs": [
    {
     "data": {
      "text/plain": [
       "[1, 2, 3, 4, 5, 6]"
      ]
     },
     "execution_count": 67,
     "metadata": {},
     "output_type": "execute_result"
    }
   ],
   "source": [
    "x=[1, 2, 3]\n",
    "x.extend([4, 5, 6])\n",
    "x"
   ]
  },
  {
   "cell_type": "code",
   "execution_count": 69,
   "id": "b618beb4-1dcc-4c80-adcb-232474d659ee",
   "metadata": {},
   "outputs": [
    {
     "data": {
      "text/plain": [
       "[1, 2, 3, [4, 5, 6]]"
      ]
     },
     "execution_count": 69,
     "metadata": {},
     "output_type": "execute_result"
    }
   ],
   "source": [
    "x=[1, 2, 3]\n",
    "x.append([4, 5, 6])\n",
    "x # the append function will add the [4,5,6] as an element to the list."
   ]
  },
  {
   "cell_type": "code",
   "execution_count": 71,
   "id": "223f141a-e323-4e96-a61f-ccf6f19b8db2",
   "metadata": {},
   "outputs": [
    {
     "data": {
      "text/plain": [
       "[1, 3, 5, 1, 2, 3]"
      ]
     },
     "execution_count": 71,
     "metadata": {},
     "output_type": "execute_result"
    }
   ],
   "source": [
    "x=[1,2,3]\n",
    "[1,3,5] + x   # add element to the beginning"
   ]
  },
  {
   "attachments": {},
   "cell_type": "markdown",
   "id": "7933f58e",
   "metadata": {},
   "source": [
    "# Some loose ends"
   ]
  },
  {
   "attachments": {},
   "cell_type": "markdown",
   "id": "9ed75761",
   "metadata": {},
   "source": [
    "## 1.5 Tuples"
   ]
  },
  {
   "cell_type": "code",
   "execution_count": 72,
   "id": "b7c84bd1-21c1-491f-9428-0b6fce4c2c6b",
   "metadata": {},
   "outputs": [],
   "source": [
    "a=(1, 2, 3)     # Define tuple"
   ]
  },
  {
   "cell_type": "code",
   "execution_count": 73,
   "id": "29fdd1f3-dd1c-4bcb-9995-0976c3750be9",
   "metadata": {},
   "outputs": [
    {
     "name": "stdout",
     "output_type": "stream",
     "text": [
      "1\n"
     ]
    }
   ],
   "source": [
    "print(a[0])    # Access data"
   ]
  },
  {
   "cell_type": "code",
   "execution_count": 74,
   "id": "e198ba18-fdd1-4214-adff-f6fbfac30c5b",
   "metadata": {},
   "outputs": [],
   "source": [
    "a = (1,2,3)"
   ]
  },
  {
   "cell_type": "code",
   "execution_count": 75,
   "id": "d8d3b025-e53a-46c1-beef-9433388a8256",
   "metadata": {},
   "outputs": [
    {
     "ename": "SyntaxError",
     "evalue": "cannot assign to function call here. Maybe you meant '==' instead of '='? (1235261234.py, line 1)",
     "output_type": "error",
     "traceback": [
      "\u001b[1;36m  Cell \u001b[1;32mIn[75], line 1\u001b[1;36m\u001b[0m\n\u001b[1;33m    a(0) = 8\u001b[0m\n\u001b[1;37m    ^\u001b[0m\n\u001b[1;31mSyntaxError\u001b[0m\u001b[1;31m:\u001b[0m cannot assign to function call here. Maybe you meant '==' instead of '='?\n"
     ]
    }
   ],
   "source": [
    "a(0) = 8 #not work!"
   ]
  },
  {
   "cell_type": "markdown",
   "id": "d7d7b981-7806-405c-84fc-588b5cfb2c05",
   "metadata": {},
   "source": [
    "### 1.5.1 Remember"
   ]
  },
  {
   "cell_type": "markdown",
   "id": "96fda77c-0f6a-4614-a3d0-f67db9dd6275",
   "metadata": {},
   "source": [
    "- The tuple cannot be modified"
   ]
  },
  {
   "attachments": {},
   "cell_type": "markdown",
   "id": "da1d093d",
   "metadata": {},
   "source": [
    "## 1.6 Be VERY careful when copying"
   ]
  },
  {
   "cell_type": "code",
   "execution_count": 76,
   "id": "c22347b7-1f05-440a-9735-79b5d596d44b",
   "metadata": {},
   "outputs": [],
   "source": [
    "x=[1, 2, 3]\n",
    "y=x           # DON'T do this!\n",
    "z=x           # DON'T do this!"
   ]
  },
  {
   "cell_type": "code",
   "execution_count": 77,
   "id": "b2459190-185f-4fe9-81a9-10b21b5615dc",
   "metadata": {},
   "outputs": [],
   "source": [
    "x=[1, 2, 3]\n",
    "y=x.copy()\n",
    "z=x.copy()"
   ]
  },
  {
   "cell_type": "markdown",
   "id": "3ac604e0-ed33-48e3-8b3f-c0f35d4b2244",
   "metadata": {},
   "source": [
    "### Remember 1.6.1"
   ]
  },
  {
   "cell_type": "markdown",
   "id": "1dc9c6f1-2917-4ec9-b94e-e5439a63af70",
   "metadata": {},
   "source": [
    "- Always use **`copy()`** function to copy the list this is very important.\n",
    "- Always use **`copy()`** function to copy the list this is very important.\n",
    "- Always use **`copy()`** function to copy the list this is very important."
   ]
  },
  {
   "attachments": {},
   "cell_type": "markdown",
   "id": "11baadb7",
   "metadata": {},
   "source": [
    "## Footnotes"
   ]
  }
 ],
 "metadata": {
  "kernelspec": {
   "display_name": "Python 3 (ipykernel)",
   "language": "python",
   "name": "python3"
  },
  "language_info": {
   "codemirror_mode": {
    "name": "ipython",
    "version": 3
   },
   "file_extension": ".py",
   "mimetype": "text/x-python",
   "name": "python",
   "nbconvert_exporter": "python",
   "pygments_lexer": "ipython3",
   "version": "3.11.5"
  },
  "toc": {
   "base_numbering": 1,
   "nav_menu": {},
   "number_sections": true,
   "sideBar": true,
   "skip_h1_title": false,
   "title_cell": "Table of Contents",
   "title_sidebar": "Contents",
   "toc_cell": false,
   "toc_position": {},
   "toc_section_display": true,
   "toc_window_display": false
  },
  "vscode": {
   "interpreter": {
    "hash": "31f2aee4e71d21fbe5cf8b01ff0e069b9275f58929596ceb00d14d90e3e16cd6"
   }
  }
 },
 "nbformat": 4,
 "nbformat_minor": 5
}
