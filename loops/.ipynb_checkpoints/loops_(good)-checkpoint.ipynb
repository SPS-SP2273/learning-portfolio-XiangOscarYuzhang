{
 "cells": [
  {
   "attachments": {},
   "cell_type": "markdown",
   "id": "123456",
   "metadata": {},
   "source": [
    "<div style=\"text-align:left;font-size:2em\"><span style=\"font-weight:bolder;font-size:1.25em\">SP2273 | Learning Portfolio</span><br><br><span style=\"font-weight:bold;color:darkred\">Loops (Good)</span></div>"
   ]
  },
  {
   "attachments": {},
   "cell_type": "markdown",
   "id": "ba483374",
   "metadata": {},
   "source": [
    "# What to expect in this chapter"
   ]
  },
  {
   "attachments": {},
   "cell_type": "markdown",
   "id": "451cd7b8",
   "metadata": {},
   "source": [
    "# 1 Interrupting the flow"
   ]
  },
  {
   "cell_type": "markdown",
   "id": "1b9d182c-3971-432b-a741-300c9ed501e4",
   "metadata": {},
   "source": [
    "`break` and `continue` allow us to influence the loop"
   ]
  },
  {
   "cell_type": "markdown",
   "id": "6bac0605-3f3a-4ce5-af66-5dd9ea625c21",
   "metadata": {},
   "source": [
    "### Example 1"
   ]
  },
  {
   "cell_type": "code",
   "execution_count": 2,
   "id": "82862808-2067-4a6e-9bf4-da2062f9185c",
   "metadata": {},
   "outputs": [
    {
     "name": "stdout",
     "output_type": "stream",
     "text": [
      "0 1\n",
      "1 10\n",
      "2 100\n",
      "3 1000\n"
     ]
    }
   ],
   "source": [
    "for power in range(5):\n",
    "    number = 10**power\n",
    "    if number > 5000:\n",
    "        break\n",
    "    print(power, number)\n",
    "# when power is 4, the 10^4 is greater than 5000. Thus, the loop is stop by the break function. "
   ]
  },
  {
   "cell_type": "code",
   "execution_count": 23,
   "id": "2ebd4500-245f-4fc9-a0fb-231fcfd86ed9",
   "metadata": {},
   "outputs": [
    {
     "name": "stdout",
     "output_type": "stream",
     "text": [
      "the 2's 0 power is 1\n",
      "the 2's 1 power is 2\n",
      "the 2's 2 power is 4\n",
      "the 2's 3 power is 8\n",
      "the 2's 4 power is 16\n",
      "the 2's 5 power is 32\n",
      "the 2's 6 power is 64\n",
      "the 2's 7 power is 128\n",
      "the 2's 8 power is 256\n",
      "the 2's 9 power is 512\n"
     ]
    }
   ],
   "source": [
    "for power in range(50):\n",
    "    number = 2**power\n",
    "    if number > 1000:\n",
    "        break\n",
    "    print(f'the 2\\'s {power} power is {number}')"
   ]
  },
  {
   "cell_type": "markdown",
   "id": "e2a2d175-3718-4715-9bd7-f8b86c6d31f5",
   "metadata": {},
   "source": [
    "### Example 2"
   ]
  },
  {
   "cell_type": "code",
   "execution_count": 3,
   "id": "9ca7fd24-c962-4ede-ba0b-5c58df7e930b",
   "metadata": {},
   "outputs": [
    {
     "name": "stdout",
     "output_type": "stream",
     "text": [
      "0 1\n",
      "1 10\n",
      "2 100\n",
      "4 10000\n"
     ]
    }
   ],
   "source": [
    "for power in range(5):\n",
    "    if power == 3:\n",
    "        continue        # Don't proceed further\n",
    "                        # IN THE CURRENT LOOP\n",
    "                        # if i == 3\n",
    "    number = 10**power\n",
    "    print(power, number)"
   ]
  },
  {
   "cell_type": "code",
   "execution_count": 5,
   "id": "5cb27831-6796-48fe-a92a-b13b56bab219",
   "metadata": {},
   "outputs": [
    {
     "name": "stdout",
     "output_type": "stream",
     "text": [
      "0 1\n",
      "1 10\n",
      "2 100\n",
      "4 10000\n",
      "5 100000\n",
      "7 10000000\n"
     ]
    }
   ],
   "source": [
    "for power in range(8):\n",
    "    if power == 3:\n",
    "        continue        # skip from the loop when condition is satisfied\n",
    "    if power == 6:\n",
    "        continue          #skip when power = 3 and 6\n",
    "                        \n",
    "                        \n",
    "    number = 10**power\n",
    "    print(power, number)"
   ]
  },
  {
   "cell_type": "code",
   "execution_count": 24,
   "id": "4076533c-cc6f-46fd-8fa3-3f8f068f22aa",
   "metadata": {},
   "outputs": [
    {
     "name": "stdout",
     "output_type": "stream",
     "text": [
      "the 2's 0 power is 1\n",
      "the 2's 2 power is 4\n",
      "the 2's 4 power is 16\n",
      "the 2's 6 power is 64\n",
      "the 2's 8 power is 256\n",
      "the 2's 10 power is 1024\n",
      "the 2's 12 power is 4096\n",
      "the 2's 14 power is 16384\n",
      "the 2's 16 power is 65536\n",
      "the 2's 18 power is 262144\n",
      "the 2's 20 power is 1048576\n",
      "the 2's 22 power is 4194304\n",
      "the 2's 24 power is 16777216\n",
      "the 2's 26 power is 67108864\n",
      "the 2's 28 power is 268435456\n",
      "the 2's 30 power is 1073741824\n",
      "the 2's 32 power is 4294967296\n",
      "the 2's 34 power is 17179869184\n",
      "the 2's 36 power is 68719476736\n",
      "the 2's 38 power is 274877906944\n",
      "the 2's 40 power is 1099511627776\n",
      "the 2's 42 power is 4398046511104\n",
      "the 2's 44 power is 17592186044416\n",
      "the 2's 46 power is 70368744177664\n",
      "the 2's 48 power is 281474976710656\n"
     ]
    }
   ],
   "source": [
    "for power in range(50):\n",
    "    if power % 2 != 0:\n",
    "        continue\n",
    "    number = 2**power\n",
    "    print(f'the 2\\'s {power} power is {number}')"
   ]
  },
  {
   "cell_type": "markdown",
   "id": "63da85c1-ce15-4f2c-a680-cd676ce290c7",
   "metadata": {},
   "source": [
    "### Example 3"
   ]
  },
  {
   "cell_type": "code",
   "execution_count": 27,
   "id": "c454bbdc-a3a7-4dff-a8c9-5583c0fa4b15",
   "metadata": {},
   "outputs": [
    {
     "name": "stdout",
     "output_type": "stream",
     "text": [
      "1\n",
      "3\n",
      "5\n",
      "7\n",
      "9\n"
     ]
    }
   ],
   "source": [
    "for number in range(10):\n",
    "    # Don't proceed if the remainder is zero\n",
    "    # I.e. if the number is even\n",
    "    if number % 2 == 0:\n",
    "        continue\n",
    "    print(number)"
   ]
  },
  {
   "cell_type": "code",
   "execution_count": 8,
   "id": "d33db5ee-da08-46f9-9c6b-72d1fe8c4738",
   "metadata": {},
   "outputs": [
    {
     "name": "stdout",
     "output_type": "stream",
     "text": [
      "0\n",
      "2\n",
      "4\n",
      "6\n",
      "8\n"
     ]
    }
   ],
   "source": [
    "for number in range(10):\n",
    "    if number % 2 == 1:     #if the remainder is 1(odd), then skip\n",
    "        continue\n",
    "    print(number)"
   ]
  },
  {
   "cell_type": "markdown",
   "id": "59b6f514-eb93-473e-9d2e-6e95e6bbaa83",
   "metadata": {},
   "source": [
    "### Example 4"
   ]
  },
  {
   "cell_type": "code",
   "execution_count": 28,
   "id": "2eba7704-524e-409f-8b61-4ca0ddec02f1",
   "metadata": {},
   "outputs": [
    {
     "name": "stdout",
     "output_type": "stream",
     "text": [
      "0\n",
      "1\n",
      "2\n",
      "3\n",
      "4\n"
     ]
    }
   ],
   "source": [
    "number=0   # remember, set the number to the original number at the start, otherwise, it will be very hard to find.\n",
    "\n",
    "while True:\n",
    "    print(number)\n",
    "    number += 1        # in this case, the 5 is calculated, but it is not printed since the break function\n",
    "    if number > 4: break"
   ]
  },
  {
   "cell_type": "markdown",
   "id": "52143609-e840-403f-9c54-0e5c66f97f26",
   "metadata": {},
   "source": [
    "## Remember 1.1"
   ]
  },
  {
   "cell_type": "markdown",
   "id": "933b80f5-9131-4809-9fc6-50d63505ad90",
   "metadata": {},
   "source": [
    "- Remember you can use `break` and `continue` (with impunity) to interrupt the flow of loops."
   ]
  },
  {
   "attachments": {},
   "cell_type": "markdown",
   "id": "18acfcea",
   "metadata": {},
   "source": [
    "# 2 List comprehension!"
   ]
  },
  {
   "attachments": {},
   "cell_type": "markdown",
   "id": "10011734",
   "metadata": {},
   "source": [
    "## 2.1 Basic syntax"
   ]
  },
  {
   "cell_type": "code",
   "execution_count": 11,
   "id": "b49eae09-aa43-42ef-b049-de3e4b6986b2",
   "metadata": {},
   "outputs": [
    {
     "data": {
      "text/plain": [
       "[0, 1, 2, 3, 4]"
      ]
     },
     "execution_count": 11,
     "metadata": {},
     "output_type": "execute_result"
    }
   ],
   "source": [
    "[number for number in range(5)]"
   ]
  },
  {
   "cell_type": "code",
   "execution_count": 16,
   "id": "176d8ad1-46d1-4f17-a46d-d1f13b4ddeda",
   "metadata": {},
   "outputs": [
    {
     "data": {
      "text/plain": [
       "[0, 1, 4, 9, 16]"
      ]
     },
     "execution_count": 16,
     "metadata": {},
     "output_type": "execute_result"
    }
   ],
   "source": [
    "[number**2 for number in range(5)]"
   ]
  },
  {
   "attachments": {},
   "cell_type": "markdown",
   "id": "d288b989",
   "metadata": {},
   "source": [
    "## 2.2 List comprehension with conditions"
   ]
  },
  {
   "cell_type": "code",
   "execution_count": 19,
   "id": "e1612ddc-c6ee-408e-89c5-47e51b7527d9",
   "metadata": {},
   "outputs": [
    {
     "data": {
      "text/plain": [
       "[0, 2, 4, 6, 8]"
      ]
     },
     "execution_count": 19,
     "metadata": {},
     "output_type": "execute_result"
    }
   ],
   "source": [
    "[number for number in range(10) if number % 2 ==0]   #all the number with remiander of 1 is deleted"
   ]
  },
  {
   "cell_type": "code",
   "execution_count": 29,
   "id": "ef58961e-7563-4ee2-97b4-2f2fc8076729",
   "metadata": {},
   "outputs": [
    {
     "data": {
      "text/plain": [
       "[1, 4, 16, 64, 256]"
      ]
     },
     "execution_count": 29,
     "metadata": {},
     "output_type": "execute_result"
    }
   ],
   "source": [
    "[2**power for power in range(10) if power % 2 == 0]"
   ]
  },
  {
   "attachments": {},
   "cell_type": "markdown",
   "id": "158cb2c6",
   "metadata": {},
   "source": [
    "# 3 Other useful stuff"
   ]
  },
  {
   "attachments": {},
   "cell_type": "markdown",
   "id": "75d73aa1",
   "metadata": {},
   "source": [
    "## 3.1 for with unpacking"
   ]
  },
  {
   "cell_type": "code",
   "execution_count": 25,
   "id": "4d3e1f45-b943-4a69-8b52-67f91ce48679",
   "metadata": {},
   "outputs": [
    {
     "name": "stdout",
     "output_type": "stream",
     "text": [
      "x = 1, y = 2, z = 3\n"
     ]
    }
   ],
   "source": [
    "x, y, z=[1, 2, 3]\n",
    "print(f'x = {x}, y = {y}, z = {z}')"
   ]
  },
  {
   "cell_type": "code",
   "execution_count": 31,
   "id": "9c34989e-c357-49c4-911a-4def1d0c99ee",
   "metadata": {},
   "outputs": [],
   "source": [
    "x,y,z=[10,20,30]"
   ]
  },
  {
   "cell_type": "code",
   "execution_count": 32,
   "id": "a481996b-8fdd-49dd-a628-45e3d1ca9aa2",
   "metadata": {},
   "outputs": [
    {
     "name": "stdout",
     "output_type": "stream",
     "text": [
      "x=10,y=20,z=30\n"
     ]
    }
   ],
   "source": [
    "print(f'{x=},{y=},{z=}')"
   ]
  },
  {
   "cell_type": "code",
   "execution_count": 33,
   "id": "93e664e4-dd59-43cb-ac6b-231b716a88da",
   "metadata": {},
   "outputs": [
    {
     "name": "stdout",
     "output_type": "stream",
     "text": [
      "Natasha Romanoff is Marvel's Black Widow!\n",
      "Tony Stark is Marvel's Iron Man!\n",
      "Stephen Strange is Marvel's Doctor Strange!\n"
     ]
    }
   ],
   "source": [
    "py_superhero_info = [['Natasha Romanoff', 'Black Widow'],     # for function first select the first element, them unpacking it with two variable (real names and super names)\n",
    "                     ['Tony Stark', 'Iron Man'],\n",
    "                     ['Stephen Strange', 'Doctor Strange']]\n",
    "\n",
    "for real_name, super_name in py_superhero_info:\n",
    "    print(f\"{real_name} is Marvel's {super_name}!\")"
   ]
  },
  {
   "attachments": {},
   "cell_type": "markdown",
   "id": "074805c8",
   "metadata": {},
   "source": [
    "## 3.2 for with zip()"
   ]
  },
  {
   "cell_type": "code",
   "execution_count": 34,
   "id": "307bc0ac-4edb-4c18-8f85-f1ddb7836c07",
   "metadata": {},
   "outputs": [],
   "source": [
    "super_names = [\"Black Widow\", \"Iron Man\", \"Doctor Strange\"]\n",
    "real_names = [\"Natasha Romanoff\", \"Tony Stark\", \"Stephen Strange\"]"
   ]
  },
  {
   "cell_type": "code",
   "execution_count": 36,
   "id": "5c9be570-7946-4447-bca6-34edd6475bfb",
   "metadata": {},
   "outputs": [
    {
     "data": {
      "text/plain": [
       "<zip at 0x1afb8b3a140>"
      ]
     },
     "execution_count": 36,
     "metadata": {},
     "output_type": "execute_result"
    }
   ],
   "source": [
    "zip(real_names, super_names)  # do nothing since it is not used"
   ]
  },
  {
   "cell_type": "code",
   "execution_count": 37,
   "id": "160dceb2-ec61-4db4-93ca-a19fa08cef91",
   "metadata": {},
   "outputs": [
    {
     "data": {
      "text/plain": [
       "[('Natasha Romanoff', 'Black Widow'),\n",
       " ('Tony Stark', 'Iron Man'),\n",
       " ('Stephen Strange', 'Doctor Strange')]"
      ]
     },
     "execution_count": 37,
     "metadata": {},
     "output_type": "execute_result"
    }
   ],
   "source": [
    "list((zip(real_names, super_names)))"
   ]
  },
  {
   "cell_type": "code",
   "execution_count": 30,
   "id": "1481984f-8ff0-46aa-8a2a-e3f82be188c0",
   "metadata": {},
   "outputs": [
    {
     "name": "stdout",
     "output_type": "stream",
     "text": [
      "Natasha Romanoff is Marvel's Black Widow!\n",
      "Tony Stark is Marvel's Iron Man!\n",
      "Stephen Strange is Marvel's Doctor Strange!\n"
     ]
    }
   ],
   "source": [
    "super_names = [\"Black Widow\", \"Iron Man\", \"Doctor Strange\"]\n",
    "real_names = [\"Natasha Romanoff\", \"Tony Stark\", \"Stephen Strange\"]\n",
    "\n",
    "for real_name, super_name in zip(real_names,super_names):\n",
    "    print(f\"{real_name} is Marvel's {super_name}!\")"
   ]
  },
  {
   "attachments": {},
   "cell_type": "markdown",
   "id": "0081836f",
   "metadata": {},
   "source": [
    "## 3.3 for with dictionaries"
   ]
  },
  {
   "cell_type": "markdown",
   "id": "80d503ff-2e3e-4a5f-95da-bbf8753489c8",
   "metadata": {},
   "source": [
    "## 3.3.1 key() and values()"
   ]
  },
  {
   "cell_type": "code",
   "execution_count": 39,
   "id": "b93c7380-ca90-4ada-8bc8-387a36d21e3a",
   "metadata": {},
   "outputs": [],
   "source": [
    "superhero_info={\"Natasha Romanoff\": \"Black Widow\",\n",
    "                \"Tony Stark\": \"Iron Man\",\n",
    "                \"Stephen Strange\": \"Doctor Strange\"}"
   ]
  },
  {
   "cell_type": "code",
   "execution_count": 41,
   "id": "c3deff28-c123-4955-95d8-ddeeb7abd611",
   "metadata": {},
   "outputs": [
    {
     "data": {
      "text/plain": [
       "dict_items([('Natasha Romanoff', 'Black Widow'), ('Tony Stark', 'Iron Man'), ('Stephen Strange', 'Doctor Strange')])"
      ]
     },
     "execution_count": 41,
     "metadata": {},
     "output_type": "execute_result"
    }
   ],
   "source": [
    "superhero_info.items()"
   ]
  },
  {
   "cell_type": "code",
   "execution_count": 42,
   "id": "fd151d11-fcaf-4d52-87c0-855ffc5f01f2",
   "metadata": {},
   "outputs": [
    {
     "data": {
      "text/plain": [
       "[('Natasha Romanoff', 'Black Widow'),\n",
       " ('Tony Stark', 'Iron Man'),\n",
       " ('Stephen Strange', 'Doctor Strange')]"
      ]
     },
     "execution_count": 42,
     "metadata": {},
     "output_type": "execute_result"
    }
   ],
   "source": [
    "list(superhero_info.items())  # convert dictionary to list"
   ]
  },
  {
   "cell_type": "code",
   "execution_count": 43,
   "id": "9d2d57cb-8cf7-4856-b648-3445aadfe11d",
   "metadata": {},
   "outputs": [
    {
     "name": "stdout",
     "output_type": "stream",
     "text": [
      "Natasha Romanoff is Marvel's Black Widow!\n",
      "Tony Stark is Marvel's Iron Man!\n",
      "Stephen Strange is Marvel's Doctor Strange!\n"
     ]
    }
   ],
   "source": [
    "for key, value in superhero_info.items():\n",
    "    print(f\"{key} is Marvel's {value}!\")"
   ]
  },
  {
   "cell_type": "markdown",
   "id": "07e838b0-a931-469b-9847-2b06a43a8a5b",
   "metadata": {},
   "source": [
    "## 3.3.3 Directly access using key"
   ]
  },
  {
   "cell_type": "code",
   "execution_count": 44,
   "id": "bc97ef5a-479e-4b39-9729-a9102febeed1",
   "metadata": {},
   "outputs": [
    {
     "name": "stdout",
     "output_type": "stream",
     "text": [
      "Natasha Romanoff is Marvel's Black Widow!\n",
      "Tony Stark is Marvel's Iron Man!\n",
      "Stephen Strange is Marvel's Doctor Strange!\n"
     ]
    }
   ],
   "source": [
    "for key in superhero_info.keys():\n",
    "    value=superhero_info[key]\n",
    "    print(f\"{key} is Marvel's {value}!\")"
   ]
  },
  {
   "attachments": {},
   "cell_type": "markdown",
   "id": "d909b443",
   "metadata": {},
   "source": [
    "## Footnotes"
   ]
  }
 ],
 "metadata": {
  "kernelspec": {
   "display_name": "Python 3 (ipykernel)",
   "language": "python",
   "name": "python3"
  },
  "language_info": {
   "codemirror_mode": {
    "name": "ipython",
    "version": 3
   },
   "file_extension": ".py",
   "mimetype": "text/x-python",
   "name": "python",
   "nbconvert_exporter": "python",
   "pygments_lexer": "ipython3",
   "version": "3.11.5"
  },
  "toc": {
   "base_numbering": 1,
   "nav_menu": {},
   "number_sections": true,
   "sideBar": true,
   "skip_h1_title": false,
   "title_cell": "Table of Contents",
   "title_sidebar": "Contents",
   "toc_cell": false,
   "toc_position": {},
   "toc_section_display": true,
   "toc_window_display": false
  },
  "vscode": {
   "interpreter": {
    "hash": "31f2aee4e71d21fbe5cf8b01ff0e069b9275f58929596ceb00d14d90e3e16cd6"
   }
  }
 },
 "nbformat": 4,
 "nbformat_minor": 5
}
