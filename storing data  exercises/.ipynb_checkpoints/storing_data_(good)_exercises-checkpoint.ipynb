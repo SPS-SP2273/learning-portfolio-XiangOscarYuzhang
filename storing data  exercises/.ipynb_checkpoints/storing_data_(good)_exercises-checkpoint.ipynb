{
 "cells": [
  {
   "attachments": {},
   "cell_type": "markdown",
   "id": "123456",
   "metadata": {},
   "source": [
    "<div style=\"text-align:left;font-size:2em\"><span style=\"font-weight:bolder;font-size:1.25em\">SP2273 | Learning Portfolio</span><br><br><span style=\"font-weight:bold;color:darkred\">Storing Data (Good) Exercises</span></div>"
   ]
  },
  {
   "cell_type": "markdown",
   "id": "a452a67e-45a3-4eaf-9391-37fb0018d977",
   "metadata": {},
   "source": [
    "### **Exercise1**"
   ]
  },
  {
   "cell_type": "markdown",
   "id": "1be68195-7259-4ea9-bce8-9b103d42e5e6",
   "metadata": {},
   "source": [
    "Subsetting: select elements from the list"
   ]
  },
  {
   "cell_type": "markdown",
   "id": "49bd800d-bc3b-4b53-b0b2-2ae2cdf09d0a",
   "metadata": {},
   "source": [
    "Indexing: extract one elelment(value) from the a list or an array"
   ]
  },
  {
   "cell_type": "markdown",
   "id": "8a735ae5-fa19-43e4-9e5c-6079931f2aeb",
   "metadata": {},
   "source": [
    "Slicing: extract group of elements from a list or an array"
   ]
  },
  {
   "cell_type": "markdown",
   "id": "76868eda-92ba-4dbd-b11f-fffeb4ede270",
   "metadata": {},
   "source": [
    "Masking: *Mask the elements due to certain conditions and only allows the elements with condition to be shown*"
   ]
  },
  {
   "cell_type": "markdown",
   "id": "afdb6508-5c91-4a5c-b274-51e4f6311872",
   "metadata": {},
   "source": [
    "### **Exercise2**"
   ]
  },
  {
   "cell_type": "code",
   "execution_count": 2,
   "id": "dfdf95eb-85d6-49c4-9154-158cfa541724",
   "metadata": {},
   "outputs": [],
   "source": [
    "import numpy as np"
   ]
  },
  {
   "cell_type": "code",
   "execution_count": 3,
   "id": "58fd57df-5402-40b6-a96f-4b12a401342e",
   "metadata": {},
   "outputs": [],
   "source": [
    "np_array_2d = np.array([[1, \"A\"], [3, \"C\"], [2, \"B\"], [4, \"D\"],\n",
    "                        [5, \"E\"], [7, \"G\"], [6, \"F\"], [8, \"H\"],\n",
    "                        [10, \"J\"], [9, \"I\"]])"
   ]
  },
  {
   "cell_type": "markdown",
   "id": "aa99d516-513a-4c83-bfe4-03fd9916d370",
   "metadata": {},
   "source": [
    "1. Subset all first elements:"
   ]
  },
  {
   "cell_type": "code",
   "execution_count": 13,
   "id": "639279cd-da73-45b9-8282-42a439ac7862",
   "metadata": {},
   "outputs": [
    {
     "name": "stdout",
     "output_type": "stream",
     "text": [
      "['1' '3' '2' '4' '5' '7' '6' '8' '10' '9']\n"
     ]
    }
   ],
   "source": [
    "np_mask = np_array_2d[:,0]       #: means I want the whole list and 0 means the first element of sublist of the list.\n",
    "print(np_mask)"
   ]
  },
  {
   "cell_type": "markdown",
   "id": "27a1677e-a20d-4728-94ab-089c67dba4c2",
   "metadata": {},
   "source": [
    "2. Convert this to integers using astype(int)"
   ]
  },
  {
   "cell_type": "code",
   "execution_count": 20,
   "id": "28942d61-a606-4467-b61c-26e60f12dabb",
   "metadata": {},
   "outputs": [
    {
     "data": {
      "text/plain": [
       "array([ 1,  3,  2,  4,  5,  7,  6,  8, 10,  9])"
      ]
     },
     "execution_count": 20,
     "metadata": {},
     "output_type": "execute_result"
    }
   ],
   "source": [
    "np_mask_int = np_mask.astype(int)\n",
    "np_mask.astype(int)"
   ]
  },
  {
   "cell_type": "markdown",
   "id": "69eb808e-2008-4400-b9c1-fbcc1dbb915b",
   "metadata": {},
   "source": [
    "3. Use `%` to get the remainder for division by `2`"
   ]
  },
  {
   "cell_type": "code",
   "execution_count": 25,
   "id": "bf0452b9-ae77-425a-abe8-f6ad2330cbd3",
   "metadata": {},
   "outputs": [
    {
     "data": {
      "text/plain": [
       "array([1, 1, 0, 0, 1, 1, 0, 0, 0, 1], dtype=int32)"
      ]
     },
     "execution_count": 25,
     "metadata": {},
     "output_type": "execute_result"
    }
   ],
   "source": [
    "np_mask_int_div2 = np_mask_int % 2\n",
    "np_mask_int_div2"
   ]
  },
  {
   "cell_type": "code",
   "execution_count": 27,
   "id": "7c0ea2b3-5253-4db9-bbef-ea7175865205",
   "metadata": {},
   "outputs": [
    {
     "data": {
      "text/plain": [
       "array([ True,  True, False, False,  True,  True, False, False, False,\n",
       "        True])"
      ]
     },
     "execution_count": 27,
     "metadata": {},
     "output_type": "execute_result"
    }
   ],
   "source": [
    "np_mask_int_div2_mask = np_mask_int_div2 == 1\n",
    "np_mask_int_div2_mask"
   ]
  },
  {
   "cell_type": "code",
   "execution_count": 29,
   "id": "f13c6e91-8bcb-4640-96ef-a8567c2ba74b",
   "metadata": {},
   "outputs": [
    {
     "data": {
      "text/plain": [
       "array(['1', '3', '5', '7', '9'], dtype='<U11')"
      ]
     },
     "execution_count": 29,
     "metadata": {},
     "output_type": "execute_result"
    }
   ],
   "source": [
    "np_mask[np_mask_int_div2_mask]"
   ]
  },
  {
   "cell_type": "code",
   "execution_count": 35,
   "id": "ceb9e84a-dfea-46dc-a08b-e2c1af6ec6fc",
   "metadata": {},
   "outputs": [
    {
     "name": "stdout",
     "output_type": "stream",
     "text": [
      "['A' 'C' 'B' 'D' 'E' 'G' 'F' 'H' 'J' 'I']\n"
     ]
    },
    {
     "data": {
      "text/plain": [
       "array(['A', 'C', 'E', 'G', 'I'], dtype='<U11')"
      ]
     },
     "execution_count": 35,
     "metadata": {},
     "output_type": "execute_result"
    }
   ],
   "source": [
    "np_letters = np_array_2d[:,1]\n",
    "print(np_letters)\n",
    "np_letters[np_mask_int_div2_mask]    "
   ]
  }
 ],
 "metadata": {
  "kernelspec": {
   "display_name": "Python 3 (ipykernel)",
   "language": "python",
   "name": "python3"
  },
  "language_info": {
   "codemirror_mode": {
    "name": "ipython",
    "version": 3
   },
   "file_extension": ".py",
   "mimetype": "text/x-python",
   "name": "python",
   "nbconvert_exporter": "python",
   "pygments_lexer": "ipython3",
   "version": "3.11.5"
  },
  "toc": {
   "base_numbering": 1,
   "nav_menu": {},
   "number_sections": true,
   "sideBar": true,
   "skip_h1_title": false,
   "title_cell": "Table of Contents",
   "title_sidebar": "Contents",
   "toc_cell": false,
   "toc_position": {},
   "toc_section_display": true,
   "toc_window_display": false
  },
  "vscode": {
   "interpreter": {
    "hash": "31f2aee4e71d21fbe5cf8b01ff0e069b9275f58929596ceb00d14d90e3e16cd6"
   }
  }
 },
 "nbformat": 4,
 "nbformat_minor": 5
}
