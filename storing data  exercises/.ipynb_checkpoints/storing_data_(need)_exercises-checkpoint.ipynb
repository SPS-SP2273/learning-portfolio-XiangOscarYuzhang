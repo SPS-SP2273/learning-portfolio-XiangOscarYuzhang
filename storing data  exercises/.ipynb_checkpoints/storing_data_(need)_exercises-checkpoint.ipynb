{
 "cells": [
  {
   "attachments": {},
   "cell_type": "markdown",
   "id": "123456",
   "metadata": {},
   "source": [
    "<div style=\"text-align:left;font-size:2em\"><span style=\"font-weight:bolder;font-size:1.25em\">SP2273 | Learning Portfolio</span><br><br><span style=\"font-weight:bold;color:darkred\">Storing Data (Need) Exercises</span></div>"
   ]
  },
  {
   "cell_type": "markdown",
   "id": "8047be3c-e38a-4967-811f-ccb231fadf9b",
   "metadata": {},
   "source": [
    "# Exercise 1"
   ]
  },
  {
   "cell_type": "markdown",
   "id": "f881eb26-f0ed-4779-b4f7-deb727539b03",
   "metadata": {},
   "source": [
    "Two similarity:\n",
    "1. both storing data\n",
    "2. the data in the list and array can both be printed(output) with position information\n"
   ]
  },
  {
   "cell_type": "markdown",
   "id": "99cc6280-962c-411c-9ee1-163f27caef05",
   "metadata": {},
   "source": [
    "Two differences:\n",
    "1. A list can store more than one type of data, while an array can only store a single type of data.\n",
    "2. When adding two lists, the list size is added. When adding the array, the number in the array is added.\n",
    "3. array allows adding a number to every element in the array. list cannot.\n",
    "4. when multiplying, for list, the number of element in the lists are doubled([1,2,3] -> [1,2,3,1,2,3]), while for array, the every element in array is doubled([1,2,3] -> [2,4,6])\n",
    "5. An array can have a square function while a list doesn't.\n",
    "6. when asking the question, the list often answers about the whole list while the array answers for every element in the array.\n",
    "7. list don't have math function(.sum e.t.c) belong to it while array have\n"
   ]
  },
  {
   "cell_type": "markdown",
   "id": "09dde4d9-40d9-4b75-8745-9aac34bbe097",
   "metadata": {},
   "source": [
    "# Exercise 2"
   ]
  },
  {
   "cell_type": "code",
   "execution_count": 1,
   "id": "283a292e-8fca-4ea4-a3e9-1a18d2ea042d",
   "metadata": {},
   "outputs": [
    {
     "name": "stdout",
     "output_type": "stream",
     "text": [
      "a1\n",
      "c3\n",
      "e5\n",
      "g7\n",
      "i9\n"
     ]
    }
   ],
   "source": [
    "py_list = [\"a1\", \"b2\", \"c3\", \"d4\", \"e5\", \"f6\", \"g7\", \"h8\", \"i9\", \"j10\"]\n",
    "print(py_list[0])   # Prints 'a1'\n",
    "print(py_list[2])   # Prints 'c3'\n",
    "print(py_list[4])   # Prints 'e5'\n",
    "print(py_list[6])   # Prints 'g7'\n",
    "print(py_list[8])   # Prints 'i9'"
   ]
  },
  {
   "cell_type": "code",
   "execution_count": 11,
   "id": "46749e23-1867-485d-a43b-338f3e9d73af",
   "metadata": {},
   "outputs": [
    {
     "name": "stdout",
     "output_type": "stream",
     "text": [
      "a1\n",
      "c3\n",
      "e5\n",
      "g7\n",
      "i9\n"
     ]
    }
   ],
   "source": [
    "i = 0\n",
    "while i <= 8:\n",
    "    print(py_list[i])\n",
    "    i = i + 2\n",
    "# a loop that allows printing of all odd number"
   ]
  },
  {
   "cell_type": "markdown",
   "id": "0172956d-a676-456c-8d6d-a5107bd956b0",
   "metadata": {},
   "source": [
    "# Exercise 3"
   ]
  },
  {
   "cell_type": "code",
   "execution_count": 6,
   "id": "834aa296-6cd0-4d3d-8cbd-5ae6f53f2fe5",
   "metadata": {},
   "outputs": [],
   "source": [
    "elements = ['Hydrogen',\n",
    "            'Helium', 'Lithium',\n",
    "            'Beryllium', 'Boron', 'Carbon',\n",
    "            'Nitrogen', 'Oxygen',\n",
    "            'Fluorine',\n",
    "            'Neon']"
   ]
  },
  {
   "cell_type": "code",
   "execution_count": 12,
   "id": "cb28b493-14d0-440a-9ff4-a479fa6be58c",
   "metadata": {},
   "outputs": [
    {
     "name": "stdout",
     "output_type": "stream",
     "text": [
      "Beryllium\n"
     ]
    }
   ],
   "source": [
    "print(elements[3])"
   ]
  },
  {
   "cell_type": "code",
   "execution_count": 13,
   "id": "f63316e6-1cd7-453e-b193-9f3f00221502",
   "metadata": {},
   "outputs": [
    {
     "name": "stdout",
     "output_type": "stream",
     "text": [
      "Beryllium\n"
     ]
    }
   ],
   "source": [
    "print(elements[-7])"
   ]
  },
  {
   "cell_type": "markdown",
   "id": "e78210a4-8119-4952-817c-482f298d03c3",
   "metadata": {},
   "source": [
    "# Exercise 4"
   ]
  },
  {
   "cell_type": "code",
   "execution_count": 14,
   "id": "f725611f-0ebf-48bf-bc52-e71122a44311",
   "metadata": {},
   "outputs": [],
   "source": [
    "numbers=[45, 60, 1, 30, 96, 1, 96, 57, 16, 1,\n",
    "        99, 62, 86, 43, 42, 60, 59, 1, 1, 35,\n",
    "        83, 47, 34, 28, 68, 23, 22, 92, 1, 79,\n",
    "        1, 29, 94, 72, 46, 47, 1, 74, 32, 20,\n",
    "        8, 37, 35, 1, 89, 29, 86, 19, 43, 61]                  "
   ]
  },
  {
   "cell_type": "code",
   "execution_count": 15,
   "id": "abc93a48-2c2d-460e-9b5a-308b24204c40",
   "metadata": {},
   "outputs": [],
   "source": [
    "import numpy as np"
   ]
  },
  {
   "cell_type": "code",
   "execution_count": 16,
   "id": "57c542a5-e88d-492e-a531-de146debaa00",
   "metadata": {},
   "outputs": [
    {
     "name": "stdout",
     "output_type": "stream",
     "text": [
      "[45 60  1 30 96  1 96 57 16  1 99 62 86 43 42 60 59  1  1 35 83 47 34 28\n",
      " 68 23 22 92  1 79  1 29 94 72 46 47  1 74 32 20  8 37 35  1 89 29 86 19\n",
      " 43 61]\n"
     ]
    }
   ],
   "source": [
    "array_numbers = np.array(numbers)\n",
    "print(array_numbers)"
   ]
  },
  {
   "cell_type": "code",
   "execution_count": 17,
   "id": "2dc4546e-0ab1-4b75-913a-41fe7e92c294",
   "metadata": {},
   "outputs": [
    {
     "data": {
      "text/plain": [
       "array([False, False,  True, False, False,  True, False, False, False,\n",
       "        True, False, False, False, False, False, False, False,  True,\n",
       "        True, False, False, False, False, False, False, False, False,\n",
       "       False,  True, False,  True, False, False, False, False, False,\n",
       "        True, False, False, False, False, False, False,  True, False,\n",
       "       False, False, False, False, False])"
      ]
     },
     "execution_count": 17,
     "metadata": {},
     "output_type": "execute_result"
    }
   ],
   "source": [
    "array_numbers == 1"
   ]
  },
  {
   "cell_type": "code",
   "execution_count": 22,
   "id": "7e6be5e3-4ee4-4af9-99bc-50382b9f78f0",
   "metadata": {},
   "outputs": [
    {
     "data": {
      "text/plain": [
       "9"
      ]
     },
     "execution_count": 22,
     "metadata": {},
     "output_type": "execute_result"
    }
   ],
   "source": [
    "sum(array_numbers ==1)"
   ]
  },
  {
   "cell_type": "code",
   "execution_count": 23,
   "id": "d62fa60b-b689-4fd0-b17c-ed095328799c",
   "metadata": {},
   "outputs": [
    {
     "name": "stdout",
     "output_type": "stream",
     "text": [
      "1\n"
     ]
    }
   ],
   "source": [
    "x = True\n",
    "if x == 1:\n",
    "    print(\"1\")"
   ]
  }
 ],
 "metadata": {
  "kernelspec": {
   "display_name": "Python 3 (ipykernel)",
   "language": "python",
   "name": "python3"
  },
  "language_info": {
   "codemirror_mode": {
    "name": "ipython",
    "version": 3
   },
   "file_extension": ".py",
   "mimetype": "text/x-python",
   "name": "python",
   "nbconvert_exporter": "python",
   "pygments_lexer": "ipython3",
   "version": "3.11.5"
  },
  "toc": {
   "base_numbering": 1,
   "nav_menu": {},
   "number_sections": true,
   "sideBar": true,
   "skip_h1_title": false,
   "title_cell": "Table of Contents",
   "title_sidebar": "Contents",
   "toc_cell": false,
   "toc_position": {},
   "toc_section_display": true,
   "toc_window_display": false
  },
  "vscode": {
   "interpreter": {
    "hash": "31f2aee4e71d21fbe5cf8b01ff0e069b9275f58929596ceb00d14d90e3e16cd6"
   }
  }
 },
 "nbformat": 4,
 "nbformat_minor": 5
}
