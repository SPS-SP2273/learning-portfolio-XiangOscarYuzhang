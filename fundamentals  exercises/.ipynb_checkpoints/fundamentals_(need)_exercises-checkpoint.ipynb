{
 "cells": [
  {
   "attachments": {},
   "cell_type": "markdown",
   "id": "123456",
   "metadata": {},
   "source": [
    "<div style=\"text-align:left;font-size:2em\"><span style=\"font-weight:bolder;font-size:1.25em\">SP2273 | Learning Portfolio</span><br><br><span style=\"font-weight:bold;color:darkred\">Fundamentals (Need) Exercises</span></div>"
   ]
  },
  {
   "cell_type": "markdown",
   "id": "afd21c75-66c8-405a-b540-e284c4de4995",
   "metadata": {},
   "source": [
    "# Exercise 1"
   ]
  },
  {
   "cell_type": "markdown",
   "id": "8040ea7a-83ab-4a07-bcb9-c1c5fe2403ef",
   "metadata": {},
   "source": [
    "1. Python has function\n",
    "2. *Python is interpreted*\n",
    "3. Python is sensitive\n",
    "4. *we can use # to comments*\n",
    "5. *= is not equal to ==*\n",
    "6. *we can use if to make decisions*\n",
    "7. *difference between string and variable*\n",
    "8. Indentation is important\n",
    "9. different brackets have different meaning\n",
    "10. importing package give python extra power\n",
    "11. .dot "
   ]
  },
  {
   "cell_type": "markdown",
   "id": "c783005b-354f-4d49-8b16-986d647d0b8c",
   "metadata": {},
   "source": [
    "# Exercise 2"
   ]
  },
  {
   "cell_type": "code",
   "execution_count": 5,
   "id": "291b3037-f253-4adf-9ad2-df40e929aab4",
   "metadata": {},
   "outputs": [],
   "source": [
    "import numpy as np"
   ]
  },
  {
   "cell_type": "code",
   "execution_count": 15,
   "id": "10bf69c0-253b-4cef-9635-fac4ae76f045",
   "metadata": {},
   "outputs": [
    {
     "name": "stdout",
     "output_type": "stream",
     "text": [
      "3 4 5.0\n"
     ]
    }
   ],
   "source": [
    "x, y = 3, 4\n",
    "z = np.sqrt(x**2 + y**2)\n",
    "print(x, y, z)"
   ]
  },
  {
   "cell_type": "markdown",
   "id": "5ffc874c-c6e8-4733-804a-892866367566",
   "metadata": {},
   "source": [
    "error1: indentation for lines 2 and 3\n",
    "error2: print function with capital\n",
    "error3: no sqrt function since numpy is not imported\n",
    "error4: missing one * so that it is x times 2 not x square."
   ]
  },
  {
   "cell_type": "code",
   "execution_count": 21,
   "id": "94fda679-e0fb-4fa0-8bd1-39b428d909bc",
   "metadata": {},
   "outputs": [
    {
     "name": "stdout",
     "output_type": "stream",
     "text": [
      "3, 4, 5\n"
     ]
    }
   ],
   "source": [
    "x, y = 3, 4\n",
    "z = np.sqrt(x**2 + y**2)\n",
    "print(f'{x}, {y}, {z:.0f}')  #make the five looks better and no .0 at the end"
   ]
  },
  {
   "cell_type": "markdown",
   "id": "7763e0dd-04ce-4e36-bc85-7805007dc476",
   "metadata": {},
   "source": [
    "# Exercise 3"
   ]
  },
  {
   "cell_type": "markdown",
   "id": "a206b396-931f-4294-8d8c-26766c6e2faf",
   "metadata": {},
   "source": [
    "| #  | **Term**     | **Description**                                                                             |\r\n",
    "|----|--------------|---------------------------------------------------------------------------------------------|\r\n",
    "| 1  |   Function   |                    function is a special thing that does a specific task                    |\r\n",
    "| 2  |   Arguments  |                arguments is the content of specific task for a function to do               |\r\n",
    "| 3  |   Comments   | allow people to add details and information to the code without influence the code running. |\r\n",
    "| 4  | Indentations |                     Used to separate different cases in `if` or `match`                     |\r\n",
    "| 5  |   Packages   |     an very useful extra resource that would adding more feature and functions to python    |\r\n",
    "| 6  |      `.`     |             Belonging, the function behind the dot belongs to the previous thing            |\r\n",
    "| 7  |      `:`     |                              used before an new indented line.                              |\r\n",
    "| 8  |     `[]`     |                                        Creating list                                        |\r\n",
    "| 9  |   `[[[]]]`   |                        a list contain a list that have a list inside?                       |\r\n",
    "| 10 |     `{}`     |                                      used in dictionary                                     |`"
   ]
  },
  {
   "cell_type": "markdown",
   "id": "a3edd9d1-2983-4626-9e3f-f56583936204",
   "metadata": {},
   "source": [
    "# Exercise 4"
   ]
  },
  {
   "cell_type": "code",
   "execution_count": 22,
   "id": "876398a1-4941-4cc5-a37a-ca5d190c5792",
   "metadata": {},
   "outputs": [
    {
     "data": {
      "text/plain": [
       "2.5"
      ]
     },
     "execution_count": 22,
     "metadata": {},
     "output_type": "execute_result"
    }
   ],
   "source": [
    "5/2  #direct dividing the number and obtain the solution"
   ]
  },
  {
   "cell_type": "code",
   "execution_count": 23,
   "id": "d9dc536a-5077-4171-9f68-290abd940740",
   "metadata": {},
   "outputs": [
    {
     "data": {
      "text/plain": [
       "2"
      ]
     },
     "execution_count": 23,
     "metadata": {},
     "output_type": "execute_result"
    }
   ],
   "source": [
    "5//2"
   ]
  },
  {
   "cell_type": "code",
   "execution_count": 25,
   "id": "1bf4ce1b-798c-46e8-b7a1-deedeb956748",
   "metadata": {},
   "outputs": [
    {
     "data": {
      "text/plain": [
       "3"
      ]
     },
     "execution_count": 25,
     "metadata": {},
     "output_type": "execute_result"
    }
   ],
   "source": [
    "6//2"
   ]
  },
  {
   "cell_type": "code",
   "execution_count": 26,
   "id": "d2fb768f-5e29-4860-a550-2e1a2f6ab8d4",
   "metadata": {},
   "outputs": [
    {
     "data": {
      "text/plain": [
       "2"
      ]
     },
     "execution_count": 26,
     "metadata": {},
     "output_type": "execute_result"
    }
   ],
   "source": [
    "7//3 "
   ]
  },
  {
   "cell_type": "code",
   "execution_count": 27,
   "id": "349d9217-9186-4ea0-8939-ac5e6834a04c",
   "metadata": {},
   "outputs": [
    {
     "data": {
      "text/plain": [
       "2"
      ]
     },
     "execution_count": 27,
     "metadata": {},
     "output_type": "execute_result"
    }
   ],
   "source": [
    "249//100"
   ]
  },
  {
   "cell_type": "code",
   "execution_count": 30,
   "id": "f0077d7d-3527-4a5d-9325-9329e15fc293",
   "metadata": {},
   "outputs": [
    {
     "data": {
      "text/plain": [
       "2"
      ]
     },
     "execution_count": 30,
     "metadata": {},
     "output_type": "execute_result"
    }
   ],
   "source": [
    "299//100"
   ]
  },
  {
   "cell_type": "code",
   "execution_count": 31,
   "id": "140fc291-e1d7-45a0-bd1b-8eab2a45dfed",
   "metadata": {},
   "outputs": [
    {
     "data": {
      "text/plain": [
       "3"
      ]
     },
     "execution_count": 31,
     "metadata": {},
     "output_type": "execute_result"
    }
   ],
   "source": [
    "301//100     # first dividing the number and get the solution, then round every thing down if it is a decimal(fraction)"
   ]
  },
  {
   "cell_type": "code",
   "execution_count": 24,
   "id": "e5b9018b-cb56-4629-8871-ce84862bb177",
   "metadata": {},
   "outputs": [
    {
     "data": {
      "text/plain": [
       "1"
      ]
     },
     "execution_count": 24,
     "metadata": {},
     "output_type": "execute_result"
    }
   ],
   "source": [
    "5%2"
   ]
  },
  {
   "cell_type": "code",
   "execution_count": 32,
   "id": "30860775-35da-426e-8d41-2529c8c9a1b0",
   "metadata": {},
   "outputs": [
    {
     "data": {
      "text/plain": [
       "1"
      ]
     },
     "execution_count": 32,
     "metadata": {},
     "output_type": "execute_result"
    }
   ],
   "source": [
    "5%4"
   ]
  },
  {
   "cell_type": "code",
   "execution_count": 33,
   "id": "509958b2-8131-44f3-87cb-df3045ba9968",
   "metadata": {},
   "outputs": [
    {
     "data": {
      "text/plain": [
       "0"
      ]
     },
     "execution_count": 33,
     "metadata": {},
     "output_type": "execute_result"
    }
   ],
   "source": [
    "100%2"
   ]
  },
  {
   "cell_type": "code",
   "execution_count": 34,
   "id": "979c4d4d-fced-461d-be22-e284afd25608",
   "metadata": {},
   "outputs": [
    {
     "data": {
      "text/plain": [
       "1"
      ]
     },
     "execution_count": 34,
     "metadata": {},
     "output_type": "execute_result"
    }
   ],
   "source": [
    "9%2  # the % will get the remainder of the fraction."
   ]
  }
 ],
 "metadata": {
  "kernelspec": {
   "display_name": "Python 3 (ipykernel)",
   "language": "python",
   "name": "python3"
  },
  "language_info": {
   "codemirror_mode": {
    "name": "ipython",
    "version": 3
   },
   "file_extension": ".py",
   "mimetype": "text/x-python",
   "name": "python",
   "nbconvert_exporter": "python",
   "pygments_lexer": "ipython3",
   "version": "3.11.5"
  },
  "toc": {
   "base_numbering": 1,
   "nav_menu": {},
   "number_sections": true,
   "sideBar": true,
   "skip_h1_title": false,
   "title_cell": "Table of Contents",
   "title_sidebar": "Contents",
   "toc_cell": false,
   "toc_position": {},
   "toc_section_display": true,
   "toc_window_display": false
  },
  "vscode": {
   "interpreter": {
    "hash": "31f2aee4e71d21fbe5cf8b01ff0e069b9275f58929596ceb00d14d90e3e16cd6"
   }
  }
 },
 "nbformat": 4,
 "nbformat_minor": 5
}
