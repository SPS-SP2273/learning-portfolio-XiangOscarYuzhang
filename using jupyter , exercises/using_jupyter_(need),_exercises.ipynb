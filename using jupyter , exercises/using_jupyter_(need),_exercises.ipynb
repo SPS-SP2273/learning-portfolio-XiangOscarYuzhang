{
 "cells": [
  {
   "attachments": {},
   "cell_type": "markdown",
   "id": "123456",
   "metadata": {},
   "source": [
    "<div style=\"text-align:left;font-size:2em\"><span style=\"font-weight:bolder;font-size:1.25em\">SP2273 | Learning Portfolio</span><br><br><span style=\"font-weight:bold;color:darkred\">Using Jupyter (Need), Exercises</span></div>"
   ]
  },
  {
   "attachments": {},
   "cell_type": "markdown",
   "id": "568f482f",
   "metadata": {},
   "source": [
    "## Quadratic Equations"
   ]
  },
  {
   "attachments": {},
   "cell_type": "markdown",
   "id": "2e1d4028",
   "metadata": {},
   "source": [
    "### Introduction"
   ]
  },
  {
   "cell_type": "markdown",
   "id": "6a421c13-8e5f-487e-9d90-c57d3a0c1060",
   "metadata": {},
   "source": [
    "![](Polynomialdeg2.svg.png)"
   ]
  },
  {
   "cell_type": "markdown",
   "id": "60f87db3-37e0-4f5f-8afb-65adec48fcfd",
   "metadata": {},
   "source": [
    "(*Image from the <ins>[Wikipedia page on Quadratic equations](https://en.wikipedia.org/wiki/Quadratic_equation)*)</ins>"
   ]
  },
  {
   "cell_type": "markdown",
   "id": "206e4b37-7e45-4ce4-b2f6-81318ca48bfa",
   "metadata": {},
   "source": [
    "The general form of a quadratic equation is:"
   ]
  },
  {
   "cell_type": "markdown",
   "id": "8166b05c-b373-4010-b2ce-a511335011e0",
   "metadata": {},
   "source": [
    "$$\n",
    "ax^2+bx+c=0\n",
    "$$"
   ]
  },
  {
   "attachments": {},
   "cell_type": "markdown",
   "id": "b0c3d145",
   "metadata": {},
   "source": [
    "### Solutions"
   ]
  },
  {
   "cell_type": "markdown",
   "id": "7d891bff-d49c-4a61-ad78-67399f20d2e1",
   "metadata": {},
   "source": [
    "Provided $ a \\ne 0 $, we can use an elementary algebraic method called <ins>[completeing the square](https://en.wikipedia.org/wiki/Completing_the_square)</ins> to show that a quadratic equation has the following solution:"
   ]
  },
  {
   "cell_type": "markdown",
   "id": "a089b14f-ef5c-473d-8702-00fb3c4ee983",
   "metadata": {},
   "source": [
    "$$\n",
    "x = \\dfrac{-b \\pm \\sqrt{b^2-4ac} }{2a}\n",
    "$$"
   ]
  },
  {
   "attachments": {},
   "cell_type": "markdown",
   "id": "24ec764a",
   "metadata": {},
   "source": [
    "### Discriminant"
   ]
  },
  {
   "cell_type": "markdown",
   "id": "98965266-986c-4108-a2f6-497f1e61018c",
   "metadata": {},
   "source": [
    "The quantity $ \\Delta = b^2 - 4ac $ is called the **discriminant** of the equation and decides the nature of its solutions. The table below shows the various possibilities."
   ]
  },
  {
   "cell_type": "markdown",
   "id": "0469f7b9-12fb-4a56-8e9a-70bb6cc2e924",
   "metadata": {},
   "source": [
    "| Discriminant            | Roots                                  |\r\n",
    "|-------------------------|----------------------------------------|\r\n",
    "| $\\Delta = b^2 -4ac = 0$ | A single solution of $- \\dfrac{b}{2a}$ |\r\n",
    "| $\\Delta = b^2 -4ac > 0$ |                 Two distinct solutions |\r\n",
    "| $\\Delta = b^2 -4ac < 0$ |    No real solutions; both are complex |   |   |ex |x \t|ex |{table}{table}"
   ]
  },
  {
   "cell_type": "markdown",
   "id": "4f490d41-7eee-4c44-aedc-7fe8c79920fe",
   "metadata": {},
   "source": [
    "### Exercise 2"
   ]
  },
  {
   "attachments": {},
   "cell_type": "markdown",
   "id": "a5f8a9fb-7909-44e5-960a-aaefa49e0f09",
   "metadata": {},
   "source": [
    "1. What is a Git **repository**?"
   ]
  },
  {
   "cell_type": "markdown",
   "id": "bca43666-a001-4d12-889e-53ac78fc4248",
   "metadata": {},
   "source": [
    "**A**: A place that Github created to save and store our files(In my case, my learning portfolio)"
   ]
  },
  {
   "cell_type": "markdown",
   "id": "4de1fb68-71c5-4cd4-9c2f-88a6cf0f31b1",
   "metadata": {},
   "source": [
    "2. Git keeps tracks of ___________ in the files in our respository."
   ]
  },
  {
   "cell_type": "markdown",
   "id": "6c5b114d-7cd0-4355-b269-f7eee5e58ed6",
   "metadata": {},
   "source": [
    "**A**: changes"
   ]
  },
  {
   "cell_type": "markdown",
   "id": "1138cf39-3d95-4233-8d04-2bcb730f739c",
   "metadata": {},
   "source": [
    "3. What is **commit**?"
   ]
  },
  {
   "cell_type": "markdown",
   "id": "e0c2a1c4-241c-496e-9708-58b5bfb84e9d",
   "metadata": {},
   "source": [
    "**A**: Commit allows us to have full control of what file changes we want to record. We can also attach some descriptions of the changes."
   ]
  },
  {
   "cell_type": "markdown",
   "id": "f5721a94-9c81-4a43-83e4-f5e59f2eecd5",
   "metadata": {},
   "source": [
    "4. What is a **push**?"
   ]
  },
  {
   "cell_type": "markdown",
   "id": "a792367f-e819-49e9-8a21-8ce509b2f09d",
   "metadata": {},
   "source": [
    "**A**: After the commit, the record is stored on our local computer, not on the cloud. If we want to share and store the changes(with the description) with GitHub, we can push the changes to the server."
   ]
  },
  {
   "cell_type": "markdown",
   "id": "fe8b5df3-37cc-4621-8fe5-4b2c8d593f2d",
   "metadata": {},
   "source": [
    "5. What is a **pull**?"
   ]
  },
  {
   "cell_type": "markdown",
   "id": "23a31a56-df43-4cfb-bc59-61f7f1a1ec1d",
   "metadata": {},
   "source": [
    "**A**: Sometimes there are changed files on the cloud, and we want to save them to our own local device, pull can be done."
   ]
  },
  {
   "cell_type": "markdown",
   "id": "d6048e0a-0bb3-4b6b-b112-4d44659d0732",
   "metadata": {},
   "source": [
    "6. What is the difference between **GitHub** and **GitHub Desktop**?"
   ]
  },
  {
   "cell_type": "markdown",
   "id": "ec5378c4-44c4-40d8-be33-0d90a2e4db69",
   "metadata": {},
   "source": [
    "**A**: \n",
    "The GitHub allows us to hold and store works on the cloud.\n",
    "The GitHub Desktop allows us to have a copy of our work(repository) on our local machine."
   ]
  }
 ],
 "metadata": {
  "kernelspec": {
   "display_name": "Python 3 (ipykernel)",
   "language": "python",
   "name": "python3"
  },
  "language_info": {
   "codemirror_mode": {
    "name": "ipython",
    "version": 3
   },
   "file_extension": ".py",
   "mimetype": "text/x-python",
   "name": "python",
   "nbconvert_exporter": "python",
   "pygments_lexer": "ipython3",
   "version": "3.11.5"
  },
  "toc": {
   "base_numbering": 1,
   "nav_menu": {},
   "number_sections": true,
   "sideBar": true,
   "skip_h1_title": false,
   "title_cell": "Table of Contents",
   "title_sidebar": "Contents",
   "toc_cell": false,
   "toc_position": {},
   "toc_section_display": true,
   "toc_window_display": false
  },
  "vscode": {
   "interpreter": {
    "hash": "31f2aee4e71d21fbe5cf8b01ff0e069b9275f58929596ceb00d14d90e3e16cd6"
   }
  }
 },
 "nbformat": 4,
 "nbformat_minor": 5
}
