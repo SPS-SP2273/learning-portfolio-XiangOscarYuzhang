{
 "cells": [
  {
   "cell_type": "markdown",
   "id": "acf38808-5f74-4bd2-aec4-17837fad6d25",
   "metadata": {},
   "source": [
    "# **1.2 Getting ready**"
   ]
  },
  {
   "cell_type": "markdown",
   "id": "ee6346aa-34ee-4ebf-9bb8-c563a97ba2d4",
   "metadata": {},
   "source": [
    "### **2 Getting started with Jupyter**"
   ]
  },
  {
   "cell_type": "markdown",
   "id": "ed567f97-8dc7-4349-bc33-66abdd242332",
   "metadata": {},
   "source": [
    "### **2.1 It is all about running cells**"
   ]
  },
  {
   "cell_type": "markdown",
   "id": "9db8a45c-8d8a-4ec9-a79f-967dcf0d974d",
   "metadata": {},
   "source": [
    "There are two cells: Code cell and Markdown cell"
   ]
  },
  {
   "cell_type": "markdown",
   "id": "b2870b27-4bc2-4427-adbf-00466d7d050b",
   "metadata": {},
   "source": [
    "* Press CTRL + ENTER to run cell"
   ]
  },
  {
   "cell_type": "markdown",
   "id": "59004971-3273-47f1-a706-e3316c30c76c",
   "metadata": {},
   "source": [
    "### **2.2 A traditional start**"
   ]
  },
  {
   "cell_type": "code",
   "execution_count": 4,
   "id": "5221606f-58fa-4750-a068-52a0fafeffcd",
   "metadata": {},
   "outputs": [
    {
     "name": "stdout",
     "output_type": "stream",
     "text": [
      "Hello World!\n"
     ]
    }
   ],
   "source": [
    "print('Hello World!')"
   ]
  },
  {
   "cell_type": "markdown",
   "id": "61136770-c0e2-4da4-9c85-6bb72367467f",
   "metadata": {},
   "source": [
    "# **3 All about Markdown**"
   ]
  },
  {
   "cell_type": "markdown",
   "id": "08b4957a-c033-4798-883a-c73f4fe44797",
   "metadata": {},
   "source": [
    "* Click ESC + M to convert the cell to Markdown"
   ]
  },
  {
   "cell_type": "markdown",
   "id": "35adafb9-d3fb-4c60-946c-3e8bdafd1fe7",
   "metadata": {},
   "source": [
    "### **3.1 Rendering Markdown cells**"
   ]
  },
  {
   "cell_type": "markdown",
   "id": "be02d225-e856-4a17-8a6a-cf20222bc644",
   "metadata": {},
   "source": [
    "The ships hung in the sky in much the same way that bricks don't"
   ]
  },
  {
   "cell_type": "markdown",
   "id": "4f6756ad-d781-414f-9b5c-d9033836ad1b",
   "metadata": {},
   "source": [
    "### **3.2 Some basic syntax**"
   ]
  },
  {
   "cell_type": "markdown",
   "id": "c1d192c4-3940-486e-9dcc-9fbbdff2e10c",
   "metadata": {},
   "source": [
    "**This is Bold style**"
   ]
  },
  {
   "cell_type": "markdown",
   "id": "559a228b-12cb-42f4-928b-e85d93217e14",
   "metadata": {},
   "source": [
    "*This is Italic Style*"
   ]
  },
  {
   "cell_type": "markdown",
   "id": "11e19371-5a27-4058-9bc0-fbcc6812d453",
   "metadata": {},
   "source": [
    "***Both Bold and Italic***"
   ]
  },
  {
   "cell_type": "markdown",
   "id": "cfd735cc-5bf5-4272-9abf-2afe09aacc07",
   "metadata": {},
   "source": [
    "This is <sub>Subscript</sub>"
   ]
  },
  {
   "cell_type": "markdown",
   "id": "78e14b2b-bc97-4942-a1ec-01ea4d9c2afa",
   "metadata": {},
   "source": [
    "This is <sup>Superscript</sup>"
   ]
  },
  {
   "cell_type": "markdown",
   "id": "96bc4f5d-e0a1-4699-a60d-b36b9d6fbd85",
   "metadata": {},
   "source": [
    "The ships *hung in the sky* in much the same way that **bricks don’t.**<sup>1</sup><sub>QUOTE</sub>"
   ]
  },
  {
   "cell_type": "markdown",
   "id": "ad2095c1-f247-43f0-81b4-7c2ff3232b20",
   "metadata": {},
   "source": [
    "### **3.3 Headings**"
   ]
  },
  {
   "cell_type": "markdown",
   "id": "68e81ff8-6b34-453b-a437-b8f033dfe122",
   "metadata": {},
   "source": [
    "Markdown uses # for headings as follows."
   ]
  },
  {
   "cell_type": "markdown",
   "id": "3e1aaf36-0922-41c5-9df2-c65d3da3f638",
   "metadata": {},
   "source": [
    "# The largest heading"
   ]
  },
  {
   "cell_type": "markdown",
   "id": "2f8dbb1a-26f5-482c-8e97-0139345eef74",
   "metadata": {},
   "source": [
    "## The second-largest heading"
   ]
  },
  {
   "cell_type": "markdown",
   "id": "80b5910b-ab6f-406f-b1dc-986f451d9045",
   "metadata": {},
   "source": [
    "### The third-largest heading"
   ]
  },
  {
   "cell_type": "markdown",
   "id": "5309b3b2-e0ed-4c4a-8eaa-5007c6115eb2",
   "metadata": {},
   "source": [
    "#### The smallest heading"
   ]
  },
  {
   "cell_type": "markdown",
   "id": "47f9eac6-28fb-4ab1-8d51-88a40b92d650",
   "metadata": {},
   "source": [
    "### **3.4 Displaying Code**"
   ]
  },
  {
   "cell_type": "markdown",
   "id": "b3df1625-7ccd-4da6-a006-23d9f7e5f3a4",
   "metadata": {},
   "source": [
    "Use backticks to mention code inline"
   ]
  },
  {
   "cell_type": "markdown",
   "id": "f40b68d4-7e96-4e84-b183-25a77b96760c",
   "metadata": {},
   "source": [
    "`This is code`"
   ]
  },
  {
   "cell_type": "markdown",
   "id": "0037ccf9-25d8-408e-830b-91234535b174",
   "metadata": {},
   "source": [
    "```Python\n",
    "print('Hello World!')\n",
    "```"
   ]
  },
  {
   "cell_type": "markdown",
   "id": "08a250e5-811d-4bef-a3fb-e541db0051fb",
   "metadata": {},
   "source": [
    "### **3.5 Links**"
   ]
  },
  {
   "cell_type": "markdown",
   "id": "3204cb42-e29a-499c-a6fc-5bd2b3fcb650",
   "metadata": {},
   "source": [
    "Enclose the display text in [] followed by link-address in ()"
   ]
  },
  {
   "cell_type": "markdown",
   "id": "30394ee0-1b4d-46cc-b2e6-83c6fba50ec1",
   "metadata": {},
   "source": [
    "[SP2273 Website](https://sps.nus.edu.sg/sp2273)"
   ]
  },
  {
   "cell_type": "markdown",
   "id": "29d3774e-97bd-458d-901a-8cda2c2381bf",
   "metadata": {},
   "source": [
    "remeber, https:// have to be included"
   ]
  },
  {
   "cell_type": "markdown",
   "id": "1200156c-536c-4a7a-a62f-485666ad1e4a",
   "metadata": {},
   "source": [
    "### **3.6 Images**"
   ]
  },
  {
   "cell_type": "markdown",
   "id": "9bb4b2e8-cff1-4713-bc12-5d8593b97bfb",
   "metadata": {},
   "source": [
    "Add ! infront of [] and ()"
   ]
  },
  {
   "cell_type": "markdown",
   "id": "db9b08b7-a34c-4771-b05b-dadb8863605d",
   "metadata": {},
   "source": [
    "![](https://nus.edu.sg/images/default-source/base/logo.png)"
   ]
  },
  {
   "cell_type": "markdown",
   "id": "9f338788-a625-4ec2-a38e-c945099d8ecf",
   "metadata": {},
   "source": [
    "### **3.7 Tables**"
   ]
  },
  {
   "cell_type": "markdown",
   "id": "4bfadb89-1a76-4625-8d85-891a9a17b62c",
   "metadata": {},
   "source": [
    "| A    |  B   |    C |\r\n",
    "| :--- | :--: | ---: |\r\n",
    "| a1   |  b1  |   c1 |\r\n",
    "| a2   |  b2  |   c2 |\r\n",
    "| a3   |  b3  |   c3 |"
   ]
  },
  {
   "cell_type": "markdown",
   "id": "f75c35d2-7b62-45c2-8577-92979929de44",
   "metadata": {},
   "source": [
    "Here is web tool. [Table generator](https://www.tablesgenerator.com/)c3 |"
   ]
  },
  {
   "cell_type": "markdown",
   "id": "6db88fd2-dd51-4118-892a-e0a507391a02",
   "metadata": {},
   "source": [
    "### **3.8 Lists**"
   ]
  },
  {
   "cell_type": "markdown",
   "id": "25f27dd2-0115-4ef7-8ac8-6ab92e29c3a2",
   "metadata": {},
   "source": [
    "1. Master Yoda\r\n",
    "1. Luke Skywalker\r\n",
    "1. Anakin Skywalker"
   ]
  },
  {
   "cell_type": "markdown",
   "id": "0e1585a1-cdb9-4880-891a-6f99e766910a",
   "metadata": {},
   "source": [
    "- Master Yoda\r\n",
    "- Luke Skywalker\r\n",
    "- Anakin Skywalker"
   ]
  },
  {
   "cell_type": "markdown",
   "id": "4a178cce-8e6c-48d6-8eab-66f220912411",
   "metadata": {},
   "source": [
    "1. Master Yoda\r\n",
    "   1. Was a Jedi\r\n",
    "   1. Was a bit green\r\n",
    "1. Luke Skywalker\r\n",
    "   1. Was a Jedi\r\n",
    "   1. Is Anakin's son.\r\n",
    "1. Anakin Skywalker\r\n",
    "   1. Was a Jedi then became a baddie\r\n",
    "   1. Is famous for saying 'Luke, I am your father'er"
   ]
  },
  {
   "cell_type": "markdown",
   "id": "0b6c1e8c-1cd5-4d87-adea-ec99c8ec5b71",
   "metadata": {},
   "source": [
    "1. Master Yoda\r\n",
    "   - Was a Jedi\r\n",
    "   - Was a bit green\r\n",
    "1. Luke Skywalker\r\n",
    "   - Was a Jedi\r\n",
    "   - Is Anakin's son.\r\n",
    "1. Anakin Skywalker\r\n",
    "   - Was a Jedi then, became a baddie\r\n",
    "   - Is famous for saying, _'Luke, I am your father'_.\r\n",
    "ather'er"
   ]
  },
  {
   "cell_type": "markdown",
   "id": "bc902ced-7971-421d-9151-8d5b8a4f5b69",
   "metadata": {},
   "source": [
    "### **3.9 Equations**"
   ]
  },
  {
   "cell_type": "markdown",
   "id": "36002a37-b246-425b-9df8-edabe5c7664f",
   "metadata": {},
   "source": [
    "$\\sqrt{b^2-4ac}$"
   ]
  },
  {
   "cell_type": "markdown",
   "id": "ce9d38b9-e545-4466-ba51-5b21a4f78212",
   "metadata": {},
   "source": [
    "$$\r\n",
    "x = \\dfrac{-b \\pm \\sqrt{b^2-4ac}}{2a}\r\n",
    "$$"
   ]
  },
  {
   "cell_type": "markdown",
   "id": "de9994c1-e9ec-475d-80a4-fafc838b65c6",
   "metadata": {},
   "source": [
    "Here is some math commands. [Maths commands](https://www.overleaf.com/learn/latex/Mathematical_expressions)"
   ]
  },
  {
   "cell_type": "markdown",
   "id": "c3a87e02-bc4c-4d69-a3f5-b62a3f522afd",
   "metadata": {},
   "source": [
    "The math commands here is in **LaTex**"
   ]
  },
  {
   "cell_type": "markdown",
   "id": "fe6e5ac2-07de-4d3a-9ebf-aa8e6a03bb49",
   "metadata": {},
   "source": [
    "### **3.10 Footnotes**"
   ]
  },
  {
   "cell_type": "markdown",
   "id": "fcf42d2a-0f73-45f2-82e5-df19fcda88f9",
   "metadata": {},
   "source": [
    "This_is_footnote^[footnote]"
   ]
  },
  {
   "cell_type": "markdown",
   "id": "60a67a47-78a4-4145-ae19-769fba815075",
   "metadata": {},
   "source": [
    "# **4 Some tips and tricks**"
   ]
  },
  {
   "cell_type": "markdown",
   "id": "0464f9f8-8487-4e7a-9d97-d20a97819482",
   "metadata": {},
   "source": [
    "### **4.1Keyboard shortcut**"
   ]
  },
  {
   "cell_type": "markdown",
   "id": "d0054f18-840d-4d7a-a162-60a51d941577",
   "metadata": {},
   "source": [
    "Run cell: CTRL + ENTER"
   ]
  },
  {
   "cell_type": "markdown",
   "id": "12884768-2929-45e4-a964-53df4a0844a8",
   "metadata": {},
   "source": [
    "Run cell and move to next cell: SHIFT + ENTER"
   ]
  },
  {
   "cell_type": "markdown",
   "id": "02b11f84-954f-47d7-af5c-0e70aaacdb14",
   "metadata": {},
   "source": [
    "Covert cell to code cell: ESC + Y"
   ]
  },
  {
   "cell_type": "markdown",
   "id": "c19449c1-6b0d-41e2-a292-5dec505695af",
   "metadata": {},
   "source": [
    "Convert cell to Markdown cell: ESC + M"
   ]
  },
  {
   "cell_type": "markdown",
   "id": "2014fb51-d0fe-4042-837d-3016734d03eb",
   "metadata": {},
   "source": [
    "Create new cell above: ESC + A"
   ]
  },
  {
   "cell_type": "markdown",
   "id": "daebe0e3-0532-4f12-ad64-4733789d3104",
   "metadata": {},
   "source": [
    "Create new cell below: ESC + B"
   ]
  },
  {
   "cell_type": "markdown",
   "id": "b4ced35b-7e8f-4634-92a1-660f36ae2381",
   "metadata": {},
   "source": [
    "Copy cell: ESC + C"
   ]
  },
  {
   "cell_type": "markdown",
   "id": "84b3d08e-afa3-4bae-9258-03988599d895",
   "metadata": {},
   "source": [
    "Paste cell: ESC + C"
   ]
  },
  {
   "cell_type": "markdown",
   "id": "d2cd0b05-cce2-4362-b7af-46f880cd4a7a",
   "metadata": {},
   "source": [
    "Delete cell: ESC + D + D"
   ]
  },
  {
   "cell_type": "markdown",
   "id": "4f9ea33c-062f-41bd-9af0-6b28893c9386",
   "metadata": {},
   "source": [
    "### **4.2 Shell commands**"
   ]
  },
  {
   "cell_type": "markdown",
   "id": "fff99a78-d50e-48a5-b382-5c2d8185dbfb",
   "metadata": {},
   "source": [
    "We can run 'terminal' commands from Jupyter"
   ]
  },
  {
   "cell_type": "code",
   "execution_count": 7,
   "id": "48116d25-48eb-4724-bad4-a9912433ff89",
   "metadata": {},
   "outputs": [
    {
     "name": "stdout",
     "output_type": "stream",
     "text": [
      "C:\\Users\\oscar\\Documents\\GitHub\\learning-portfolio-XiangOscarYuzhang\n"
     ]
    }
   ],
   "source": [
    "!cd"
   ]
  },
  {
   "cell_type": "code",
   "execution_count": 8,
   "id": "60bb0d8e-829c-4d2f-bfe2-5c44331d751a",
   "metadata": {},
   "outputs": [
    {
     "name": "stdout",
     "output_type": "stream",
     "text": [
      " 驱动器 C 中的卷是 Windows\n",
      " 卷的序列号是 207A-19B1\n",
      "\n",
      " C:\\Users\\oscar\\Documents\\GitHub\\learning-portfolio-XiangOscarYuzhang 的目录\n",
      "\n",
      "19/01/2024  下午 05:08    <DIR>          .\n",
      "17/01/2024  上午 08:44    <DIR>          ..\n",
      "19/01/2024  下午 03:57    <DIR>          .ipynb_checkpoints\n",
      "17/01/2024  上午 08:44    <DIR>          files, folders & os\n",
      "17/01/2024  上午 08:44    <DIR>          files, folders & os  exercises\n",
      "17/01/2024  上午 08:44    <DIR>          functions\n",
      "17/01/2024  上午 08:44    <DIR>          functions  exercises\n",
      "17/01/2024  上午 08:44    <DIR>          fundamentals\n",
      "17/01/2024  上午 08:44    <DIR>          fundamentals  exercises\n",
      "17/01/2024  上午 08:44    <DIR>          loops\n",
      "17/01/2024  上午 08:44    <DIR>          loops  exercises\n",
      "17/01/2024  上午 08:44    <DIR>          plotting\n",
      "17/01/2024  上午 08:44    <DIR>          plotting  exercises\n",
      "17/01/2024  上午 08:44    <DIR>          storing data\n",
      "17/01/2024  上午 08:44    <DIR>          storing data  exercises\n",
      "17/01/2024  上午 09:14    <DIR>          Testing\n",
      "17/01/2024  上午 08:44    <DIR>          using jupyter\n",
      "17/01/2024  上午 08:44    <DIR>          using jupyter , exercises\n",
      "19/01/2024  下午 05:08            12,014 using-jupyter_need.ipynb\n",
      "               1 个文件         12,014 字节\n",
      "              18 个目录 66,137,571,328 可用字节\n"
     ]
    }
   ],
   "source": [
    "!dir"
   ]
  }
 ],
 "metadata": {
  "kernelspec": {
   "display_name": "Python 3 (ipykernel)",
   "language": "python",
   "name": "python3"
  },
  "language_info": {
   "codemirror_mode": {
    "name": "ipython",
    "version": 3
   },
   "file_extension": ".py",
   "mimetype": "text/x-python",
   "name": "python",
   "nbconvert_exporter": "python",
   "pygments_lexer": "ipython3",
   "version": "3.11.5"
  }
 },
 "nbformat": 4,
 "nbformat_minor": 5
}
