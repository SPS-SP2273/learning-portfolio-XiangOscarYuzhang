{
 "cells": [
  {
   "cell_type": "markdown",
   "id": "acf38808-5f74-4bd2-aec4-17837fad6d25",
   "metadata": {},
   "source": [
    "# **1.2 Getting ready** "
   ]
  },
  {
   "cell_type": "markdown",
   "id": "ee6346aa-34ee-4ebf-9bb8-c563a97ba2d4",
   "metadata": {},
   "source": [
    "### **2 Getting started with Jupyter**"
   ]
  },
  {
   "cell_type": "markdown",
   "id": "ed567f97-8dc7-4349-bc33-66abdd242332",
   "metadata": {},
   "source": [
    "### **2.1 It is all about running cells**"
   ]
  },
  {
   "cell_type": "markdown",
   "id": "9db8a45c-8d8a-4ec9-a79f-967dcf0d974d",
   "metadata": {},
   "source": [
    "There are two cells: Code cell and Markdown cell"
   ]
  },
  {
   "cell_type": "markdown",
   "id": "b2870b27-4bc2-4427-adbf-00466d7d050b",
   "metadata": {},
   "source": [
    "* Press CTRL + ENTER to run cell"
   ]
  },
  {
   "cell_type": "markdown",
   "id": "59004971-3273-47f1-a706-e3316c30c76c",
   "metadata": {},
   "source": [
    "### **2.2 A traditional start**"
   ]
  },
  {
   "cell_type": "code",
   "execution_count": 4,
   "id": "5221606f-58fa-4750-a068-52a0fafeffcd",
   "metadata": {},
   "outputs": [
    {
     "name": "stdout",
     "output_type": "stream",
     "text": [
      "Hello World!\n"
     ]
    }
   ],
   "source": [
    "print('Hello World!')"
   ]
  },
  {
   "cell_type": "markdown",
   "id": "61136770-c0e2-4da4-9c85-6bb72367467f",
   "metadata": {},
   "source": [
    "# **3 All about Markdown**"
   ]
  },
  {
   "cell_type": "markdown",
   "id": "08b4957a-c033-4798-883a-c73f4fe44797",
   "metadata": {},
   "source": [
    "* Click ESC + M to convert the cell to Markdown"
   ]
  },
  {
   "cell_type": "markdown",
   "id": "35adafb9-d3fb-4c60-946c-3e8bdafd1fe7",
   "metadata": {},
   "source": [
    "### **3.1 Rendering Markdown cells**"
   ]
  },
  {
   "cell_type": "markdown",
   "id": "be02d225-e856-4a17-8a6a-cf20222bc644",
   "metadata": {},
   "source": [
    "The ships hung in the sky in much the same way that bricks don't"
   ]
  },
  {
   "cell_type": "markdown",
   "id": "4f6756ad-d781-414f-9b5c-d9033836ad1b",
   "metadata": {},
   "source": [
    "### **3.2 Some basic syntax**"
   ]
  },
  {
   "cell_type": "markdown",
   "id": "c1d192c4-3940-486e-9dcc-9fbbdff2e10c",
   "metadata": {},
   "source": [
    "**This is Bold style**"
   ]
  },
  {
   "cell_type": "markdown",
   "id": "559a228b-12cb-42f4-928b-e85d93217e14",
   "metadata": {},
   "source": [
    "*This is Italic Style*"
   ]
  },
  {
   "cell_type": "markdown",
   "id": "11e19371-5a27-4058-9bc0-fbcc6812d453",
   "metadata": {},
   "source": [
    "***Both Bold and Italic***"
   ]
  },
  {
   "cell_type": "markdown",
   "id": "cfd735cc-5bf5-4272-9abf-2afe09aacc07",
   "metadata": {},
   "source": [
    "This is <sub>Subscript</sub>"
   ]
  },
  {
   "cell_type": "markdown",
   "id": "78e14b2b-bc97-4942-a1ec-01ea4d9c2afa",
   "metadata": {},
   "source": [
    "This is <sup>Superscript</sup>"
   ]
  },
  {
   "cell_type": "markdown",
   "id": "96bc4f5d-e0a1-4699-a60d-b36b9d6fbd85",
   "metadata": {},
   "source": [
    "The ships *hung in the sky* in much the same way that **bricks don’t.**<sup>1</sup><sub>QUOTE</sub>"
   ]
  },
  {
   "cell_type": "markdown",
   "id": "ad2095c1-f247-43f0-81b4-7c2ff3232b20",
   "metadata": {},
   "source": [
    "### **3.3 Headings**"
   ]
  },
  {
   "cell_type": "markdown",
   "id": "68e81ff8-6b34-453b-a437-b8f033dfe122",
   "metadata": {},
   "source": [
    "Markdown uses # for headings as follows."
   ]
  },
  {
   "cell_type": "markdown",
   "id": "3e1aaf36-0922-41c5-9df2-c65d3da3f638",
   "metadata": {},
   "source": [
    "# The largest heading"
   ]
  },
  {
   "cell_type": "markdown",
   "id": "2f8dbb1a-26f5-482c-8e97-0139345eef74",
   "metadata": {},
   "source": [
    "## The second-largest heading"
   ]
  },
  {
   "cell_type": "markdown",
   "id": "80b5910b-ab6f-406f-b1dc-986f451d9045",
   "metadata": {},
   "source": [
    "### The third-largest heading"
   ]
  },
  {
   "cell_type": "markdown",
   "id": "5309b3b2-e0ed-4c4a-8eaa-5007c6115eb2",
   "metadata": {},
   "source": [
    "#### The smallest heading"
   ]
  },
  {
   "cell_type": "markdown",
   "id": "47f9eac6-28fb-4ab1-8d51-88a40b92d650",
   "metadata": {},
   "source": [
    "### **3.4 Displaying Code**"
   ]
  },
  {
   "cell_type": "markdown",
   "id": "b3df1625-7ccd-4da6-a006-23d9f7e5f3a4",
   "metadata": {},
   "source": [
    "Use backticks to mention code inline"
   ]
  },
  {
   "cell_type": "markdown",
   "id": "f40b68d4-7e96-4e84-b183-25a77b96760c",
   "metadata": {},
   "source": [
    "`This is code`"
   ]
  },
  {
   "cell_type": "markdown",
   "id": "0037ccf9-25d8-408e-830b-91234535b174",
   "metadata": {},
   "source": [
    "```Python\n",
    "print('Hello World!')\n",
    "```"
   ]
  },
  {
   "cell_type": "markdown",
   "id": "08a250e5-811d-4bef-a3fb-e541db0051fb",
   "metadata": {},
   "source": [
    "### **3.5 Links**"
   ]
  },
  {
   "cell_type": "markdown",
   "id": "3204cb42-e29a-499c-a6fc-5bd2b3fcb650",
   "metadata": {},
   "source": [
    "Enclose the display text in [] followed by link-address in ()"
   ]
  },
  {
   "cell_type": "markdown",
   "id": "30394ee0-1b4d-46cc-b2e6-83c6fba50ec1",
   "metadata": {},
   "source": [
    "[SP2273 Website](https://sps.nus.edu.sg/sp2273)"
   ]
  },
  {
   "cell_type": "markdown",
   "id": "29d3774e-97bd-458d-901a-8cda2c2381bf",
   "metadata": {},
   "source": [
    "remeber, https:// have to be included"
   ]
  },
  {
   "cell_type": "markdown",
   "id": "1200156c-536c-4a7a-a62f-485666ad1e4a",
   "metadata": {},
   "source": [
    "### **3.6 Images**"
   ]
  },
  {
   "cell_type": "markdown",
   "id": "9bb4b2e8-cff1-4713-bc12-5d8593b97bfb",
   "metadata": {},
   "source": [
    "Add ! infront of [] and ()"
   ]
  },
  {
   "cell_type": "markdown",
   "id": "db9b08b7-a34c-4771-b05b-dadb8863605d",
   "metadata": {},
   "source": [
    "![](https://nus.edu.sg/images/default-source/base/logo.png)"
   ]
  },
  {
   "cell_type": "markdown",
   "id": "9f338788-a625-4ec2-a38e-c945099d8ecf",
   "metadata": {},
   "source": [
    "### **3.7 Tables**"
   ]
  },
  {
   "cell_type": "markdown",
   "id": "4bfadb89-1a76-4625-8d85-891a9a17b62c",
   "metadata": {},
   "source": [
    "| A    |  B   |    C |\r\n",
    "| :--- | :--: | ---: |\r\n",
    "| a1   |  b1  |   c1 |\r\n",
    "| a2   |  b2  |   c2 |\r\n",
    "| a3   |  b3  |   c3 |"
   ]
  },
  {
   "cell_type": "markdown",
   "id": "f75c35d2-7b62-45c2-8577-92979929de44",
   "metadata": {},
   "source": [
    "Here is web tool. [Table generator](https://www.tablesgenerator.com/)c3 |"
   ]
  },
  {
   "cell_type": "markdown",
   "id": "6db88fd2-dd51-4118-892a-e0a507391a02",
   "metadata": {},
   "source": [
    "### **3.8 Lists**"
   ]
  },
  {
   "cell_type": "markdown",
   "id": "25f27dd2-0115-4ef7-8ac8-6ab92e29c3a2",
   "metadata": {},
   "source": [
    "1. Master Yoda\r\n",
    "1. Luke Skywalker\r\n",
    "1. Anakin Skywalker"
   ]
  },
  {
   "cell_type": "markdown",
   "id": "0e1585a1-cdb9-4880-891a-6f99e766910a",
   "metadata": {},
   "source": [
    "- Master Yoda\r\n",
    "- Luke Skywalker\r\n",
    "- Anakin Skywalker"
   ]
  },
  {
   "cell_type": "markdown",
   "id": "4a178cce-8e6c-48d6-8eab-66f220912411",
   "metadata": {},
   "source": [
    "1. Master Yoda\r\n",
    "   1. Was a Jedi\r\n",
    "   1. Was a bit green\r\n",
    "1. Luke Skywalker\r\n",
    "   1. Was a Jedi\r\n",
    "   1. Is Anakin's son.\r\n",
    "1. Anakin Skywalker\r\n",
    "   1. Was a Jedi then became a baddie\r\n",
    "   1. Is famous for saying 'Luke, I am your father'er"
   ]
  },
  {
   "cell_type": "markdown",
   "id": "0b6c1e8c-1cd5-4d87-adea-ec99c8ec5b71",
   "metadata": {},
   "source": [
    "1. Master Yoda\r\n",
    "   - Was a Jedi\r\n",
    "   - Was a bit green\r\n",
    "1. Luke Skywalker\r\n",
    "   - Was a Jedi\r\n",
    "   - Is Anakin's son.\r\n",
    "1. Anakin Skywalker\r\n",
    "   - Was a Jedi then, became a baddie\r\n",
    "   - Is famous for saying, _'Luke, I am your father'_.\r\n",
    "ather'er"
   ]
  },
  {
   "cell_type": "markdown",
   "id": "bc902ced-7971-421d-9151-8d5b8a4f5b69",
   "metadata": {},
   "source": [
    "### **3.9 Equations**"
   ]
  },
  {
   "cell_type": "markdown",
   "id": "36002a37-b246-425b-9df8-edabe5c7664f",
   "metadata": {},
   "source": [
    "$\\sqrt{b^2-4ac}$"
   ]
  },
  {
   "cell_type": "markdown",
   "id": "ce9d38b9-e545-4466-ba51-5b21a4f78212",
   "metadata": {},
   "source": [
    "$$\r\n",
    "x = \\dfrac{-b \\pm \\sqrt{b^2-4ac}}{2a}\r\n",
    "$$"
   ]
  },
  {
   "cell_type": "markdown",
   "id": "de9994c1-e9ec-475d-80a4-fafc838b65c6",
   "metadata": {},
   "source": [
    "Here is some math commands. [Maths commands](https://www.overleaf.com/learn/latex/Mathematical_expressions)"
   ]
  },
  {
   "cell_type": "markdown",
   "id": "c3a87e02-bc4c-4d69-a3f5-b62a3f522afd",
   "metadata": {},
   "source": [
    "The math commands here is in **LaTex**"
   ]
  },
  {
   "cell_type": "markdown",
   "id": "fe6e5ac2-07de-4d3a-9ebf-aa8e6a03bb49",
   "metadata": {},
   "source": [
    "### **3.10 Footnotes**"
   ]
  },
  {
   "cell_type": "markdown",
   "id": "fcf42d2a-0f73-45f2-82e5-df19fcda88f9",
   "metadata": {},
   "source": [
    "This_is_footnote^[footnote]"
   ]
  },
  {
   "cell_type": "markdown",
   "id": "60a67a47-78a4-4145-ae19-769fba815075",
   "metadata": {},
   "source": [
    "# **4 Some tips and tricks**"
   ]
  },
  {
   "cell_type": "markdown",
   "id": "0464f9f8-8487-4e7a-9d97-d20a97819482",
   "metadata": {},
   "source": [
    "### **4.1Keyboard shortcut**"
   ]
  },
  {
   "attachments": {},
   "cell_type": "markdown",
   "id": "39d4e9fb-c9f6-4ea0-b5ed-5cc50b93ac89",
   "metadata": {},
   "source": [
    "Run cell: CTRL + ENTER\n",
    "\n",
    "Run cell and move to next cell: SHIFT + ENTER\n",
    "\n",
    "Covert cell to code cell: ESC + Y\n",
    "\n",
    "Convert cell to Markdown cell: ESC + M\n",
    "\n",
    "Create new cell above: ESC + A\n",
    "\n",
    "Create new cell below: ESC + B\n",
    "\n",
    "Copy cell: ESC + C\n",
    "\n",
    "Paste cell: ESC + C\n",
    "\n",
    "Delete cell: ESC + D + D"
   ]
  },
  {
   "cell_type": "markdown",
   "id": "4f9ea33c-062f-41bd-9af0-6b28893c9386",
   "metadata": {},
   "source": [
    "### **4.2 Shell commands**"
   ]
  },
  {
   "cell_type": "markdown",
   "id": "fff99a78-d50e-48a5-b382-5c2d8185dbfb",
   "metadata": {},
   "source": [
    "We can run 'terminal' commands from Jupyter"
   ]
  },
  {
   "cell_type": "code",
   "execution_count": 7,
   "id": "48116d25-48eb-4724-bad4-a9912433ff89",
   "metadata": {},
   "outputs": [
    {
     "name": "stdout",
     "output_type": "stream",
     "text": [
      "C:\\Users\\oscar\\Documents\\GitHub\\learning-portfolio-XiangOscarYuzhang\n"
     ]
    }
   ],
   "source": [
    "!cd"
   ]
  },
  {
   "cell_type": "code",
   "execution_count": 8,
   "id": "60bb0d8e-829c-4d2f-bfe2-5c44331d751a",
   "metadata": {},
   "outputs": [
    {
     "name": "stdout",
     "output_type": "stream",
     "text": [
      " 驱动器 C 中的卷是 Windows\n",
      " 卷的序列号是 207A-19B1\n",
      "\n",
      " C:\\Users\\oscar\\Documents\\GitHub\\learning-portfolio-XiangOscarYuzhang 的目录\n",
      "\n",
      "19/01/2024  下午 05:08    <DIR>          .\n",
      "17/01/2024  上午 08:44    <DIR>          ..\n",
      "19/01/2024  下午 03:57    <DIR>          .ipynb_checkpoints\n",
      "17/01/2024  上午 08:44    <DIR>          files, folders & os\n",
      "17/01/2024  上午 08:44    <DIR>          files, folders & os  exercises\n",
      "17/01/2024  上午 08:44    <DIR>          functions\n",
      "17/01/2024  上午 08:44    <DIR>          functions  exercises\n",
      "17/01/2024  上午 08:44    <DIR>          fundamentals\n",
      "17/01/2024  上午 08:44    <DIR>          fundamentals  exercises\n",
      "17/01/2024  上午 08:44    <DIR>          loops\n",
      "17/01/2024  上午 08:44    <DIR>          loops  exercises\n",
      "17/01/2024  上午 08:44    <DIR>          plotting\n",
      "17/01/2024  上午 08:44    <DIR>          plotting  exercises\n",
      "17/01/2024  上午 08:44    <DIR>          storing data\n",
      "17/01/2024  上午 08:44    <DIR>          storing data  exercises\n",
      "17/01/2024  上午 09:14    <DIR>          Testing\n",
      "17/01/2024  上午 08:44    <DIR>          using jupyter\n",
      "17/01/2024  上午 08:44    <DIR>          using jupyter , exercises\n",
      "19/01/2024  下午 05:08            12,014 using-jupyter_need.ipynb\n",
      "               1 个文件         12,014 字节\n",
      "              18 个目录 66,137,571,328 可用字节\n"
     ]
    }
   ],
   "source": [
    "!dir"
   ]
  },
  {
   "cell_type": "code",
   "execution_count": 9,
   "id": "1d09ab4f-d218-4239-bbc6-e11a52bde9af",
   "metadata": {},
   "outputs": [
    {
     "name": "stdout",
     "output_type": "stream",
     "text": [
      "# packages in environment at C:\\Users\\oscar\\miniconda3:\n",
      "#\n",
      "# Name                    Version                   Build  Channel\n",
      "anyio                     4.2.0              pyhd8ed1ab_0    conda-forge\n",
      "archspec                  0.2.1              pyhd3eb1b0_0  \n",
      "argon2-cffi               23.1.0             pyhd8ed1ab_0    conda-forge\n",
      "argon2-cffi-bindings      21.2.0          py311ha68e1ae_4    conda-forge\n",
      "arrow                     1.3.0              pyhd8ed1ab_0    conda-forge\n",
      "asttokens                 2.4.1              pyhd8ed1ab_0    conda-forge\n",
      "async-lru                 2.0.4              pyhd8ed1ab_0    conda-forge\n",
      "attrs                     23.2.0             pyh71513ae_0    conda-forge\n",
      "babel                     2.14.0             pyhd8ed1ab_0    conda-forge\n",
      "beautifulsoup4            4.12.2             pyha770c72_0    conda-forge\n",
      "bleach                    6.1.0              pyhd8ed1ab_0    conda-forge\n",
      "boltons                   23.0.0          py311haa95532_0  \n",
      "brotli-python             1.0.9           py311hd77b12b_7  \n",
      "bzip2                     1.0.8                he774522_0  \n",
      "ca-certificates           2023.12.12           haa95532_0  \n",
      "cached-property           1.5.2                hd8ed1ab_1    conda-forge\n",
      "cached_property           1.5.2              pyha770c72_1    conda-forge\n",
      "certifi                   2023.11.17         pyhd8ed1ab_0    conda-forge\n",
      "cffi                      1.16.0          py311h2bbff1b_0  \n",
      "charset-normalizer        2.0.4              pyhd3eb1b0_0  \n",
      "colorama                  0.4.6           py311haa95532_0  \n",
      "comm                      0.2.1              pyhd8ed1ab_0    conda-forge\n",
      "conda                     23.11.0         py311h1ea47a8_1    conda-forge\n",
      "conda-content-trust       0.2.0           py311haa95532_0  \n",
      "conda-libmamba-solver     23.12.0            pyhd3eb1b0_1  \n",
      "conda-package-handling    2.2.0           py311haa95532_0  \n",
      "conda-package-streaming   0.9.0           py311haa95532_0  \n",
      "console_shortcut_miniconda 0.1.1                haa95532_1  \n",
      "cryptography              41.0.7          py311h89fc84f_0  \n",
      "debugpy                   1.8.0           py311h12c1d0e_1    conda-forge\n",
      "decorator                 5.1.1              pyhd8ed1ab_0    conda-forge\n",
      "defusedxml                0.7.1              pyhd8ed1ab_0    conda-forge\n",
      "distro                    1.8.0           py311haa95532_0  \n",
      "entrypoints               0.4                pyhd8ed1ab_0    conda-forge\n",
      "exceptiongroup            1.2.0              pyhd8ed1ab_2    conda-forge\n",
      "executing                 2.0.1              pyhd8ed1ab_0    conda-forge\n",
      "fmt                       9.1.0                h6d14046_0  \n",
      "fqdn                      1.5.1              pyhd8ed1ab_0    conda-forge\n",
      "idna                      3.4             py311haa95532_0  \n",
      "importlib-metadata        7.0.1              pyha770c72_0    conda-forge\n",
      "importlib_metadata        7.0.1                hd8ed1ab_0    conda-forge\n",
      "importlib_resources       6.1.1              pyhd8ed1ab_0    conda-forge\n",
      "intel-openmp              2023.2.0         h57928b3_50497    conda-forge\n",
      "ipykernel                 6.29.0             pyha63f2e9_0    conda-forge\n",
      "ipython                   8.20.0             pyh7428d3b_0    conda-forge\n",
      "ipywidgets                8.1.1              pyhd8ed1ab_0    conda-forge\n",
      "isoduration               20.11.0            pyhd8ed1ab_0    conda-forge\n",
      "jedi                      0.19.1             pyhd8ed1ab_0    conda-forge\n",
      "jinja2                    3.1.3              pyhd8ed1ab_0    conda-forge\n",
      "json5                     0.9.14             pyhd8ed1ab_0    conda-forge\n",
      "jsonpatch                 1.32               pyhd3eb1b0_0  \n",
      "jsonpointer               2.1                pyhd3eb1b0_0  \n",
      "jsonschema                4.21.0             pyhd8ed1ab_0    conda-forge\n",
      "jsonschema-specifications 2023.12.1          pyhd8ed1ab_0    conda-forge\n",
      "jsonschema-with-format-nongpl 4.21.0             pyhd8ed1ab_0    conda-forge\n",
      "jupyter                   1.0.0             pyhd8ed1ab_10    conda-forge\n",
      "jupyter-lsp               2.2.1              pyhd8ed1ab_0    conda-forge\n",
      "jupyter_client            8.6.0              pyhd8ed1ab_0    conda-forge\n",
      "jupyter_console           6.6.3              pyhd8ed1ab_0    conda-forge\n",
      "jupyter_core              5.7.1           py311h1ea47a8_0    conda-forge\n",
      "jupyter_events            0.9.0              pyhd8ed1ab_0    conda-forge\n",
      "jupyter_server            2.12.5             pyhd8ed1ab_0    conda-forge\n",
      "jupyter_server_terminals  0.5.1              pyhd8ed1ab_0    conda-forge\n",
      "jupyterlab                4.0.10             pyhd8ed1ab_0    conda-forge\n",
      "jupyterlab_pygments       0.3.0              pyhd8ed1ab_0    conda-forge\n",
      "jupyterlab_server         2.25.2             pyhd8ed1ab_0    conda-forge\n",
      "jupyterlab_widgets        3.0.9              pyhd8ed1ab_0    conda-forge\n",
      "libarchive                3.6.2                hb62f4d4_2  \n",
      "libblas                   3.9.0              20_win64_mkl    conda-forge\n",
      "libcblas                  3.9.0              20_win64_mkl    conda-forge\n",
      "libcurl                   8.4.0                h86230a5_1  \n",
      "libffi                    3.4.4                hd77b12b_0  \n",
      "libhwloc                  2.9.1                h51c2c0f_0    conda-forge\n",
      "libiconv                  1.16                 h2bbff1b_2  \n",
      "liblapack                 3.9.0              20_win64_mkl    conda-forge\n",
      "libmamba                  1.5.3                hcd6fe79_0  \n",
      "libmambapy                1.5.3           py311h77c03ed_0  \n",
      "libsodium                 1.0.18               h8d14728_1    conda-forge\n",
      "libsolv                   0.7.24               h23ce68f_0  \n",
      "libssh2                   1.10.0               he2ea4bf_2  \n",
      "libxml2                   2.10.4               h0ad7f3c_1  \n",
      "lz4-c                     1.9.4                h2bbff1b_0  \n",
      "markupsafe                2.1.3           py311ha68e1ae_1    conda-forge\n",
      "matplotlib-inline         0.1.6              pyhd8ed1ab_0    conda-forge\n",
      "menuinst                  2.0.1           py311hd77b12b_1  \n",
      "mistune                   3.0.2              pyhd8ed1ab_0    conda-forge\n",
      "mkl                       2023.2.0         h6a75c08_50497    conda-forge\n",
      "nbclient                  0.8.0              pyhd8ed1ab_0    conda-forge\n",
      "nbconvert                 7.14.2             pyhd8ed1ab_0    conda-forge\n",
      "nbconvert-core            7.14.2             pyhd8ed1ab_0    conda-forge\n",
      "nbconvert-pandoc          7.14.2             pyhd8ed1ab_0    conda-forge\n",
      "nbformat                  5.9.2              pyhd8ed1ab_0    conda-forge\n",
      "nest-asyncio              1.5.9              pyhd8ed1ab_0    conda-forge\n",
      "notebook                  7.0.6              pyhd8ed1ab_0    conda-forge\n",
      "notebook-shim             0.2.3              pyhd8ed1ab_0    conda-forge\n",
      "numpy                     1.26.3          py311h0b4df5a_0    conda-forge\n",
      "openssl                   3.2.0                hcfcfb64_1    conda-forge\n",
      "overrides                 7.4.0              pyhd8ed1ab_0    conda-forge\n",
      "packaging                 23.1            py311haa95532_0  \n",
      "pandoc                    3.1.3                h57928b3_0    conda-forge\n",
      "pandocfilters             1.5.0              pyhd8ed1ab_0    conda-forge\n",
      "parso                     0.8.3              pyhd8ed1ab_0    conda-forge\n",
      "pcre2                     10.42                h0ff8eda_0  \n",
      "pickleshare               0.7.5                   py_1003    conda-forge\n",
      "pip                       23.3.1          py311haa95532_0  \n",
      "pkgutil-resolve-name      1.3.10             pyhd8ed1ab_1    conda-forge\n",
      "platformdirs              3.10.0          py311haa95532_0  \n",
      "pluggy                    1.0.0           py311haa95532_1  \n",
      "powershell_shortcut_miniconda 0.0.1                haa95532_1  \n",
      "prometheus_client         0.19.0             pyhd8ed1ab_0    conda-forge\n",
      "prompt-toolkit            3.0.42             pyha770c72_0    conda-forge\n",
      "prompt_toolkit            3.0.42               hd8ed1ab_0    conda-forge\n",
      "psutil                    5.9.7           py311ha68e1ae_0    conda-forge\n",
      "pthreads-win32            2.9.1                hfa6e2cd_3    conda-forge\n",
      "pure_eval                 0.2.2              pyhd8ed1ab_0    conda-forge\n",
      "pybind11-abi              4                    hd3eb1b0_1  \n",
      "pycosat                   0.6.6           py311h2bbff1b_0  \n",
      "pycparser                 2.21               pyhd3eb1b0_0  \n",
      "pygments                  2.17.2             pyhd8ed1ab_0    conda-forge\n",
      "pyopenssl                 23.2.0          py311haa95532_0  \n",
      "pysocks                   1.7.1           py311haa95532_0  \n",
      "python                    3.11.5               he1021f5_0  \n",
      "python-dateutil           2.8.2              pyhd8ed1ab_0    conda-forge\n",
      "python-fastjsonschema     2.19.1             pyhd8ed1ab_0    conda-forge\n",
      "python-json-logger        2.0.7              pyhd8ed1ab_0    conda-forge\n",
      "python_abi                3.11                    2_cp311    conda-forge\n",
      "pytz                      2023.3.post1       pyhd8ed1ab_0    conda-forge\n",
      "pywin32                   306             py311h12c1d0e_2    conda-forge\n",
      "pywinpty                  2.0.12          py311h12c1d0e_0    conda-forge\n",
      "pyyaml                    6.0.1           py311ha68e1ae_1    conda-forge\n",
      "pyzmq                     25.1.2          py311h9250fbb_0    conda-forge\n",
      "qtconsole-base            5.5.1              pyha770c72_0    conda-forge\n",
      "qtpy                      2.4.1              pyhd8ed1ab_0    conda-forge\n",
      "referencing               0.32.1             pyhd8ed1ab_0    conda-forge\n",
      "reproc                    14.2.4               hd77b12b_1  \n",
      "reproc-cpp                14.2.4               hd77b12b_1  \n",
      "requests                  2.31.0          py311haa95532_0  \n",
      "rfc3339-validator         0.1.4              pyhd8ed1ab_0    conda-forge\n",
      "rfc3986-validator         0.1.1              pyh9f0ad1d_0    conda-forge\n",
      "rpds-py                   0.17.1          py311hc37eb10_0    conda-forge\n",
      "ruamel.yaml               0.17.21         py311h2bbff1b_0  \n",
      "send2trash                1.8.2              pyh08f2357_0    conda-forge\n",
      "setuptools                68.2.2          py311haa95532_0  \n",
      "six                       1.16.0             pyh6c4a22f_0    conda-forge\n",
      "sniffio                   1.3.0              pyhd8ed1ab_0    conda-forge\n",
      "soupsieve                 2.5                pyhd8ed1ab_1    conda-forge\n",
      "sqlite                    3.41.2               h2bbff1b_0  \n",
      "stack_data                0.6.2              pyhd8ed1ab_0    conda-forge\n",
      "tbb                       2021.9.0             h91493d7_0    conda-forge\n",
      "terminado                 0.18.0             pyh5737063_0    conda-forge\n",
      "tinycss2                  1.2.1              pyhd8ed1ab_0    conda-forge\n",
      "tk                        8.6.12               h2bbff1b_0  \n",
      "tomli                     2.0.1              pyhd8ed1ab_0    conda-forge\n",
      "tornado                   6.3.3           py311ha68e1ae_1    conda-forge\n",
      "tqdm                      4.65.0          py311h746a85d_0  \n",
      "traitlets                 5.14.1             pyhd8ed1ab_0    conda-forge\n",
      "truststore                0.8.0           py311haa95532_0  \n",
      "types-python-dateutil     2.8.19.20240106    pyhd8ed1ab_0    conda-forge\n",
      "typing-extensions         4.9.0                hd8ed1ab_0    conda-forge\n",
      "typing_extensions         4.9.0              pyha770c72_0    conda-forge\n",
      "typing_utils              0.1.0              pyhd8ed1ab_0    conda-forge\n",
      "tzdata                    2023c                h04d1e81_0  \n",
      "ucrt                      10.0.22621.0         h57928b3_0    conda-forge\n",
      "uri-template              1.3.0              pyhd8ed1ab_0    conda-forge\n",
      "urllib3                   1.26.18         py311haa95532_0  \n",
      "vc                        14.2                 h21ff451_1  \n",
      "vc14_runtime              14.38.33130         h82b7239_18    conda-forge\n",
      "vs2015_runtime            14.38.33130         hcb4865c_18    conda-forge\n",
      "wcwidth                   0.2.13             pyhd8ed1ab_0    conda-forge\n",
      "webcolors                 1.13               pyhd8ed1ab_0    conda-forge\n",
      "webencodings              0.5.1              pyhd8ed1ab_2    conda-forge\n",
      "websocket-client          1.7.0              pyhd8ed1ab_0    conda-forge\n",
      "wheel                     0.41.2          py311haa95532_0  \n",
      "widgetsnbextension        4.0.9              pyhd8ed1ab_0    conda-forge\n",
      "win_inet_pton             1.1.0           py311haa95532_0  \n",
      "winpty                    0.4.3                         4    conda-forge\n",
      "xz                        5.4.5                h8cc25b3_0  \n",
      "yaml                      0.2.5                h8ffe710_2    conda-forge\n",
      "yaml-cpp                  0.8.0                hd77b12b_0  \n",
      "zeromq                    4.3.5                h63175ca_0    conda-forge\n",
      "zipp                      3.17.0             pyhd8ed1ab_0    conda-forge\n",
      "zlib                      1.2.13               h8cc25b3_0  \n",
      "zstandard                 0.19.0          py311h2bbff1b_0  \n",
      "zstd                      1.5.5                hd43e919_0  \n"
     ]
    }
   ],
   "source": [
    "!conda list"
   ]
  }
 ],
 "metadata": {
  "kernelspec": {
   "display_name": "Python 3 (ipykernel)",
   "language": "python",
   "name": "python3"
  },
  "language_info": {
   "codemirror_mode": {
    "name": "ipython",
    "version": 3
   },
   "file_extension": ".py",
   "mimetype": "text/x-python",
   "name": "python",
   "nbconvert_exporter": "python",
   "pygments_lexer": "ipython3",
   "version": "3.11.5"
  }
 },
 "nbformat": 4,
 "nbformat_minor": 5
}
