{
 "cells": [
  {
   "attachments": {},
   "cell_type": "markdown",
   "id": "123456",
   "metadata": {},
   "source": [
    "<div style=\"text-align:left;font-size:2em\"><span style=\"font-weight:bolder;font-size:1.25em\">SP2273 | Learning Portfolio</span><br><br><span style=\"font-weight:bold;color:darkred\">Fundamentals (Good)</span></div>"
   ]
  },
  {
   "attachments": {},
   "cell_type": "markdown",
   "id": "e0529a2c",
   "metadata": {},
   "source": [
    "# 1 There is more to if"
   ]
  },
  {
   "cell_type": "code",
   "execution_count": 1,
   "id": "0f808f55-afe0-4765-ab3d-f580f7f22cf2",
   "metadata": {},
   "outputs": [
    {
     "name": "stdout",
     "output_type": "stream",
     "text": [
      "Hello Batman!\n"
     ]
    }
   ],
   "source": [
    "name = 'Batman'         \n",
    "\n",
    "if name == 'Batman':\n",
    "    print('Hello Batman!')\n",
    "elif name == 'Robin':\n",
    "    print('Hello Sidekick!')\n",
    "else:\n",
    "    print('Hello World!')"
   ]
  },
  {
   "cell_type": "code",
   "execution_count": 2,
   "id": "2879d60f-8144-4c50-9031-c7b9598cbced",
   "metadata": {},
   "outputs": [
    {
     "name": "stdout",
     "output_type": "stream",
     "text": [
      "Hello Sidekick!\n"
     ]
    }
   ],
   "source": [
    "name = 'Robin'\n",
    "\n",
    "if name == 'Batman':\n",
    "    print('Hello Batman!')\n",
    "elif name == 'Robin':\n",
    "    print('Hello Sidekick!')\n",
    "else:\n",
    "    print('Hello World!')"
   ]
  },
  {
   "cell_type": "code",
   "execution_count": 3,
   "id": "f35f69f7-db76-4be3-a58b-2a081cc43839",
   "metadata": {},
   "outputs": [
    {
     "name": "stdout",
     "output_type": "stream",
     "text": [
      "Hello World!\n"
     ]
    }
   ],
   "source": [
    "name = 'blacksuit'\n",
    "\n",
    "if name == 'Batman':\n",
    "    print('Hello Batman!')\n",
    "elif name == 'Robin':\n",
    "    print('Hello Sidekick!')\n",
    "else:\n",
    "    print('Hello World!')"
   ]
  },
  {
   "attachments": {},
   "cell_type": "markdown",
   "id": "8fb5bb03",
   "metadata": {},
   "source": [
    "# 2 Asking questions"
   ]
  },
  {
   "cell_type": "code",
   "execution_count": 4,
   "id": "5132ad09-e04a-421a-a8fd-bb9ef7b4997a",
   "metadata": {},
   "outputs": [],
   "source": [
    "fruits = ['apple', 'banana', 'pineapple', 'jackfruit']\n",
    "vegetables = ['celery', 'potato', 'broccoli', 'kale']"
   ]
  },
  {
   "cell_type": "code",
   "execution_count": 5,
   "id": "1ae15f85-253f-426f-b520-e353ee646fa0",
   "metadata": {},
   "outputs": [
    {
     "data": {
      "text/plain": [
       "True"
      ]
     },
     "execution_count": 5,
     "metadata": {},
     "output_type": "execute_result"
    }
   ],
   "source": [
    "'apple' in fruits"
   ]
  },
  {
   "cell_type": "code",
   "execution_count": 6,
   "id": "d62e494b-55da-4c8c-b567-415e21308239",
   "metadata": {},
   "outputs": [
    {
     "data": {
      "text/plain": [
       "False"
      ]
     },
     "execution_count": 6,
     "metadata": {},
     "output_type": "execute_result"
    }
   ],
   "source": [
    "'peach' in fruits"
   ]
  },
  {
   "cell_type": "code",
   "execution_count": 11,
   "id": "26f758e4-c325-4a7a-99ac-d3fdd8a5344f",
   "metadata": {},
   "outputs": [
    {
     "data": {
      "text/plain": [
       "True"
      ]
     },
     "execution_count": 11,
     "metadata": {},
     "output_type": "execute_result"
    }
   ],
   "source": [
    "'peach' not in fruits"
   ]
  },
  {
   "cell_type": "code",
   "execution_count": 7,
   "id": "78fc86c6-a325-4563-bb8f-ef7d1e6a133d",
   "metadata": {},
   "outputs": [
    {
     "data": {
      "text/plain": [
       "True"
      ]
     },
     "execution_count": 7,
     "metadata": {},
     "output_type": "execute_result"
    }
   ],
   "source": [
    "('apple' in fruits) and ('celery' in vegetables)     # Ask if two conditions are both satisfied"
   ]
  },
  {
   "cell_type": "code",
   "execution_count": 9,
   "id": "6fc73805-c5c6-447d-90be-73b5f217c064",
   "metadata": {},
   "outputs": [
    {
     "data": {
      "text/plain": [
       "True"
      ]
     },
     "execution_count": 9,
     "metadata": {},
     "output_type": "execute_result"
    }
   ],
   "source": [
    "('apple' in fruits) or ('celery' in vegetables)       # Ask if any one of two conditions are satisfied"
   ]
  },
  {
   "cell_type": "code",
   "execution_count": 10,
   "id": "720679ae-ce8c-4e04-b9cd-15e4eb0bee66",
   "metadata": {},
   "outputs": [
    {
     "data": {
      "text/plain": [
       "True"
      ]
     },
     "execution_count": 10,
     "metadata": {},
     "output_type": "execute_result"
    }
   ],
   "source": [
    "'app' in 'apple'"
   ]
  },
  {
   "cell_type": "code",
   "execution_count": 12,
   "id": "2969246e-0f03-4340-be25-d4a0755bf047",
   "metadata": {},
   "outputs": [
    {
     "data": {
      "text/plain": [
       "False"
      ]
     },
     "execution_count": 12,
     "metadata": {},
     "output_type": "execute_result"
    }
   ],
   "source": [
    "'apples' > 'oranges'    # In Python, the letters are represented as numbers."
   ]
  },
  {
   "attachments": {},
   "cell_type": "markdown",
   "id": "1ac70600",
   "metadata": {},
   "source": [
    "## 2.1 Remember"
   ]
  },
  {
   "cell_type": "markdown",
   "id": "5557dcab-69eb-425e-86ed-a9c46bfbc7e7",
   "metadata": {},
   "source": [
    "`not`, `in`, `and`, `or` are some Python keywords that are useful in asking questions."
   ]
  },
  {
   "attachments": {},
   "cell_type": "markdown",
   "id": "6c03c4d2",
   "metadata": {},
   "source": [
    "## 2.2 Asking Math questions"
   ]
  },
  {
   "cell_type": "markdown",
   "id": "32d12bd2-fd86-4ed6-9d59-c2a98938b639",
   "metadata": {},
   "source": [
    "|   Question/Condition   | Math Symbol | Python Symbol |\r\n",
    "|:----------------------:|:-----------:|:-------------:|\r\n",
    "|         Equals?        |      =      |      `==`     |\r\n",
    "|       Not equal?       |    $\\ne$    |      `!=`     |\r\n",
    "|       Less than?       |      <      |      `<`      |\r\n",
    "|      Greater than?     |      >      |      `>`      |\r\n",
    "|  Less than or equal？  |    $\\leq$   |      `<=`     |\r\n",
    "| Greater than or equal? |    $\\geq$   |      `>=`     |`     |`     |      |"
   ]
  },
  {
   "cell_type": "code",
   "execution_count": 16,
   "id": "cd4ebca2-072a-444d-9521-4abbfb2f8eca",
   "metadata": {},
   "outputs": [],
   "source": [
    "x = 7"
   ]
  },
  {
   "cell_type": "code",
   "execution_count": 17,
   "id": "1d099719-df7f-42da-9638-11e9b1171513",
   "metadata": {},
   "outputs": [
    {
     "data": {
      "text/plain": [
       "True"
      ]
     },
     "execution_count": 17,
     "metadata": {},
     "output_type": "execute_result"
    }
   ],
   "source": [
    "x > 5 and x < 10"
   ]
  },
  {
   "cell_type": "code",
   "execution_count": 18,
   "id": "56b7165d-4c75-4a6d-b2bc-4c2658d6fe54",
   "metadata": {},
   "outputs": [
    {
     "data": {
      "text/plain": [
       "True"
      ]
     },
     "execution_count": 18,
     "metadata": {},
     "output_type": "execute_result"
    }
   ],
   "source": [
    "(x > 5) and ( x < 10 )"
   ]
  },
  {
   "cell_type": "code",
   "execution_count": 19,
   "id": "f8fc654d-bed9-4d7c-a666-d7d8e3314c44",
   "metadata": {},
   "outputs": [
    {
     "data": {
      "text/plain": [
       "True"
      ]
     },
     "execution_count": 19,
     "metadata": {},
     "output_type": "execute_result"
    }
   ],
   "source": [
    "5 < x < 10"
   ]
  },
  {
   "attachments": {},
   "cell_type": "markdown",
   "id": "e8d196d6",
   "metadata": {},
   "source": [
    "# 3 Python stores information in different formats or types"
   ]
  },
  {
   "cell_type": "markdown",
   "id": "a991cb58-f569-49ad-af3a-640f3def1b93",
   "metadata": {},
   "source": [
    "Computers store information in different ways. There are four ways we can store number `1.234`"
   ]
  },
  {
   "cell_type": "markdown",
   "id": "173ac0bd-3e84-4c89-9690-626d85d058b1",
   "metadata": {},
   "source": [
    "### 3.1 Example 1"
   ]
  },
  {
   "cell_type": "code",
   "execution_count": 23,
   "id": "7a020dc0-bbef-4f33-8a98-a23dbbd2969a",
   "metadata": {},
   "outputs": [
    {
     "name": "stdout",
     "output_type": "stream",
     "text": [
      "1 <class 'int'>\n"
     ]
    }
   ],
   "source": [
    "x = int(1.234)\n",
    "print(x, type(x))      #Store as an integer"
   ]
  },
  {
   "cell_type": "markdown",
   "id": "873c290b-4481-4ec2-bbcd-1642ace41e14",
   "metadata": {},
   "source": [
    "### 3.2 Example 2"
   ]
  },
  {
   "cell_type": "code",
   "execution_count": 21,
   "id": "1cd2bb6e-4d6c-4027-9710-042927a6a019",
   "metadata": {},
   "outputs": [
    {
     "name": "stdout",
     "output_type": "stream",
     "text": [
      "1.234 <class 'str'>\n"
     ]
    }
   ],
   "source": [
    "x = str(1.234)\n",
    "print(x, type(x))     #store as a string"
   ]
  },
  {
   "cell_type": "markdown",
   "id": "02f9d9e3-eb24-40e8-a4e0-d4af7aadac9a",
   "metadata": {},
   "source": [
    "### 3.3 Example 3"
   ]
  },
  {
   "cell_type": "code",
   "execution_count": 22,
   "id": "fccdd0f3-335e-42b9-a223-22abfe8376c5",
   "metadata": {},
   "outputs": [
    {
     "name": "stdout",
     "output_type": "stream",
     "text": [
      "1.234 <class 'float'>\n"
     ]
    }
   ],
   "source": [
    "x = float(1.234)\n",
    "print(x, type(x))     #store as a float"
   ]
  },
  {
   "cell_type": "markdown",
   "id": "b116bb37-88aa-43e9-b900-f4bafd62f555",
   "metadata": {},
   "source": [
    "### 3.4 Example 4"
   ]
  },
  {
   "cell_type": "code",
   "execution_count": 25,
   "id": "138fd5ef-0b55-46cb-99a2-9568572f632e",
   "metadata": {},
   "outputs": [
    {
     "name": "stdout",
     "output_type": "stream",
     "text": [
      "(1.234+0j) <class 'complex'>\n"
     ]
    }
   ],
   "source": [
    "x = complex(1.234)\n",
    "print(x, type(x))     # store as a complex number"
   ]
  },
  {
   "cell_type": "code",
   "execution_count": 26,
   "id": "60963273-5906-409e-b4f3-5bb3f5df9639",
   "metadata": {},
   "outputs": [
    {
     "name": "stdout",
     "output_type": "stream",
     "text": [
      "1.234 <class 'str'>\n"
     ]
    }
   ],
   "source": [
    "x = '1.234'    #x is a string\n",
    "print(x,type(x))"
   ]
  },
  {
   "cell_type": "code",
   "execution_count": 28,
   "id": "fcc2f6a3-767b-4d03-9be6-dab1239ca5dd",
   "metadata": {},
   "outputs": [
    {
     "name": "stdout",
     "output_type": "stream",
     "text": [
      "1.234 <class 'float'>\n"
     ]
    }
   ],
   "source": [
    "x = float(x)   #convert x into float. This process is called typecasting.\n",
    "print(x,type(x))"
   ]
  },
  {
   "attachments": {},
   "cell_type": "markdown",
   "id": "eb41f426",
   "metadata": {},
   "source": [
    "# 4 Never compare floats directly"
   ]
  },
  {
   "attachments": {},
   "cell_type": "markdown",
   "id": "a4afc3c6",
   "metadata": {},
   "source": [
    "## 4.1 The Problem"
   ]
  },
  {
   "cell_type": "code",
   "execution_count": 30,
   "id": "5775d475-703d-48a8-aa43-6690372d8ab3",
   "metadata": {},
   "outputs": [
    {
     "data": {
      "text/plain": [
       "False"
      ]
     },
     "execution_count": 30,
     "metadata": {},
     "output_type": "execute_result"
    }
   ],
   "source": [
    "a = 0.1\n",
    "a3 = 0.3\n",
    "a * 3 == a3   #in common sense, it should be true, but in Python it will cause problem."
   ]
  },
  {
   "cell_type": "code",
   "execution_count": 33,
   "id": "76aaa005-3f1a-4057-9d36-fb3a511df728",
   "metadata": {},
   "outputs": [
    {
     "data": {
      "text/plain": [
       "'0.29999999999999999'"
      ]
     },
     "execution_count": 33,
     "metadata": {},
     "output_type": "execute_result"
    }
   ],
   "source": [
    "f'{0.3:.17f}'     #Python store 0.3 as 0.2999999999999. cause problem"
   ]
  },
  {
   "attachments": {},
   "cell_type": "markdown",
   "id": "4b037f82",
   "metadata": {},
   "source": [
    "## 4.2 A solution"
   ]
  },
  {
   "cell_type": "code",
   "execution_count": 35,
   "id": "92753809-d941-404d-9527-19fdf0f1ff2a",
   "metadata": {},
   "outputs": [
    {
     "data": {
      "text/plain": [
       "5.551115123125783e-17"
      ]
     },
     "execution_count": 35,
     "metadata": {},
     "output_type": "execute_result"
    }
   ],
   "source": [
    "a*3 - a3  #normally it should be 0, but in Python , here is a very small number"
   ]
  },
  {
   "cell_type": "code",
   "execution_count": 37,
   "id": "3bb1402e-d19e-4567-800c-f68f5b549253",
   "metadata": {},
   "outputs": [
    {
     "data": {
      "text/plain": [
       "True"
      ]
     },
     "execution_count": 37,
     "metadata": {},
     "output_type": "execute_result"
    }
   ],
   "source": [
    "(a*3 - a3) < 1E-10    #instead of checking whether thay are equal, we can check whether they are close"
   ]
  },
  {
   "cell_type": "code",
   "execution_count": 38,
   "id": "7ab0ee0d-b505-4ae9-b2a7-b178f45bf5b1",
   "metadata": {},
   "outputs": [],
   "source": [
    "import numpy as np"
   ]
  },
  {
   "cell_type": "code",
   "execution_count": 40,
   "id": "82cd29bb-ba74-44ee-93f1-c01df22c8dbf",
   "metadata": {},
   "outputs": [
    {
     "data": {
      "text/plain": [
       "True"
      ]
     },
     "execution_count": 40,
     "metadata": {},
     "output_type": "execute_result"
    }
   ],
   "source": [
    "np.isclose(a*3,a3)    #Numpy has a function to check whether they are close"
   ]
  },
  {
   "attachments": {},
   "cell_type": "markdown",
   "id": "7ae41716",
   "metadata": {},
   "source": [
    "# 5 Combining English and variables"
   ]
  },
  {
   "attachments": {},
   "cell_type": "markdown",
   "id": "6ad1fa94",
   "metadata": {},
   "source": [
    "## 6.1 Structure of f-strings"
   ]
  },
  {
   "attachments": {},
   "cell_type": "markdown",
   "id": "6abafd9d",
   "metadata": {},
   "source": [
    "# 7 Escape sequences"
   ]
  },
  {
   "attachments": {},
   "cell_type": "markdown",
   "id": "ef282d39",
   "metadata": {},
   "source": [
    "# 8 Computers read = from Right to Left!"
   ]
  },
  {
   "attachments": {},
   "cell_type": "markdown",
   "id": "99d7b392",
   "metadata": {},
   "source": [
    "# 9 Shorter and Cleaner Code"
   ]
  },
  {
   "attachments": {},
   "cell_type": "markdown",
   "id": "e63cabb0",
   "metadata": {},
   "source": [
    "# 10 Python can be a prima-donna."
   ]
  },
  {
   "attachments": {},
   "cell_type": "markdown",
   "id": "01835bfb",
   "metadata": {},
   "source": [
    "# 11 Best Practices for Scientific Computing"
   ]
  },
  {
   "attachments": {},
   "cell_type": "markdown",
   "id": "803778d8",
   "metadata": {},
   "source": [
    "# 12 Looking for help"
   ]
  },
  {
   "attachments": {},
   "cell_type": "markdown",
   "id": "2f3ee5e3",
   "metadata": {},
   "source": [
    "## References"
   ]
  },
  {
   "attachments": {},
   "cell_type": "markdown",
   "id": "eb3e1c74",
   "metadata": {},
   "source": [
    "## Footnotes"
   ]
  }
 ],
 "metadata": {
  "kernelspec": {
   "display_name": "Python 3 (ipykernel)",
   "language": "python",
   "name": "python3"
  },
  "language_info": {
   "codemirror_mode": {
    "name": "ipython",
    "version": 3
   },
   "file_extension": ".py",
   "mimetype": "text/x-python",
   "name": "python",
   "nbconvert_exporter": "python",
   "pygments_lexer": "ipython3",
   "version": "3.11.5"
  },
  "toc": {
   "base_numbering": 1,
   "nav_menu": {},
   "number_sections": true,
   "sideBar": true,
   "skip_h1_title": false,
   "title_cell": "Table of Contents",
   "title_sidebar": "Contents",
   "toc_cell": false,
   "toc_position": {},
   "toc_section_display": true,
   "toc_window_display": false
  },
  "vscode": {
   "interpreter": {
    "hash": "31f2aee4e71d21fbe5cf8b01ff0e069b9275f58929596ceb00d14d90e3e16cd6"
   }
  }
 },
 "nbformat": 4,
 "nbformat_minor": 5
}
