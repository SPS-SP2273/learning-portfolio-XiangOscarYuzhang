{
 "cells": [
  {
   "attachments": {},
   "cell_type": "markdown",
   "id": "123456",
   "metadata": {},
   "source": [
    "<div style=\"text-align:left;font-size:2em\"><span style=\"font-weight:bolder;font-size:1.25em\">SP2273 | Learning Portfolio</span><br><br><span style=\"font-weight:bold;color:darkred\">Fundamentals (Good)</span></div>"
   ]
  },
  {
   "attachments": {},
   "cell_type": "markdown",
   "id": "e0529a2c",
   "metadata": {},
   "source": [
    "# 1 There is more to if"
   ]
  },
  {
   "cell_type": "code",
   "execution_count": 1,
   "id": "0f808f55-afe0-4765-ab3d-f580f7f22cf2",
   "metadata": {},
   "outputs": [
    {
     "name": "stdout",
     "output_type": "stream",
     "text": [
      "Hello Batman!\n"
     ]
    }
   ],
   "source": [
    "name = 'Batman'         \n",
    "\n",
    "if name == 'Batman':\n",
    "    print('Hello Batman!')\n",
    "elif name == 'Robin':\n",
    "    print('Hello Sidekick!')\n",
    "else:\n",
    "    print('Hello World!')"
   ]
  },
  {
   "cell_type": "code",
   "execution_count": 2,
   "id": "2879d60f-8144-4c50-9031-c7b9598cbced",
   "metadata": {},
   "outputs": [
    {
     "name": "stdout",
     "output_type": "stream",
     "text": [
      "Hello Sidekick!\n"
     ]
    }
   ],
   "source": [
    "name = 'Robin'\n",
    "\n",
    "if name == 'Batman':\n",
    "    print('Hello Batman!')\n",
    "elif name == 'Robin':\n",
    "    print('Hello Sidekick!')\n",
    "else:\n",
    "    print('Hello World!')"
   ]
  },
  {
   "cell_type": "code",
   "execution_count": 3,
   "id": "f35f69f7-db76-4be3-a58b-2a081cc43839",
   "metadata": {},
   "outputs": [
    {
     "name": "stdout",
     "output_type": "stream",
     "text": [
      "Hello World!\n"
     ]
    }
   ],
   "source": [
    "name = 'blacksuit'\n",
    "\n",
    "if name == 'Batman':\n",
    "    print('Hello Batman!')\n",
    "elif name == 'Robin':\n",
    "    print('Hello Sidekick!')\n",
    "else:\n",
    "    print('Hello World!')"
   ]
  },
  {
   "attachments": {},
   "cell_type": "markdown",
   "id": "8fb5bb03",
   "metadata": {},
   "source": [
    "# 2 Asking questions"
   ]
  },
  {
   "cell_type": "code",
   "execution_count": 4,
   "id": "5132ad09-e04a-421a-a8fd-bb9ef7b4997a",
   "metadata": {},
   "outputs": [],
   "source": [
    "fruits = ['apple', 'banana', 'pineapple', 'jackfruit']\n",
    "vegetables = ['celery', 'potato', 'broccoli', 'kale']"
   ]
  },
  {
   "cell_type": "code",
   "execution_count": 5,
   "id": "1ae15f85-253f-426f-b520-e353ee646fa0",
   "metadata": {},
   "outputs": [
    {
     "data": {
      "text/plain": [
       "True"
      ]
     },
     "execution_count": 5,
     "metadata": {},
     "output_type": "execute_result"
    }
   ],
   "source": [
    "'apple' in fruits"
   ]
  },
  {
   "cell_type": "code",
   "execution_count": 6,
   "id": "d62e494b-55da-4c8c-b567-415e21308239",
   "metadata": {},
   "outputs": [
    {
     "data": {
      "text/plain": [
       "False"
      ]
     },
     "execution_count": 6,
     "metadata": {},
     "output_type": "execute_result"
    }
   ],
   "source": [
    "'peach' in fruits"
   ]
  },
  {
   "cell_type": "code",
   "execution_count": 11,
   "id": "26f758e4-c325-4a7a-99ac-d3fdd8a5344f",
   "metadata": {},
   "outputs": [
    {
     "data": {
      "text/plain": [
       "True"
      ]
     },
     "execution_count": 11,
     "metadata": {},
     "output_type": "execute_result"
    }
   ],
   "source": [
    "'peach' not in fruits"
   ]
  },
  {
   "cell_type": "code",
   "execution_count": 7,
   "id": "78fc86c6-a325-4563-bb8f-ef7d1e6a133d",
   "metadata": {},
   "outputs": [
    {
     "data": {
      "text/plain": [
       "True"
      ]
     },
     "execution_count": 7,
     "metadata": {},
     "output_type": "execute_result"
    }
   ],
   "source": [
    "('apple' in fruits) and ('celery' in vegetables)     # Ask if two conditions are both satisfied"
   ]
  },
  {
   "cell_type": "code",
   "execution_count": 9,
   "id": "6fc73805-c5c6-447d-90be-73b5f217c064",
   "metadata": {},
   "outputs": [
    {
     "data": {
      "text/plain": [
       "True"
      ]
     },
     "execution_count": 9,
     "metadata": {},
     "output_type": "execute_result"
    }
   ],
   "source": [
    "('apple' in fruits) or ('celery' in vegetables)       # Ask if any one of two conditions are satisfied"
   ]
  },
  {
   "cell_type": "code",
   "execution_count": 10,
   "id": "720679ae-ce8c-4e04-b9cd-15e4eb0bee66",
   "metadata": {},
   "outputs": [
    {
     "data": {
      "text/plain": [
       "True"
      ]
     },
     "execution_count": 10,
     "metadata": {},
     "output_type": "execute_result"
    }
   ],
   "source": [
    "'app' in 'apple'"
   ]
  },
  {
   "cell_type": "code",
   "execution_count": 12,
   "id": "2969246e-0f03-4340-be25-d4a0755bf047",
   "metadata": {},
   "outputs": [
    {
     "data": {
      "text/plain": [
       "False"
      ]
     },
     "execution_count": 12,
     "metadata": {},
     "output_type": "execute_result"
    }
   ],
   "source": [
    "'apples' > 'oranges'    # In Python, the letters are represented as numbers."
   ]
  },
  {
   "attachments": {},
   "cell_type": "markdown",
   "id": "1ac70600",
   "metadata": {},
   "source": [
    "## 2.1 Remember"
   ]
  },
  {
   "cell_type": "markdown",
   "id": "5557dcab-69eb-425e-86ed-a9c46bfbc7e7",
   "metadata": {},
   "source": [
    "`not`, `in`, `and`, `or` are some Python keywords that are useful in asking questions."
   ]
  },
  {
   "attachments": {},
   "cell_type": "markdown",
   "id": "6c03c4d2",
   "metadata": {},
   "source": [
    "## 2.2 Asking Math questions"
   ]
  },
  {
   "cell_type": "markdown",
   "id": "32d12bd2-fd86-4ed6-9d59-c2a98938b639",
   "metadata": {},
   "source": [
    "|   Question/Condition   | Math Symbol | Python Symbol |\r\n",
    "|:----------------------:|:-----------:|:-------------:|\r\n",
    "|         Equals?        |      =      |      `==`     |\r\n",
    "|       Not equal?       |    $\\ne$    |      `!=`     |\r\n",
    "|       Less than?       |      <      |      `<`      |\r\n",
    "|      Greater than?     |      >      |      `>`      |\r\n",
    "|  Less than or equal？  |    $\\leq$   |      `<=`     |\r\n",
    "| Greater than or equal? |    $\\geq$   |      `>=`     |`     |`     |      |"
   ]
  },
  {
   "cell_type": "code",
   "execution_count": 16,
   "id": "cd4ebca2-072a-444d-9521-4abbfb2f8eca",
   "metadata": {},
   "outputs": [],
   "source": [
    "x = 7"
   ]
  },
  {
   "cell_type": "code",
   "execution_count": 17,
   "id": "1d099719-df7f-42da-9638-11e9b1171513",
   "metadata": {},
   "outputs": [
    {
     "data": {
      "text/plain": [
       "True"
      ]
     },
     "execution_count": 17,
     "metadata": {},
     "output_type": "execute_result"
    }
   ],
   "source": [
    "x > 5 and x < 10"
   ]
  },
  {
   "cell_type": "code",
   "execution_count": 18,
   "id": "56b7165d-4c75-4a6d-b2bc-4c2658d6fe54",
   "metadata": {},
   "outputs": [
    {
     "data": {
      "text/plain": [
       "True"
      ]
     },
     "execution_count": 18,
     "metadata": {},
     "output_type": "execute_result"
    }
   ],
   "source": [
    "(x > 5) and ( x < 10 )"
   ]
  },
  {
   "cell_type": "code",
   "execution_count": 19,
   "id": "f8fc654d-bed9-4d7c-a666-d7d8e3314c44",
   "metadata": {},
   "outputs": [
    {
     "data": {
      "text/plain": [
       "True"
      ]
     },
     "execution_count": 19,
     "metadata": {},
     "output_type": "execute_result"
    }
   ],
   "source": [
    "5 < x < 10"
   ]
  },
  {
   "attachments": {},
   "cell_type": "markdown",
   "id": "e8d196d6",
   "metadata": {},
   "source": [
    "# 3 Python stores information in different formats or types"
   ]
  },
  {
   "cell_type": "markdown",
   "id": "a991cb58-f569-49ad-af3a-640f3def1b93",
   "metadata": {},
   "source": [
    "Computers store information in different ways. There are four ways we can store number `1.234`"
   ]
  },
  {
   "cell_type": "markdown",
   "id": "173ac0bd-3e84-4c89-9690-626d85d058b1",
   "metadata": {},
   "source": [
    "### 3.1 Example 1"
   ]
  },
  {
   "cell_type": "code",
   "execution_count": 23,
   "id": "7a020dc0-bbef-4f33-8a98-a23dbbd2969a",
   "metadata": {},
   "outputs": [
    {
     "name": "stdout",
     "output_type": "stream",
     "text": [
      "1 <class 'int'>\n"
     ]
    }
   ],
   "source": [
    "x = int(1.234)\n",
    "print(x, type(x))      #Store as an integer"
   ]
  },
  {
   "cell_type": "markdown",
   "id": "873c290b-4481-4ec2-bbcd-1642ace41e14",
   "metadata": {},
   "source": [
    "### 3.2 Example 2"
   ]
  },
  {
   "cell_type": "code",
   "execution_count": 21,
   "id": "1cd2bb6e-4d6c-4027-9710-042927a6a019",
   "metadata": {},
   "outputs": [
    {
     "name": "stdout",
     "output_type": "stream",
     "text": [
      "1.234 <class 'str'>\n"
     ]
    }
   ],
   "source": [
    "x = str(1.234)\n",
    "print(x, type(x))     #store as a string"
   ]
  },
  {
   "cell_type": "markdown",
   "id": "02f9d9e3-eb24-40e8-a4e0-d4af7aadac9a",
   "metadata": {},
   "source": [
    "### 3.3 Example 3"
   ]
  },
  {
   "cell_type": "code",
   "execution_count": 22,
   "id": "fccdd0f3-335e-42b9-a223-22abfe8376c5",
   "metadata": {},
   "outputs": [
    {
     "name": "stdout",
     "output_type": "stream",
     "text": [
      "1.234 <class 'float'>\n"
     ]
    }
   ],
   "source": [
    "x = float(1.234)\n",
    "print(x, type(x))     #store as a float"
   ]
  },
  {
   "cell_type": "markdown",
   "id": "b116bb37-88aa-43e9-b900-f4bafd62f555",
   "metadata": {},
   "source": [
    "### 3.4 Example 4"
   ]
  },
  {
   "cell_type": "code",
   "execution_count": 25,
   "id": "138fd5ef-0b55-46cb-99a2-9568572f632e",
   "metadata": {},
   "outputs": [
    {
     "name": "stdout",
     "output_type": "stream",
     "text": [
      "(1.234+0j) <class 'complex'>\n"
     ]
    }
   ],
   "source": [
    "x = complex(1.234)\n",
    "print(x, type(x))     # store as a complex number"
   ]
  },
  {
   "cell_type": "code",
   "execution_count": 26,
   "id": "60963273-5906-409e-b4f3-5bb3f5df9639",
   "metadata": {},
   "outputs": [
    {
     "name": "stdout",
     "output_type": "stream",
     "text": [
      "1.234 <class 'str'>\n"
     ]
    }
   ],
   "source": [
    "x = '1.234'    #x is a string\n",
    "print(x,type(x))"
   ]
  },
  {
   "cell_type": "code",
   "execution_count": 28,
   "id": "fcc2f6a3-767b-4d03-9be6-dab1239ca5dd",
   "metadata": {},
   "outputs": [
    {
     "name": "stdout",
     "output_type": "stream",
     "text": [
      "1.234 <class 'float'>\n"
     ]
    }
   ],
   "source": [
    "x = float(x)   #convert x into float. This process is called typecasting.\n",
    "print(x,type(x))"
   ]
  },
  {
   "attachments": {},
   "cell_type": "markdown",
   "id": "eb41f426",
   "metadata": {},
   "source": [
    "# 4 Never compare floats directly"
   ]
  },
  {
   "attachments": {},
   "cell_type": "markdown",
   "id": "a4afc3c6",
   "metadata": {},
   "source": [
    "## 4.1 The Problem"
   ]
  },
  {
   "cell_type": "code",
   "execution_count": 30,
   "id": "5775d475-703d-48a8-aa43-6690372d8ab3",
   "metadata": {},
   "outputs": [
    {
     "data": {
      "text/plain": [
       "False"
      ]
     },
     "execution_count": 30,
     "metadata": {},
     "output_type": "execute_result"
    }
   ],
   "source": [
    "a = 0.1\n",
    "a3 = 0.3\n",
    "a * 3 == a3   #in common sense, it should be true, but in Python it will cause problem."
   ]
  },
  {
   "cell_type": "code",
   "execution_count": 33,
   "id": "76aaa005-3f1a-4057-9d36-fb3a511df728",
   "metadata": {},
   "outputs": [
    {
     "data": {
      "text/plain": [
       "'0.29999999999999999'"
      ]
     },
     "execution_count": 33,
     "metadata": {},
     "output_type": "execute_result"
    }
   ],
   "source": [
    "f'{0.3:.17f}'     #Python store 0.3 as 0.2999999999999. cause problem"
   ]
  },
  {
   "attachments": {},
   "cell_type": "markdown",
   "id": "4b037f82",
   "metadata": {},
   "source": [
    "## 4.2 A solution"
   ]
  },
  {
   "cell_type": "code",
   "execution_count": 35,
   "id": "92753809-d941-404d-9527-19fdf0f1ff2a",
   "metadata": {},
   "outputs": [
    {
     "data": {
      "text/plain": [
       "5.551115123125783e-17"
      ]
     },
     "execution_count": 35,
     "metadata": {},
     "output_type": "execute_result"
    }
   ],
   "source": [
    "a*3 - a3  #normally it should be 0, but in Python , here is a very small number"
   ]
  },
  {
   "cell_type": "code",
   "execution_count": 37,
   "id": "3bb1402e-d19e-4567-800c-f68f5b549253",
   "metadata": {},
   "outputs": [
    {
     "data": {
      "text/plain": [
       "True"
      ]
     },
     "execution_count": 37,
     "metadata": {},
     "output_type": "execute_result"
    }
   ],
   "source": [
    "(a*3 - a3) < 1E-10    #instead of checking whether thay are equal, we can check whether they are close"
   ]
  },
  {
   "cell_type": "code",
   "execution_count": 18,
   "id": "7ab0ee0d-b505-4ae9-b2a7-b178f45bf5b1",
   "metadata": {},
   "outputs": [],
   "source": [
    "import numpy as np"
   ]
  },
  {
   "cell_type": "code",
   "execution_count": 40,
   "id": "82cd29bb-ba74-44ee-93f1-c01df22c8dbf",
   "metadata": {},
   "outputs": [
    {
     "data": {
      "text/plain": [
       "True"
      ]
     },
     "execution_count": 40,
     "metadata": {},
     "output_type": "execute_result"
    }
   ],
   "source": [
    "np.isclose(a*3,a3)    #Numpy has a function to check whether they are close"
   ]
  },
  {
   "attachments": {},
   "cell_type": "markdown",
   "id": "7ae41716",
   "metadata": {},
   "source": [
    "# 5 Combining English and variables"
   ]
  },
  {
   "attachments": {},
   "cell_type": "markdown",
   "id": "6ad1fa94",
   "metadata": {},
   "source": [
    "## 5.1 Structure of f-strings"
   ]
  },
  {
   "cell_type": "markdown",
   "id": "bca8fa8c-dfec-419e-8148-5214e289a051",
   "metadata": {},
   "source": [
    "### Example 1"
   ]
  },
  {
   "cell_type": "code",
   "execution_count": 6,
   "id": "a68a0ae5-335f-4d5f-b0d7-7a505c03e192",
   "metadata": {},
   "outputs": [
    {
     "name": "stdout",
     "output_type": "stream",
     "text": [
      "Hello {name}!\n"
     ]
    }
   ],
   "source": [
    "name = \"Batman\"\n",
    "print(\"Hello {name}!\")"
   ]
  },
  {
   "cell_type": "markdown",
   "id": "fb163e8c-f627-40aa-bb27-beb83ef3e4ab",
   "metadata": {},
   "source": [
    "### Example 2"
   ]
  },
  {
   "cell_type": "code",
   "execution_count": 7,
   "id": "977c0384-42b2-4b0d-9d6b-1d7721cb6f9e",
   "metadata": {},
   "outputs": [
    {
     "name": "stdout",
     "output_type": "stream",
     "text": [
      "Hello Batman!\n"
     ]
    }
   ],
   "source": [
    "name = \"Batman\"\n",
    "print(f\"Hello {name}!\")      # print the Hello with the variable name.\n",
    "                            # f is used to ignore the {}."
   ]
  },
  {
   "cell_type": "markdown",
   "id": "88f7690e-a19b-4b22-b9fb-565c04982bd8",
   "metadata": {},
   "source": [
    "### Example 3"
   ]
  },
  {
   "cell_type": "code",
   "execution_count": 8,
   "id": "28f79872-c8ee-415d-83a4-eb7628a3c416",
   "metadata": {},
   "outputs": [
    {
     "name": "stdout",
     "output_type": "stream",
     "text": [
      "Hello BATMAN!\n"
     ]
    }
   ],
   "source": [
    "name = \"Batman\"\n",
    "print(f\"Hello {name.upper()}!\")     # .upper() function used to Capitalisinh all the letter in name"
   ]
  },
  {
   "cell_type": "markdown",
   "id": "0667fdec-2ea0-49ab-baea-97bc44c6d656",
   "metadata": {},
   "source": [
    "### Example 4"
   ]
  },
  {
   "cell_type": "code",
   "execution_count": 11,
   "id": "b285d41c-a069-4522-b713-e10191dd9a84",
   "metadata": {},
   "outputs": [
    {
     "name": "stdout",
     "output_type": "stream",
     "text": [
      "The value of 8 squared is 64!\n"
     ]
    }
   ],
   "source": [
    "x = 8\n",
    "print(f\"The value of {x} squared is {x**2}!\")"
   ]
  },
  {
   "cell_type": "markdown",
   "id": "c7036e96-3112-4c29-b744-d43356c2b622",
   "metadata": {},
   "source": [
    "### 5.1.1 Remember"
   ]
  },
  {
   "cell_type": "markdown",
   "id": "f0b58511-d4d0-4537-8de9-e03880c1b5c2",
   "metadata": {},
   "source": [
    "`f` and the `{}` in the above command is called **f-string** (**string interpolation**)"
   ]
  },
  {
   "cell_type": "markdown",
   "id": "2f5754de-7cf1-4f90-a566-0ec99955dd8f",
   "metadata": {},
   "source": [
    "### Example 1"
   ]
  },
  {
   "cell_type": "code",
   "execution_count": 13,
   "id": "97496703-488d-479f-8bfd-bd5b5dcbbf44",
   "metadata": {},
   "outputs": [
    {
     "name": "stdout",
     "output_type": "stream",
     "text": [
      "Bruce Wayne is Batman.\n"
     ]
    }
   ],
   "source": [
    "text = 'Bruce Wayne is Batman.'\n",
    "print(f'{text}')"
   ]
  },
  {
   "cell_type": "code",
   "execution_count": null,
   "id": "a73ba978-50a1-460f-8443-7275e8396c4f",
   "metadata": {},
   "outputs": [],
   "source": [
    "print(f'{text:>30}')      # A block of 30 characters;\n",
    "                          # aligned right"
   ]
  },
  {
   "cell_type": "code",
   "execution_count": 15,
   "id": "9da4b0b0-940b-4947-b2a0-47783fea73ba",
   "metadata": {},
   "outputs": [
    {
     "name": "stdout",
     "output_type": "stream",
     "text": [
      "    Bruce Wayne is Batman.    \n"
     ]
    }
   ],
   "source": [
    "print(f'{text:^30}')      # A block of 30 characters;\n",
    "                          # aligned centre"
   ]
  },
  {
   "cell_type": "code",
   "execution_count": 16,
   "id": "3acb3d58-c097-4c20-b085-fffab87cd934",
   "metadata": {},
   "outputs": [
    {
     "name": "stdout",
     "output_type": "stream",
     "text": [
      "Bruce Wayne is Batman.        \n"
     ]
    }
   ],
   "source": [
    "print(f'{text:<30}')      # A block of 30 characters;\n",
    "                          # aligned left"
   ]
  },
  {
   "cell_type": "markdown",
   "id": "d24bb6ac-7a7c-43ea-a181-39e85c4a8733",
   "metadata": {},
   "source": [
    "### Example 2"
   ]
  },
  {
   "cell_type": "code",
   "execution_count": 19,
   "id": "6db65186-7b79-4e6b-a30c-ee9eb7260a60",
   "metadata": {},
   "outputs": [
    {
     "name": "stdout",
     "output_type": "stream",
     "text": [
      "The cube of pi to 6 decimal places is 31.006277\n"
     ]
    }
   ],
   "source": [
    "print(f'The cube of pi to 6 decimal places is {np.pi**3:.6f}')"
   ]
  },
  {
   "cell_type": "code",
   "execution_count": 26,
   "id": "45b79251-7782-47a9-b068-b9d9ef5c72f8",
   "metadata": {},
   "outputs": [
    {
     "name": "stdout",
     "output_type": "stream",
     "text": [
      "The cube of pi to 6 decimal places is 31.006276680299816206343166413716971874237060546875000000000000\n"
     ]
    }
   ],
   "source": [
    "print(f'The cube of pi to 6 decimal places is {np.pi**3:05.60f}')"
   ]
  },
  {
   "cell_type": "code",
   "execution_count": 49,
   "id": "919c4932-9546-44a9-ba63-51347ef9b49b",
   "metadata": {},
   "outputs": [
    {
     "name": "stdout",
     "output_type": "stream",
     "text": [
      "                                             0.064\n"
     ]
    }
   ],
   "source": [
    "print(f'{22/7**3:50.3f}')"
   ]
  },
  {
   "cell_type": "code",
   "execution_count": 45,
   "id": "e4aa2875-324d-45ce-9bd2-af7b7fc1dd90",
   "metadata": {},
   "outputs": [
    {
     "name": "stdout",
     "output_type": "stream",
     "text": [
      "0.064139941690962098963524340434\n"
     ]
    }
   ],
   "source": [
    "print(f'{22/7**3:05.30f}')"
   ]
  },
  {
   "cell_type": "code",
   "execution_count": 44,
   "id": "a48ba9f9-737b-44b8-9108-93ba7a18336a",
   "metadata": {},
   "outputs": [
    {
     "name": "stdout",
     "output_type": "stream",
     "text": [
      "                  0.064139941690962098963524340434\n"
     ]
    }
   ],
   "source": [
    "print(f'{22/7**3:50.30f}')"
   ]
  },
  {
   "cell_type": "code",
   "execution_count": 48,
   "id": "0d74a4b1-f7fb-4054-8508-1495bf8696cf",
   "metadata": {},
   "outputs": [
    {
     "name": "stdout",
     "output_type": "stream",
     "text": [
      "0000000000000000000.064139941690962098963524340434\n"
     ]
    }
   ],
   "source": [
    "print(f'{22/7**3:050.30f}')"
   ]
  },
  {
   "cell_type": "code",
   "execution_count": 4,
   "id": "05aab94d-dcd4-4e81-abab-8eb9f1fc1f51",
   "metadata": {},
   "outputs": [
    {
     "name": "stdout",
     "output_type": "stream",
     "text": [
      "                                            0.0641\n"
     ]
    }
   ],
   "source": [
    "print(f'{22/7**3:50.3g}')"
   ]
  },
  {
   "cell_type": "markdown",
   "id": "48fbee0a-9fb0-4718-b516-3a538f0cebd5",
   "metadata": {},
   "source": [
    "### Example 3"
   ]
  },
  {
   "cell_type": "code",
   "execution_count": 22,
   "id": "759a0411-8296-41bd-9873-acf86c9020ac",
   "metadata": {},
   "outputs": [
    {
     "name": "stdout",
     "output_type": "stream",
     "text": [
      "The cube of pi to 6 decimal places is 3.100628e+01\n"
     ]
    }
   ],
   "source": [
    "print(f'The cube of pi to 6 decimal places is {np.pi**3:.6e}')"
   ]
  },
  {
   "cell_type": "markdown",
   "id": "decc032f-5ab3-405d-982d-7ab04039187d",
   "metadata": {},
   "source": [
    "| Letter |             Action             |                                        Possible Option                                       |\r\n",
    "|:------:|:------------------------------:|:--------------------------------------------------------------------------------------------:|\r\n",
    "|   `X`  |       Variable to format       |                                   Can be a number or string                                  |\r\n",
    "|   `>`  |            Alignment           |  <li>`<`(Left justified)</li> <li> `>`(Right justified)</li> <li> `^`(Centre justified)</li> |\r\n",
    "|   `0`  |    Use 0's to pad the spaces   |                                     ` ` space is also Ok                                     |\r\n",
    "|   `Y`  |   Total number of characters   |                                                                                              |\r\n",
    "|   `Z`  |    Number of decimal places    |                                                                                              |\r\n",
    "|   `W`  | Specifies the type of variable |        <li> `f`(float)</li> <li> `d`(integer)</li> <li> `s`(string)</li> <li> `g`</li>       |      |      |      |      |      |      |"
   ]
  },
  {
   "cell_type": "markdown",
   "id": "e364b10b-6ebc-452a-97dd-87fa997ea5d4",
   "metadata": {},
   "source": [
    "Extra contents: We can use `<li>` and `</li>` to create bullet points in table"
   ]
  },
  {
   "cell_type": "code",
   "execution_count": null,
   "id": "3bef4fbf-1629-4133-80ef-a3e42fa56425",
   "metadata": {},
   "outputs": [],
   "source": [
    "# Sorry, sir, for the \"g\" specifier, I can't really understand how we could use it."
   ]
  },
  {
   "attachments": {},
   "cell_type": "markdown",
   "id": "6abafd9d",
   "metadata": {},
   "source": [
    "# 6 Escape sequences"
   ]
  },
  {
   "cell_type": "code",
   "execution_count": 36,
   "id": "4e7c6aa4-1abd-4d15-a10a-99fc4857946f",
   "metadata": {},
   "outputs": [
    {
     "name": "stdout",
     "output_type": "stream",
     "text": [
      "Line 1\n",
      "\tLine 2\n",
      "\t\tLine 3\n"
     ]
    }
   ],
   "source": [
    "print('Line 1\\n\\tLine 2\\n\\t\\tLine 3')      #\\n means start with new line, \\t means start with a tab"
   ]
  },
  {
   "cell_type": "markdown",
   "id": "d3dae76c-b3ac-4340-b440-85937eae912e",
   "metadata": {},
   "source": [
    "### Example 1"
   ]
  },
  {
   "cell_type": "code",
   "execution_count": 37,
   "id": "7f662b27-9544-400b-bc03-7dd508d522e4",
   "metadata": {},
   "outputs": [
    {
     "name": "stdout",
     "output_type": "stream",
     "text": [
      "You're twenty years old.\n"
     ]
    }
   ],
   "source": [
    "print('You\\'re twenty years old.')    #\\' use to ignore '"
   ]
  },
  {
   "cell_type": "markdown",
   "id": "e6353e87-2f37-49ab-a92d-daa03a16d7eb",
   "metadata": {},
   "source": [
    "### Example 2"
   ]
  },
  {
   "cell_type": "code",
   "execution_count": 38,
   "id": "be772c63-645f-4725-9d7c-e88ad255847b",
   "metadata": {},
   "outputs": [
    {
     "name": "stdout",
     "output_type": "stream",
     "text": [
      "A\\B\\C\n"
     ]
    }
   ],
   "source": [
    "print('A\\\\B\\\\C')      #\\\\ use to ignore one of \\"
   ]
  },
  {
   "cell_type": "markdown",
   "id": "3e7ea916-c912-451d-9e84-93fba4b06a86",
   "metadata": {},
   "source": [
    "### Example 3"
   ]
  },
  {
   "cell_type": "code",
   "execution_count": 40,
   "id": "9ef3bde2-c32a-45e9-a5c5-ce11298ff2c7",
   "metadata": {},
   "outputs": [
    {
     "name": "stdout",
     "output_type": "stream",
     "text": [
      "A\n",
      "B\n",
      "C\n"
     ]
    }
   ],
   "source": [
    "print('A\\nB\\nC')"
   ]
  },
  {
   "cell_type": "markdown",
   "id": "59db3027-b3d8-4cc6-bdeb-bff872afb3bb",
   "metadata": {},
   "source": [
    "### Example 4"
   ]
  },
  {
   "cell_type": "code",
   "execution_count": 41,
   "id": "ef6f95f0-536a-4788-95ad-755864f1ec66",
   "metadata": {},
   "outputs": [
    {
     "name": "stdout",
     "output_type": "stream",
     "text": [
      "A\tB\tC\n"
     ]
    }
   ],
   "source": [
    "print('A\\tB\\tC')"
   ]
  },
  {
   "attachments": {},
   "cell_type": "markdown",
   "id": "ef282d39",
   "metadata": {},
   "source": [
    "# 7 Computers read = from Right to Left!"
   ]
  },
  {
   "cell_type": "code",
   "execution_count": 43,
   "id": "91f9e932-7ca9-4c37-b036-b40bf81e2151",
   "metadata": {},
   "outputs": [],
   "source": [
    "x = 40\n",
    "y = x + 2"
   ]
  },
  {
   "cell_type": "code",
   "execution_count": 54,
   "id": "3934ced4-2a9a-4b1e-895c-cca6beab46b9",
   "metadata": {},
   "outputs": [
    {
     "name": "stdout",
     "output_type": "stream",
     "text": [
      "42\n"
     ]
    }
   ],
   "source": [
    "y = 40\n",
    "y = y + 2     #From right to left, first + 2 to the y, then set this value to the y\n",
    "print(y)"
   ]
  },
  {
   "cell_type": "code",
   "execution_count": 47,
   "id": "b6fffca8-77f5-4267-8f3f-f74018733c46",
   "metadata": {},
   "outputs": [],
   "source": [
    "x = y = 10"
   ]
  },
  {
   "attachments": {},
   "cell_type": "markdown",
   "id": "99d7b392",
   "metadata": {},
   "source": [
    "# 8 Shorter and Cleaner Code"
   ]
  },
  {
   "cell_type": "code",
   "execution_count": 52,
   "id": "d441d4f1-71af-43a6-abb4-5857d0597cbe",
   "metadata": {},
   "outputs": [
    {
     "data": {
      "text/plain": [
       "42"
      ]
     },
     "execution_count": 52,
     "metadata": {},
     "output_type": "execute_result"
    }
   ],
   "source": [
    "y = 40\n",
    "y = y + 2\n",
    "y"
   ]
  },
  {
   "cell_type": "code",
   "execution_count": 53,
   "id": "7b58f32f-dd97-4c17-b934-098b0c49ebe1",
   "metadata": {},
   "outputs": [
    {
     "data": {
      "text/plain": [
       "42"
      ]
     },
     "execution_count": 53,
     "metadata": {},
     "output_type": "execute_result"
    }
   ],
   "source": [
    "y = 40\n",
    "y += 2    # Same as y = y + 2\n",
    "y"
   ]
  },
  {
   "cell_type": "markdown",
   "id": "dd810137-dab1-44f6-89c1-e9cc9c9bd464",
   "metadata": {},
   "source": [
    "|                | **Long form** | **short form** |\r\n",
    "|----------------|---------------|----------------|\r\n",
    "| Addition       |   `y = y+2`   |    `y += 2`    |\r\n",
    "| Subtraction    |   `y = y-2`   |    `y -= 2`    |\r\n",
    "| Multiplication |   `y = y*2`   |    `y *= 2`    |\r\n",
    "| Division       |   `y = y/2`   |    `y /= 2`    |"
   ]
  },
  {
   "attachments": {},
   "cell_type": "markdown",
   "id": "e63cabb0",
   "metadata": {},
   "source": [
    "# 9 Python can be a prima-donna."
   ]
  },
  {
   "cell_type": "code",
   "execution_count": 55,
   "id": "992bf515-600f-44d3-a907-348e340935a5",
   "metadata": {},
   "outputs": [
    {
     "ename": "SyntaxError",
     "evalue": "incomplete input (149104261.py, line 1)",
     "output_type": "error",
     "traceback": [
      "\u001b[1;36m  Cell \u001b[1;32mIn[55], line 1\u001b[1;36m\u001b[0m\n\u001b[1;33m    print(\u001b[0m\n\u001b[1;37m          ^\u001b[0m\n\u001b[1;31mSyntaxError\u001b[0m\u001b[1;31m:\u001b[0m incomplete input\n"
     ]
    }
   ],
   "source": [
    "print("
   ]
  },
  {
   "cell_type": "markdown",
   "id": "c102ddef-fb82-4c5d-8084-22536b88e152",
   "metadata": {},
   "source": [
    "- Don't be afraid of errors in code and programs. The error allows us to have a chance to fix it and debug the code. More debugging means a deeper understanding of the knowledge."
   ]
  },
  {
   "attachments": {},
   "cell_type": "markdown",
   "id": "01835bfb",
   "metadata": {},
   "source": [
    "# 10 Best Practices for Scientific Computing"
   ]
  },
  {
   "cell_type": "markdown",
   "id": "126b0a9d-5373-4595-9df9-423f83c34c62",
   "metadata": {},
   "source": [
    "- **Write programs for people, not computers.**\n",
    "- **Optimise software only after it works correctly.**\n",
    "- **Document design and purpose, not mechanics.**\n",
    "- **Collaborate.**"
   ]
  },
  {
   "cell_type": "markdown",
   "id": "4c80349a-4cec-4e51-9c5b-1bca7eaa8903",
   "metadata": {},
   "source": [
    "**Tips**: Always start simple and get something working first before making it perfect."
   ]
  },
  {
   "attachments": {},
   "cell_type": "markdown",
   "id": "803778d8",
   "metadata": {},
   "source": [
    "# 12 Looking for help"
   ]
  },
  {
   "cell_type": "code",
   "execution_count": 57,
   "id": "a8a314ba-0da2-4abd-8129-858383d18d47",
   "metadata": {},
   "outputs": [
    {
     "name": "stdout",
     "output_type": "stream",
     "text": [
      "Help on built-in function print in module builtins:\n",
      "\n",
      "print(*args, sep=' ', end='\\n', file=None, flush=False)\n",
      "    Prints the values to a stream, or to sys.stdout by default.\n",
      "    \n",
      "    sep\n",
      "      string inserted between values, default a space.\n",
      "    end\n",
      "      string appended after the last value, default a newline.\n",
      "    file\n",
      "      a file-like object (stream); defaults to the current sys.stdout.\n",
      "    flush\n",
      "      whether to forcibly flush the stream.\n",
      "\n"
     ]
    }
   ],
   "source": [
    "help(print)"
   ]
  },
  {
   "cell_type": "markdown",
   "id": "ef703f2f-a69b-4a3c-b17a-6bd6ed7c3c4a",
   "metadata": {},
   "source": [
    "- Would be better if just ask Chatgp, friends or tutors."
   ]
  },
  {
   "attachments": {},
   "cell_type": "markdown",
   "id": "2f3ee5e3",
   "metadata": {},
   "source": [
    "## References"
   ]
  },
  {
   "attachments": {},
   "cell_type": "markdown",
   "id": "eb3e1c74",
   "metadata": {},
   "source": [
    "## Footnotes"
   ]
  }
 ],
 "metadata": {
  "kernelspec": {
   "display_name": "Python 3 (ipykernel)",
   "language": "python",
   "name": "python3"
  },
  "language_info": {
   "codemirror_mode": {
    "name": "ipython",
    "version": 3
   },
   "file_extension": ".py",
   "mimetype": "text/x-python",
   "name": "python",
   "nbconvert_exporter": "python",
   "pygments_lexer": "ipython3",
   "version": "3.11.5"
  },
  "toc": {
   "base_numbering": 1,
   "nav_menu": {},
   "number_sections": true,
   "sideBar": true,
   "skip_h1_title": false,
   "title_cell": "Table of Contents",
   "title_sidebar": "Contents",
   "toc_cell": false,
   "toc_position": {},
   "toc_section_display": true,
   "toc_window_display": false
  },
  "vscode": {
   "interpreter": {
    "hash": "31f2aee4e71d21fbe5cf8b01ff0e069b9275f58929596ceb00d14d90e3e16cd6"
   }
  }
 },
 "nbformat": 4,
 "nbformat_minor": 5
}
