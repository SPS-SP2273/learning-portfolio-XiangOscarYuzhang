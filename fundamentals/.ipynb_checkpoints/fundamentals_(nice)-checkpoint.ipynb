{
 "cells": [
  {
   "attachments": {},
   "cell_type": "markdown",
   "id": "123456",
   "metadata": {},
   "source": [
    "<div style=\"text-align:left;font-size:2em\"><span style=\"font-weight:bolder;font-size:1.25em\">SP2273 | Learning Portfolio</span><br><br><span style=\"font-weight:bold;color:darkred\">Fundamentals (Nice)</span></div>"
   ]
  },
  {
   "attachments": {},
   "cell_type": "markdown",
   "id": "6a27ae2e",
   "metadata": {},
   "source": [
    "# 1 If if is not enough"
   ]
  },
  {
   "cell_type": "markdown",
   "id": "2296c831-1fbd-42ae-8850-91a93e565705",
   "metadata": {},
   "source": [
    "- When `if`, `elif`and `else` is not enough, we could use `match` and `case`."
   ]
  },
  {
   "cell_type": "code",
   "execution_count": 5,
   "id": "2d858b97-b8bf-47fd-b9cd-340da6b5d308",
   "metadata": {},
   "outputs": [
    {
     "name": "stdout",
     "output_type": "stream",
     "text": [
      "You are 18 years old, welcome to univeristy.\n"
     ]
    }
   ],
   "source": [
    "age = 18\n",
    "\n",
    "match age:\n",
    "    case 0:\n",
    "        print('Whoa, you are a newborn baby! Say hello to this world')\n",
    "    case 18:\n",
    "        print('You are 18 years old, welcome to univeristy.')\n",
    "    case _:             # _ is similar to elsewhere all rest of the conditions are included.\n",
    "        print('You are neither 0 nor 18 years old, how old are you?')"
   ]
  },
  {
   "attachments": {},
   "cell_type": "markdown",
   "id": "428104b6",
   "metadata": {},
   "source": [
    "# 2 Ternary operators or Conditional Statements"
   ]
  },
  {
   "cell_type": "markdown",
   "id": "b07dafe5-2d14-45d1-ba84-f2c58751492e",
   "metadata": {},
   "source": [
    "- **ternary operators** is more friendly for readers to the read the code"
   ]
  },
  {
   "cell_type": "code",
   "execution_count": 21,
   "id": "808ced9a-5466-44ab-a159-3034ce329d1a",
   "metadata": {},
   "outputs": [
    {
     "name": "stdout",
     "output_type": "stream",
     "text": [
      "Bonjour!\n"
     ]
    }
   ],
   "source": [
    "nationality = 'French'\n",
    "\n",
    "if nationality == 'French':\n",
    "    greeting = \"Bonjour!\"\n",
    "else:\n",
    "    greeting = \"Hello!\"\n",
    "\n",
    "print(greeting)"
   ]
  },
  {
   "cell_type": "code",
   "execution_count": 29,
   "id": "da302d43-1e3b-4177-b118-6a8ffda5476f",
   "metadata": {},
   "outputs": [
    {
     "name": "stdout",
     "output_type": "stream",
     "text": [
      "Bonjour!\n"
     ]
    }
   ],
   "source": [
    "greeting = \"Bonjour!\" if nationality == 'French' else \"Hello!\"\n",
    "print(greeting)"
   ]
  },
  {
   "cell_type": "code",
   "execution_count": 26,
   "id": "258f271f-bff6-46c4-938d-86c47e285f4b",
   "metadata": {},
   "outputs": [
    {
     "data": {
      "text/plain": [
       "'Bonjour!'"
      ]
     },
     "execution_count": 26,
     "metadata": {},
     "output_type": "execute_result"
    }
   ],
   "source": [
    "(\"Hello!\", \"Bonjour!\")[nationality == 'French']"
   ]
  },
  {
   "attachments": {},
   "cell_type": "markdown",
   "id": "eb7b893e",
   "metadata": {},
   "source": [
    "# 3 Swapping values"
   ]
  },
  {
   "cell_type": "code",
   "execution_count": 32,
   "id": "54a627d0-d255-4970-9f22-cc4e0240d5ad",
   "metadata": {},
   "outputs": [
    {
     "name": "stdout",
     "output_type": "stream",
     "text": [
      "2 1\n"
     ]
    }
   ],
   "source": [
    "a, b = 1, 2\n",
    "a, b = b, a            #remember, python runs code from right to left.\n",
    "print(a, b)"
   ]
  },
  {
   "attachments": {},
   "cell_type": "markdown",
   "id": "25932e9d",
   "metadata": {},
   "source": [
    "# 4 There are more types"
   ]
  },
  {
   "cell_type": "code",
   "execution_count": 37,
   "id": "735e4542-caf8-42de-a27b-c58762541bf7",
   "metadata": {},
   "outputs": [],
   "source": [
    "import numpy as np"
   ]
  },
  {
   "cell_type": "code",
   "execution_count": 41,
   "id": "ad881f11-fe4a-48b7-84d4-0495e9f5ef4d",
   "metadata": {},
   "outputs": [
    {
     "ename": "AttributeError",
     "evalue": "module 'numpy' has no attribute 'float128'",
     "output_type": "error",
     "traceback": [
      "\u001b[1;31m---------------------------------------------------------------------------\u001b[0m",
      "\u001b[1;31mAttributeError\u001b[0m                            Traceback (most recent call last)",
      "Cell \u001b[1;32mIn[41], line 6\u001b[0m\n\u001b[0;32m      1\u001b[0m my_types \u001b[38;5;241m=\u001b[39m [\n\u001b[0;32m      2\u001b[0m     \u001b[38;5;28mfloat\u001b[39m,       \u001b[38;5;66;03m# Default for core Python on my machine\u001b[39;00m\n\u001b[0;32m      3\u001b[0m     np\u001b[38;5;241m.\u001b[39mfloat16,\n\u001b[0;32m      4\u001b[0m     np\u001b[38;5;241m.\u001b[39mfloat32,\n\u001b[0;32m      5\u001b[0m     np\u001b[38;5;241m.\u001b[39mfloat64,\n\u001b[1;32m----> 6\u001b[0m     \u001b[43mnp\u001b[49m\u001b[38;5;241;43m.\u001b[39;49m\u001b[43mfloat128\u001b[49m\n\u001b[0;32m      7\u001b[0m ]\n\u001b[0;32m      9\u001b[0m \u001b[38;5;28;01mfor\u001b[39;00m my_type \u001b[38;5;129;01min\u001b[39;00m my_types:\n\u001b[0;32m     10\u001b[0m     \u001b[38;5;28mprint\u001b[39m(\u001b[38;5;124mf\u001b[39m\u001b[38;5;124m'\u001b[39m\u001b[38;5;132;01m{\u001b[39;00mmy_type\u001b[38;5;241m.\u001b[39m\u001b[38;5;18m__name__\u001b[39m\u001b[38;5;132;01m:\u001b[39;00m\u001b[38;5;124m<15s\u001b[39m\u001b[38;5;132;01m}\u001b[39;00m\u001b[38;5;124m:\u001b[39m\u001b[38;5;124m'\u001b[39m, np\u001b[38;5;241m.\u001b[39mfinfo(my_type)\u001b[38;5;241m.\u001b[39meps)  \u001b[38;5;66;03m# Sorry but i don't know why there is no float128 here \u001b[39;00m\n",
      "File \u001b[1;32m~\\miniconda3\\Lib\\site-packages\\numpy\\__init__.py:333\u001b[0m, in \u001b[0;36m__getattr__\u001b[1;34m(attr)\u001b[0m\n\u001b[0;32m    330\u001b[0m     \u001b[38;5;124m\"\u001b[39m\u001b[38;5;124mRemoved in NumPy 1.25.0\u001b[39m\u001b[38;5;124m\"\u001b[39m\n\u001b[0;32m    331\u001b[0m     \u001b[38;5;28;01mraise\u001b[39;00m \u001b[38;5;167;01mRuntimeError\u001b[39;00m(\u001b[38;5;124m\"\u001b[39m\u001b[38;5;124mTester was removed in NumPy 1.25.\u001b[39m\u001b[38;5;124m\"\u001b[39m)\n\u001b[1;32m--> 333\u001b[0m \u001b[38;5;28;01mraise\u001b[39;00m \u001b[38;5;167;01mAttributeError\u001b[39;00m(\u001b[38;5;124m\"\u001b[39m\u001b[38;5;124mmodule \u001b[39m\u001b[38;5;132;01m{!r}\u001b[39;00m\u001b[38;5;124m has no attribute \u001b[39m\u001b[38;5;124m\"\u001b[39m\n\u001b[0;32m    334\u001b[0m                      \u001b[38;5;124m\"\u001b[39m\u001b[38;5;132;01m{!r}\u001b[39;00m\u001b[38;5;124m\"\u001b[39m\u001b[38;5;241m.\u001b[39mformat(\u001b[38;5;18m__name__\u001b[39m, attr))\n",
      "\u001b[1;31mAttributeError\u001b[0m: module 'numpy' has no attribute 'float128'"
     ]
    }
   ],
   "source": [
    "my_types = [\n",
    "    float,       # Default for core Python on my machine\n",
    "    np.float16,\n",
    "    np.float32,\n",
    "    np.float64,\n",
    "    np.float128\n",
    "]\n",
    "\n",
    "for my_type in my_types:\n",
    "    print(f'{my_type.__name__:<15s}:', np.finfo(my_type).eps)  # Sorry but i don't know why there is no float128 here "
   ]
  },
  {
   "cell_type": "code",
   "execution_count": 40,
   "id": "919882ea-451b-4b01-8b87-fe58d9dd553b",
   "metadata": {},
   "outputs": [
    {
     "name": "stdout",
     "output_type": "stream",
     "text": [
      "float          : 2.220446049250313e-16\n",
      "float16        : 0.000977\n",
      "float32        : 1.1920929e-07\n",
      "float64        : 2.220446049250313e-16\n"
     ]
    }
   ],
   "source": [
    "import numpy as np\n",
    "\n",
    "my_types = [\n",
    "    float,       # Default for core Python on my machine\n",
    "    np.float16,\n",
    "    np.float32,\n",
    "    np.float64,\n",
    "]\n",
    "\n",
    "for my_type in my_types:\n",
    "    print(f'{my_type.__name__:<15s}:', np.finfo(my_type).eps)\n"
   ]
  },
  {
   "attachments": {},
   "cell_type": "markdown",
   "id": "cedf381e",
   "metadata": {},
   "source": [
    "# 5 Operator precedance"
   ]
  },
  {
   "cell_type": "markdown",
   "id": "dfe39ddf-4b5e-4c5e-a717-b7f8ac8db4df",
   "metadata": {},
   "source": [
    "There is a pecking order in Python."
   ]
  },
  {
   "cell_type": "markdown",
   "id": "b2d9e1de-175f-4bbf-978b-b8437b62de7a",
   "metadata": {},
   "source": [
    "- Highest precedence at the top, lowest at the bottom.\n",
    "- Operators in the same box evaluate left to right. (The website is not available for me now.)"
   ]
  },
  {
   "cell_type": "markdown",
   "id": "b99db5d1-d8f5-406c-aeca-ce0a83ee82a1",
   "metadata": {},
   "source": [
    "| **Description**                     | **Operator**                                       |\r\n",
    "|-------------------------------------|----------------------------------------------------|\r\n",
    "| Parentheses                         |                        `()`                        |\r\n",
    "| Function call                       |                    `f(argument)`                   |\r\n",
    "| Slicing                             |                  `x[index:index]`                  |\r\n",
    "| Subscription                        |                     `x[index]`                     |\r\n",
    "| Attribute reference                 |                    `x.attribute`                   |\r\n",
    "| Exponentiation                      |                        `**`                        |\r\n",
    "| Bitwise not                         |                        `~x`                        |\r\n",
    "| Positive, negative                  |                      `+x, -x`                      |\r\n",
    "| Multiplication, Division, remainder |                      `*, / ,%`                     |\r\n",
    "| Addition,subtraction                |                       `+, -`                       |\r\n",
    "| Bitwise shifts                      |                      `<<, >>`                      |\r\n",
    "| Bitwise AND                         |                         `&`                        |\r\n",
    "| Bitwise XOR                         |                         `^`                        |\r\n",
    "| Bitwise OR                          |                        `\\|`                        |\r\n",
    "| Comparisons, membership, identity   | `in, not in, is, is not, <, <=, >, >=, <>, !=, ==` |\r\n",
    "| Boolean NOT                         |                       `not x`                      |\r\n",
    "| Boolean AND                         |                        `and`                       |\r\n",
    "| Boolean OR                          |                        `or`                        |\r\n",
    "| Lambda expression                   |                      `lambda`                      |"
   ]
  },
  {
   "attachments": {},
   "cell_type": "markdown",
   "id": "76674850",
   "metadata": {},
   "source": [
    "# 6 Variables in Python are just names"
   ]
  },
  {
   "attachments": {},
   "cell_type": "markdown",
   "id": "a218e9bb",
   "metadata": {},
   "source": [
    "## 6.1 The Problem"
   ]
  },
  {
   "cell_type": "markdown",
   "id": "1b997298-adad-4336-a3e0-84ab908cf0ef",
   "metadata": {},
   "source": [
    "My prediction: [1,2] [1,2,3]"
   ]
  },
  {
   "cell_type": "code",
   "execution_count": 43,
   "id": "c6e72704-7e97-4b0f-a7b3-5dc3e0f247ac",
   "metadata": {},
   "outputs": [
    {
     "name": "stdout",
     "output_type": "stream",
     "text": [
      "x: [1, 2, 3], y: [1, 2, 3]\n"
     ]
    }
   ],
   "source": [
    "x = [1, 2]\n",
    "y = x\n",
    "y.append(3)\n",
    "\n",
    "print(f\"x: {x}, y: {y}\")"
   ]
  },
  {
   "attachments": {},
   "cell_type": "markdown",
   "id": "c296a3ff",
   "metadata": {},
   "source": [
    "## 6.2 An explanation"
   ]
  },
  {
   "cell_type": "code",
   "execution_count": 44,
   "id": "f2167e47-2374-4c3d-a921-074a241b199e",
   "metadata": {},
   "outputs": [
    {
     "data": {
      "text/plain": [
       "'CODE 1'"
      ]
     },
     "execution_count": 44,
     "metadata": {},
     "output_type": "execute_result"
    }
   ],
   "source": [
    "'''CODE 1'''"
   ]
  },
  {
   "cell_type": "code",
   "execution_count": 45,
   "id": "aba5186b-edda-4d59-89bd-8bd315dc2648",
   "metadata": {},
   "outputs": [
    {
     "name": "stdout",
     "output_type": "stream",
     "text": [
      "x: 140724226528040, y: 140724226528040, 1: 140724226528040\n"
     ]
    }
   ],
   "source": [
    "x = 1\n",
    "y = 1\n",
    "\n",
    "print(f\"x: {id(x)}, y: {id(y)}, 1: {id(1)}\")   #both x,y have same ID"
   ]
  },
  {
   "cell_type": "markdown",
   "id": "b6cdade3-77ed-43ae-89f4-ceb4ee874353",
   "metadata": {},
   "source": [
    "**Before** the code is run, Python has things or **objects** `1`, `2` and `a` that have three properties **type**, **value** and **id**. For example, `1` can have the value 1, type `int`, and some id. `a` can have the value ‘a’, type `str` and some id.1."
   ]
  },
  {
   "cell_type": "markdown",
   "id": "19e40eea-b07f-4ecd-9df3-50341be89df5",
   "metadata": {},
   "source": [
    "**After** the code is run, `x` and `y` are ‘looking at’ or bound to `1`. So `x` and `y` are referred to as **names** that are **bound** to `1`."
   ]
  },
  {
   "cell_type": "code",
   "execution_count": 46,
   "id": "c2fd4b4e-2c59-42ae-82ff-dadb285bb8d5",
   "metadata": {},
   "outputs": [
    {
     "data": {
      "text/plain": [
       "'CODE 2'"
      ]
     },
     "execution_count": 46,
     "metadata": {},
     "output_type": "execute_result"
    }
   ],
   "source": [
    "'''CODE 2'''"
   ]
  },
  {
   "cell_type": "code",
   "execution_count": 47,
   "id": "319c8f42-abea-4d66-ad4e-c53f2677f682",
   "metadata": {},
   "outputs": [
    {
     "name": "stdout",
     "output_type": "stream",
     "text": [
      "x: 140724226528040, y: 140724226528072\n"
     ]
    }
   ],
   "source": [
    "x = 1\n",
    "y = x + 1\n",
    "\n",
    "print(f\"x: {id(x)}, y: {id(y)}\")"
   ]
  },
  {
   "cell_type": "code",
   "execution_count": 48,
   "id": "5b2a1cf5-4d81-4ca2-9f2d-c7dd91b011bd",
   "metadata": {},
   "outputs": [],
   "source": [
    "# x is bound to a list object with a value [1 ,2]\n",
    "x = [1, 2]\n",
    "\n",
    "# y is bound to the SAME list object with a value [1 ,2]\n",
    "y = x\n",
    "\n",
    "# y is used to change the value of the object from  [1, 2] to [1, 2, 3]\n",
    "y.append(3)"
   ]
  },
  {
   "cell_type": "markdown",
   "id": "3d35f843-7789-4005-80d0-cc63987186a1",
   "metadata": {},
   "source": [
    "Objects such as 1 whose values cannot be changed are called **immutable**. Other such immutable types are str(i.e., letters), float, bool."
   ]
  },
  {
   "cell_type": "markdown",
   "id": "c66e5c1a-6319-4472-b827-79288f549f81",
   "metadata": {},
   "source": [
    "There are also objects whose values **can** be changed. These types are called **mutable** and include lists and dictionaries and instances of classes. "
   ]
  },
  {
   "attachments": {},
   "cell_type": "markdown",
   "id": "57a51dd8",
   "metadata": {},
   "source": [
    "## 6.3 A solution"
   ]
  },
  {
   "cell_type": "markdown",
   "id": "4bcf7948-c31b-4651-884d-731abc5b6628",
   "metadata": {},
   "source": [
    "Independent copy can be obtained by:"
   ]
  },
  {
   "cell_type": "code",
   "execution_count": null,
   "id": "a7843e24-3558-4773-9c61-61ce19f16bb9",
   "metadata": {},
   "outputs": [],
   "source": [
    "y = x.copy()"
   ]
  },
  {
   "cell_type": "markdown",
   "id": "527736e1-619f-4e18-add2-409a371b0346",
   "metadata": {},
   "source": [
    "- Remember: Be careful when using **mutable** data types as variables"
   ]
  },
  {
   "attachments": {},
   "cell_type": "markdown",
   "id": "5f308167",
   "metadata": {},
   "source": [
    "# 7 == is not the same as is"
   ]
  },
  {
   "cell_type": "markdown",
   "id": "d5642029-110e-4bbe-861e-7b1a42180fb6",
   "metadata": {},
   "source": [
    "`x is y` checks for **identity**. i. e., it asks if x and y are bound to the same object by comparing the ID."
   ]
  },
  {
   "cell_type": "markdown",
   "id": "90a08e3d-cd11-4086-a4a7-ebf59301f7ac",
   "metadata": {},
   "source": [
    "`x == y` checks for **equality** by **running a function** that checks for equality (such as `_eq_` of a class). "
   ]
  },
  {
   "attachments": {},
   "cell_type": "markdown",
   "id": "1710977c",
   "metadata": {},
   "source": [
    "## Footnotes"
   ]
  }
 ],
 "metadata": {
  "kernelspec": {
   "display_name": "Python 3 (ipykernel)",
   "language": "python",
   "name": "python3"
  },
  "language_info": {
   "codemirror_mode": {
    "name": "ipython",
    "version": 3
   },
   "file_extension": ".py",
   "mimetype": "text/x-python",
   "name": "python",
   "nbconvert_exporter": "python",
   "pygments_lexer": "ipython3",
   "version": "3.11.5"
  },
  "toc": {
   "base_numbering": 1,
   "nav_menu": {},
   "number_sections": true,
   "sideBar": true,
   "skip_h1_title": false,
   "title_cell": "Table of Contents",
   "title_sidebar": "Contents",
   "toc_cell": false,
   "toc_position": {},
   "toc_section_display": true,
   "toc_window_display": false
  },
  "vscode": {
   "interpreter": {
    "hash": "31f2aee4e71d21fbe5cf8b01ff0e069b9275f58929596ceb00d14d90e3e16cd6"
   }
  }
 },
 "nbformat": 4,
 "nbformat_minor": 5
}
